{
 "cells": [
  {
   "cell_type": "markdown",
   "metadata": {
    "id": "Tajfsk_7JY3E"
   },
   "source": [
    "**Note to grader:** Each question (e.g., Q1-1) is assigned with 5 points. The final score  will be (sum of actual scores)/(sum of maximum scores)*100. The grading rubrics are shown in the TA guidelines."
   ]
  },
  {
   "cell_type": "markdown",
   "metadata": {
    "id": "SArgW_Vq-uTh"
   },
   "source": [
    "# **Assignment 3**\n",
    "\n",
    "The goal in this assignment to work a little more with Python, do some practice with logistic regression, reflect on how it can fail to work on linearly separable data. You will also work with a support vector classifier. All that, still on \"toy\" data sets.\n",
    "\n",
    "We will work with the first 'real' data sets in the next assignment."
   ]
  },
  {
   "cell_type": "markdown",
   "metadata": {
    "id": "IlFM4hig-uTj"
   },
   "source": [
    "## **Preparation Steps**"
   ]
  },
  {
   "cell_type": "code",
   "execution_count": 1,
   "metadata": {
    "id": "E3alYkjM-uTk"
   },
   "outputs": [],
   "source": [
    "# Import all necessary python packages\n",
    "import numpy as np\n",
    "import os\n",
    "import pandas as pd\n",
    "import matplotlib.pyplot as plt\n",
    "from matplotlib.colors import ListedColormap\n",
    "from sklearn.linear_model import LogisticRegression"
   ]
  },
  {
   "cell_type": "code",
   "execution_count": 2,
   "metadata": {
    "colab": {
     "base_uri": "https://localhost:8080/"
    },
    "executionInfo": {
     "elapsed": 874,
     "status": "ok",
     "timestamp": 1665163548078,
     "user": {
      "displayName": "Lijing Wang",
      "userId": "05105768752847961544"
     },
     "user_tz": 240
    },
    "id": "eTVa-fum-uTt",
    "outputId": "03ba51e4-664e-41de-dffe-c172c42a5553"
   },
   "outputs": [
    {
     "name": "stdout",
     "output_type": "stream",
     "text": [
      "URL: https://archive.ics.uci.edu/ml/machine-learning-databases/iris/iris.data\n"
     ]
    }
   ],
   "source": [
    "# ### Reading-in the Iris data\n",
    "# Iris data description: http://www.lac.inpe.br/~rafael.santos/Docs/CAP394/WholeStory-Iris.html#:~:text=The%20Iris%20Dataset%20contains%20four,model%20to%20classify%20the%20species.\n",
    "\n",
    "\n",
    "s = os.path.join('https://archive.ics.uci.edu', 'ml',\n",
    "                 'machine-learning-databases', 'iris','iris.data')\n",
    "s = s.replace(\"\\\\\",\"/\");\n",
    "print('URL:', s)\n",
    "df = pd.read_csv(s,header=None,encoding='utf-8')\n"
   ]
  },
  {
   "cell_type": "code",
   "execution_count": 3,
   "metadata": {
    "colab": {
     "base_uri": "https://localhost:8080/",
     "height": 279
    },
    "executionInfo": {
     "elapsed": 634,
     "status": "ok",
     "timestamp": 1665163551706,
     "user": {
      "displayName": "Lijing Wang",
      "userId": "05105768752847961544"
     },
     "user_tz": 240
    },
    "id": "cqzyfFCC-uTz",
    "outputId": "e2172439-1378-48e6-ce57-2ce8eed7115b"
   },
   "outputs": [
    {
     "data": {
      "image/png": "[encoded data removed]",
      "text/plain": [
       "<Figure size 640x480 with 1 Axes>"
      ]
     },
     "metadata": {},
     "output_type": "display_data"
    }
   ],
   "source": [
    "# select setosa and versicolor for binary classification\n",
    "y = df.iloc[0:100, 4].values\n",
    "y = np.where(y == 'Iris-setosa', -1, 1)\n",
    "\n",
    "# extract sepal length and petal length\n",
    "X = df.iloc[:100, [0, 2]].values\n",
    "\n",
    "# plot data\n",
    "plt.scatter(X[:50, 0], X[:50, 1],\n",
    "            color='red', marker='o', label='setosa')\n",
    "plt.scatter(X[50:100, 0], X[50:100, 1],\n",
    "            color='blue', marker='x', label='versicolor')\n",
    "\n",
    "plt.xlabel('sepal length [cm]')\n",
    "plt.ylabel('petal length [cm]')\n",
    "plt.legend(loc='upper left')\n",
    "\n",
    "\n",
    "# plt.savefig('images/02_06.png', dpi=300)\n",
    "plt.show()"
   ]
  },
  {
   "cell_type": "code",
   "execution_count": 4,
   "metadata": {
    "id": "xYEgTzp0s5BN",
    "jupyter": {
     "source_hidden": true
    }
   },
   "outputs": [],
   "source": [
    "# function for visualizing decision regions\n",
    "\n",
    "from matplotlib.colors import ListedColormap\n",
    "\n",
    "\n",
    "def plot_decision_regions(X, y, classifier, resolution=0.02):\n",
    "\n",
    "    # setup marker generator and color map\n",
    "    markers = ('s', 'x', 'o', '^', 'v')\n",
    "    colors = ('red', 'blue', 'lightgreen', 'gray', 'cyan')\n",
    "    cmap = ListedColormap(colors[:len(np.unique(y))])\n",
    "\n",
    "    # plot the decision surface\n",
    "    x1_min, x1_max = X[:, 0].min() - 1, X[:, 0].max() + 1\n",
    "    x2_min, x2_max = X[:, 1].min() - 1, X[:, 1].max() + 1\n",
    "    xx1, xx2 = np.meshgrid(np.arange(x1_min, x1_max, resolution),\n",
    "                           np.arange(x2_min, x2_max, resolution))\n",
    "    Z = classifier.predict(np.array([xx1.ravel(), xx2.ravel()]).T)\n",
    "    Z = Z.reshape(xx1.shape)\n",
    "    plt.contourf(xx1, xx2, Z, alpha=0.3, cmap=cmap)\n",
    "    plt.xlim(xx1.min(), xx1.max())\n",
    "    plt.ylim(xx2.min(), xx2.max())\n",
    "\n",
    "    # plot class examples\n",
    "    for idx, cl in enumerate(np.unique(y)):\n",
    "        plt.scatter(x=X[y == cl, 0],\n",
    "                    y=X[y == cl, 1],\n",
    "                    alpha=0.8,\n",
    "                    c=colors[idx],\n",
    "                    marker=markers[idx],\n",
    "                    label=cl,\n",
    "                    edgecolor='black')"
   ]
  },
  {
   "cell_type": "markdown",
   "metadata": {
    "id": "phGY3AEGn3dz"
   },
   "source": [
    "-----------------------\n",
    "-----------------------\n",
    "-----------------------\n"
   ]
  },
  {
   "cell_type": "markdown",
   "metadata": {
    "id": "Pe9kKR3J-uUA"
   },
   "source": [
    "## <font color = 'blue'> **Question 1. Practice with logistic regression** </font>\n",
    "\n",
    "Let's first load the textbook's implementation of logistic regression with gradient descent."
   ]
  },
  {
   "cell_type": "code",
   "execution_count": 5,
   "metadata": {
    "id": "HSRTXCwz-uUA",
    "jupyter": {
     "source_hidden": true
    }
   },
   "outputs": [],
   "source": [
    "class LogisticRegressionGD(object):\n",
    "    \"\"\"Logistic Regression Classifier using gradient descent.\n",
    "\n",
    "    Parameters\n",
    "    ------------\n",
    "    eta : float\n",
    "      Learning rate (between 0.0 and 1.0)\n",
    "    n_iter : int\n",
    "      Passes over the training dataset.\n",
    "    random_state : int\n",
    "      Random number generator seed for random weight\n",
    "      initialization.\n",
    "\n",
    "\n",
    "    Attributes\n",
    "    -----------\n",
    "    w_ : 1d-array\n",
    "      Weights after fitting.\n",
    "    loss_ : list\n",
    "      Logistic loss function value in each epoch.\n",
    "\n",
    "    \"\"\"\n",
    "    def __init__(self, eta=0.05, n_iter=100, random_state=1):\n",
    "        self.eta = eta\n",
    "        self.n_iter = n_iter\n",
    "        self.random_state = random_state\n",
    "\n",
    "    def fit(self, X, y):\n",
    "        \"\"\" Fit training data.\n",
    "\n",
    "        Parameters\n",
    "        ----------\n",
    "        X : {array-like}, shape = [n_examples, n_features]\n",
    "          Training vectors, where n_examples is the number of examples and\n",
    "          n_features is the number of features.\n",
    "        y : array-like, shape = [n_examples]\n",
    "          Target values.\n",
    "\n",
    "        Returns\n",
    "        -------\n",
    "        self : object\n",
    "\n",
    "        \"\"\"\n",
    "        rgen = np.random.RandomState(self.random_state)\n",
    "        self.w_ = rgen.normal(loc=0.0, scale=0.01, size=1 + X.shape[1])\n",
    "        self.loss_ = []\n",
    "\n",
    "        for i in range(self.n_iter):\n",
    "            net_input = self.net_input(X)\n",
    "            output = self.activation(net_input)\n",
    "            errors = (y - output)\n",
    "            self.w_[1:] += self.eta * X.T.dot(errors)\n",
    "            self.w_[0] += self.eta * errors.sum()\n",
    "\n",
    "            # compute the logistic `loss`\n",
    "            # cross entropy loss\n",
    "            loss = -y.dot(np.log(output)) - ((1 - y).dot(np.log(1 - output)))\n",
    "            self.loss_.append(loss)\n",
    "        return self\n",
    "\n",
    "    def net_input(self, X):\n",
    "        \"\"\"Calculate net input\"\"\"\n",
    "        return np.dot(X, self.w_[1:]) + self.w_[0]\n",
    "\n",
    "    def activation(self, z):\n",
    "        \"\"\"Compute logistic sigmoid activation\"\"\"\n",
    "        return 1. / (1. + np.exp(-np.clip(z, -250, 250)))\n",
    "\n",
    "    def predict(self, X):\n",
    "        \"\"\"Return class label after unit step\"\"\"\n",
    "        return np.where(self.net_input(X) >= 0.0, 1, 0)\n",
    "        # equivalent to:\n",
    "        # return np.where(self.activation(self.net_input(X)) >= 0.5, 1, 0)"
   ]
  },
  {
   "cell_type": "markdown",
   "metadata": {
    "id": "dMYBgs4E-uUF"
   },
   "source": [
    "Below you can see the first 3 data points of the data set."
   ]
  },
  {
   "cell_type": "code",
   "execution_count": 6,
   "metadata": {
    "colab": {
     "base_uri": "https://localhost:8080/"
    },
    "executionInfo": {
     "elapsed": 2,
     "status": "ok",
     "timestamp": 1665163878608,
     "user": {
      "displayName": "Lijing Wang",
      "userId": "05105768752847961544"
     },
     "user_tz": 240
    },
    "id": "fyoLJVet-uUG",
    "outputId": "5d4e4628-0b7c-41e2-9f01-9f1351ce4f59"
   },
   "outputs": [
    {
     "data": {
      "text/plain": [
       "(array([[5.1, 1.4],\n",
       "        [4.9, 1.4],\n",
       "        [4.7, 1.3]]),\n",
       " array([-1, -1, -1]))"
      ]
     },
     "execution_count": 6,
     "metadata": {},
     "output_type": "execute_result"
    }
   ],
   "source": [
    "X[0:3], y[0:3]"
   ]
  },
  {
   "cell_type": "markdown",
   "metadata": {
    "id": "sPbGfqmf-uUK"
   },
   "source": [
    "\n",
    "Suppose the initial weights of the logistic neuron are w0=0.1, w1=-0.2, w2=0.1\n",
    "\n",
    "<font color = 'blue'> **Q1-1**.  </font> Write the weights after processing data points 0,1,2, with learning rate $\\eta=0.1$ and show your calculations. This is similar to the previous assignment, only done now for the logistic neuron. You can also use *LogisticRegressionGD* to check your calculations. <br>\n",
    "\n",
    "<font color = 'blue'> **Q1-2**.  </font> Given our data $X$, let $X_{d=2}$ and $X_{d=3}$ be the quadratic and cubic features. Using PolynomialFeatures from sklearn.preprocessing, generate $X_{d=2}$ and $X_{d=3}$\n",
    "\n",
    "<font color = 'blue'> **Q1-3**.  </font> Using *LogisticRegressionGD* fit $X$, $X_{d=2}$ and $X_{d=3}$. Here you should set $\\eta = 10e-9$ and $n_{iter}>1000$. For each of these three cases, report the loss function value for the model computed by *LogisticRegressionGD*.\n",
    "Here it is expected that the loss value decreases as $d$ increases.\n"
   ]
  },
  {
   "cell_type": "markdown",
   "metadata": {
    "id": "s0zftirDrTUq"
   },
   "source": [
    "You can compute the updates with code, but more manual solutions are also acceptable."
   ]
  },
  {
   "cell_type": "code",
   "execution_count": 7,
   "metadata": {
    "id": "TJJpmkZQrwI1"
   },
   "outputs": [],
   "source": [
    "# change labels from -1 to 0:\n",
    "# this is required in logistic regression\n",
    "y = np.where(y==1,1,0)"
   ]
  },
  {
   "cell_type": "markdown",
   "metadata": {
    "id": "FQKZWMltoXCU"
   },
   "source": [
    "HINTS:\n",
    "\n",
    "---\n",
    "\n",
    "Q1-1: You can treat the three data points as a batch and do one update for the entire batch.\n",
    "Or you can use stochastic gradient descend which will look at one sample at a time.\n",
    "Look at the LogisticRegressionGD.fit() function.\n",
    "Define w and eta, calculate net input, calculate logistic sigmoid activation, calculate errors, then update w.\n",
    "\n",
    "Q1-2: from sklearn.preprocessing import PolynomialFeatures\n",
    "\n",
    "Q1-3: print fit().loss_"
   ]
  },
  {
   "cell_type": "code",
   "execution_count": 8,
   "metadata": {
    "id": "0wYFal09ID7Q"
   },
   "outputs": [
    {
     "name": "stdout",
     "output_type": "stream",
     "text": [
      "Pass 0 loss: 0.6931471805599453\n",
      "Pass 0: Bias: -0.05\t\t\tWeight 1: -0.255\t\tWeight 2: -0.06999999999999999\n",
      "\n",
      "\n",
      "Pass 1 loss: 0.22091244633712154\n",
      "Pass 1: Bias: -0.06982131234049277\tWeight 1: -0.3521244304684145\tWeight 2: -0.09774983727668986\n",
      "\n",
      "\n",
      "Pass 2 loss: 0.14578005206005368\n",
      "Pass 2: Bias: -0.0833865329609428\tWeight 1: -0.4158809673845297\tWeight 2: -0.11538462408327489\n",
      "\n",
      "\n",
      "Actual Bias and Weights: -0.2077749442470596, -1.1007885832903477, -0.3106482038219482\n",
      "\n",
      "\n",
      "Loss for linear: \t2.0363860387771693\n",
      "Loss for quadratic: \t1.8821563806632526\n",
      "Loss for cubic: \t0.29503197230041356\n"
     ]
    }
   ],
   "source": [
    "# your calculations and code go here\n",
    "# Q 1-1\n",
    "# -=-=-=-==-=-=-=-===--=--=--==--==-==--==-=--=-==--==-=--==-=\n",
    "eta = 0.1\n",
    "# Cross entropy (sig = sigma, z = logit): -[ylogsig(z)+(1-y)log(1-sig(z))]\n",
    "\n",
    "def myCrossEntropy(sig, y):\n",
    "    return -(y*np.log(sig)+(1-y)*np.log(1-sig))\n",
    "\n",
    "#represents the gradient of the loss with respect to \n",
    "#        the weight associated with feature x\n",
    "\n",
    "# returns gradients of loss function given weights for each term\n",
    "# first item in array is bias term\n",
    "def myGradientOfLossForWeights(sig,y,X:np.ndarray):\n",
    "    output = []\n",
    "    output.append(sig-y) # bias\n",
    "    for i in range(X.size):\n",
    "        output.append((sig-y)*X[i])\n",
    "    return output\n",
    "\n",
    "\n",
    "weights = [0,0] # initialize weights\n",
    "bias = 0 # bias )\n",
    "\n",
    "# ------------------------datapoint 1------------------------------------\n",
    "# data point: (5.1, 1.4)\n",
    "# weighted sum or logit function\n",
    "z = np.dot(X[0], weights) + bias\n",
    "\n",
    "# sigmoid function: 1/(1+e^(-z)) (gives probability from features)\n",
    "sigmoid = 1/(1+np.e**(-z))\n",
    "loss = myCrossEntropy(sigmoid, 0)\n",
    "print(f\"Pass 0 loss: {loss}\")\n",
    "gradients = myGradientOfLossForWeights(sigmoid,0,X[0])\n",
    "\n",
    "# update weights\n",
    "bias = bias - (eta * gradients[0])\n",
    "weights[0] = weights[0] - (eta * gradients[1])\n",
    "weights[1] = weights[1] - (eta * gradients[2])\n",
    "\n",
    "print(f\"Pass 0: Bias: {bias}\\t\\t\\tWeight 1: {weights[0]}\\t\\tWeight 2: {weights[1]}\")\n",
    "print('\\n')\n",
    "\n",
    "#  ------------------------datapoint 2 -------------------------------\n",
    "# data point: (4.9, 1.4)\n",
    "z = np.dot(X[1], weights) + bias\n",
    "\n",
    "sigmoid = 1/(1+np.e**(-z))\n",
    "loss = myCrossEntropy(sigmoid, 0)\n",
    "print(f\"Pass 1 loss: {loss}\")\n",
    "gradients = myGradientOfLossForWeights(sigmoid,0,X[1])\n",
    "\n",
    "bias = bias - (eta * gradients[0])\n",
    "weights[0] = weights[0] - (eta * gradients[1])\n",
    "weights[1] = weights[1] - (eta * gradients[2])\n",
    "\n",
    "print(f\"Pass 1: Bias: {bias}\\tWeight 1: {weights[0]}\\tWeight 2: {weights[1]}\")\n",
    "print('\\n')\n",
    "\n",
    "#  ------------------------datapoint 3 ------------------------------\n",
    "# data point: (4.7, 1.3)\n",
    "z = np.dot(X[2], weights) + bias\n",
    "\n",
    "sigmoid = 1/(1+np.e**(-z))\n",
    "loss = myCrossEntropy(sigmoid, 0)\n",
    "print(f\"Pass 2 loss: {loss}\")\n",
    "gradients = myGradientOfLossForWeights(sigmoid,0,X[2])\n",
    "\n",
    "bias = bias - (eta * gradients[0])\n",
    "weights[0] = weights[0] - (eta * gradients[1])\n",
    "weights[1] = weights[1] - (eta * gradients[2])\n",
    "\n",
    "print(f\"Pass 2: Bias: {bias}\\tWeight 1: {weights[0]}\\tWeight 2: {weights[1]}\")\n",
    "print('\\n')\n",
    "#  -------------------------------------------------------------\n",
    "\n",
    "#Testing out data\n",
    "np.set_printoptions(precision=2)\n",
    "\n",
    "lgr = LogisticRegressionGD()\n",
    "lgr.fit(X[0:3],y[0:3])\n",
    "\n",
    "print(\"Actual Bias and Weights: \"+ \", \".join([str(w) for w in lgr.w_]))\n",
    "print('\\n')\n",
    "# -=-=-=-==-=-=-=-===--=--=--==--==-==--==-=--=-==--==-=--==-=\n",
    "\n",
    "\n",
    "# Q 1-2\n",
    "# -=-=-=-==-=-=-=-===--=--=--==--==-==--==-=--=-==--==-=--==-=\n",
    "from sklearn.preprocessing import PolynomialFeatures\n",
    "quadratic = PolynomialFeatures(2)\n",
    "cubic = PolynomialFeatures(3)\n",
    "\n",
    "Xd2 = quadratic.fit_transform(X)\n",
    "Xd3 = cubic.fit_transform(X)\n",
    "\n",
    "#print(Xd2)\n",
    "# -=-=-=-==-=-=-=-===--=--=--==--==-==--==-=--=-==--==-=--==-=\n",
    "\n",
    "# Q 1-3\n",
    "# -=-=-=-==-=-=-=-===--=--=--==--==-==--==-=--=-==--==-=--==-=\n",
    "# linear\n",
    "linearLR = LogisticRegressionGD(eta=10e-9,n_iter=20000)\n",
    "linearLR.fit(X[0:3],y[0:3])\n",
    "print(\"Loss for linear: \\t\" + str(linearLR.loss_[-1]))\n",
    "\n",
    "# quadratic\n",
    "quadraticLR = LogisticRegressionGD(eta=10e-9,n_iter=20000)\n",
    "quadraticLR.fit(Xd2[0:3],y[0:3])\n",
    "print(\"Loss for quadratic: \\t\" + str(quadraticLR.loss_[-1]))\n",
    "\n",
    "# cubic\n",
    "cubicLR = LogisticRegressionGD(eta=10e-9,n_iter=20000)\n",
    "cubicLR.fit(Xd3[0:3],y[0:3])\n",
    "print(\"Loss for cubic: \\t\" + str(cubicLR.loss_[-1]))\n",
    "# -=-=-=-==-=-=-=-===--=--=--==--==-==--==-=--=-==--==-=--==-="
   ]
  },
  {
   "cell_type": "code",
   "execution_count": 9,
   "metadata": {
    "id": "HV6DRoDxG1Rl"
   },
   "outputs": [],
   "source": [
    "# Grader's area\n",
    "maxScore = 0\n",
    "\n",
    "# maxScore +=\n",
    "# actualScore +="
   ]
  },
  {
   "cell_type": "markdown",
   "metadata": {
    "id": "6grYJ9spn6C1",
    "jp-MarkdownHeadingCollapsed": true
   },
   "source": [
    "-----------------------\n",
    "-----------------------\n",
    "-----------------------\n"
   ]
  },
  {
   "cell_type": "markdown",
   "metadata": {
    "id": "YMEcdAp3-uT-"
   },
   "source": [
    "##  <font color = 'blue'> **Question 2. Logistic Regression: How 'unfair' can it be?**  </font>\n",
    "\n",
    "We have seen that the inductive bias of an SVM guarantees that when the dataset is linearly separable, SVM will return a hyperplane that is at exactly the same distance from the two classes.  But what about logistic regression? Can we guarantee that it can also be at least partially fair?\n",
    "\n",
    "The answer is **negative**. We can  demonstrate how logistic regression can be 'unfair' by constructing a dataset with the properties that: <br>\n",
    "\n",
    "**a.** the data set is linearly separable  <br>\n",
    "**b.** the optimal logistic regression model corresponds to a hyperplane that nearly 'touches' one of the two classes, i.e. it gives a very big margin to the one of the two classes and very small margin for the other class.  <br>\n",
    "\n",
    "Demonstrate your answer as follows: <br>\n",
    "\n",
    "<font color = 'blue'> **Q2-1**.  </font>\n",
    " Plot the data points, as we did above for the iris data set. This will show that your data set is linearly separable. <br>\n",
    "<font color = 'blue'> **Q2-2**.  </font> Calculate the optimal logistic neuron weights using the function *LogisticRegressionGD* from question 1. <br>\n",
    "<font color = 'blue'> **Q2-3**. </font>  Plot the decision regions to demonstrate how the learned separation line is unfair.\n",
    "\n",
    "**Hint**: Try small datasets.\n",
    "**Note**: It's best to use fresh variables for your dataset, because the previous $X,y$ are re-used in question 3.\n"
   ]
  },
  {
   "cell_type": "code",
   "execution_count": 10,
   "metadata": {
    "id": "LejWjUeapllz"
   },
   "outputs": [
    {
     "data": {
      "image/png": "[encoded data removed]",
      "text/plain": [
       "<Figure size 640x480 with 1 Axes>"
      ]
     },
     "metadata": {},
     "output_type": "display_data"
    },
    {
     "data": {
      "image/png": "[encoded data removed]",
      "text/plain": [
       "<Figure size 640x480 with 1 Axes>"
      ]
     },
     "metadata": {},
     "output_type": "display_data"
    }
   ],
   "source": [
    "# your answers go here\n",
    "\n",
    "# -------------------------- Q2-1 ----------------------------------------------------\n",
    "# plot data\n",
    "from sklearn.datasets import make_classification\n",
    "my_X,my_y = make_classification(weights=[0.9,0.1],n_samples=10,n_features=2,\n",
    "                                n_redundant=0,n_clusters_per_class=1,\n",
    "                                class_sep=10,random_state=2)\n",
    "\n",
    "def plotDatapoints():\n",
    "    plt.xlabel('X-axis')\n",
    "    plt.ylabel('Y-axis')\n",
    "    for i in range(len(my_X)):\n",
    "        label = my_y[i]\n",
    "        \n",
    "        if(label == 0):\n",
    "            plt.scatter(my_X[i,0], my_X[i,1],color='red',marker='o')\n",
    "        else:\n",
    "            plt.scatter(my_X[i,0], my_X[i,1],color='blue',marker='x')\n",
    "\n",
    "# plt.savefig('images/02_06.png', dpi=300)\n",
    "plotDatapoints()\n",
    "plt.title(\"Linearly seperable points\")\n",
    "plt.show()\n",
    "# ------------------------------Q2-2--------------------------------------------------------\n",
    "plotDatapoints()\n",
    "logreg = LogisticRegressionGD()\n",
    "my_w = logreg.fit(my_X,my_y).w_\n",
    "\n",
    "my_b = my_w[0]\n",
    "my_w1 = my_w[1]\n",
    "my_w2 = my_w[2]\n",
    "\n",
    "#--------------------------Q2-3-----------------------------------------------------\n",
    "\n",
    "# Generate a range of x-values for visualization\n",
    "x_values = np.linspace(-15, 15,15)\n",
    "\n",
    "# Calculate the corresponding y-values using the equation of the hyperplane\n",
    "y_values = (-my_w1 * x_values - my_b) / my_w2\n",
    "\n",
    "plt.title(\"Unfair hyperplane (non equidistant margins)\")\n",
    "plt.plot(x_values, y_values, color='black')\n",
    "plt.xlim(-15,12)\n",
    "plt.ylim(7,13)\n",
    "plt.show()\n",
    "\n",
    "#------------------------------------------------------------------------------"
   ]
  },
  {
   "cell_type": "code",
   "execution_count": 11,
   "metadata": {
    "id": "mTPbCgxvkoA9"
   },
   "outputs": [],
   "source": [
    "# Create data set\n",
    "epsilon = 1\n",
    "n = 30\n",
    "m = 2\n",
    "X2 = np.array([np.array([1]*n + [1+epsilon]*m),\n",
    "                  np.array(list(range(n))+list(range(m)))]).T\n",
    "y2 = np.array([0]*n + [1]*m)"
   ]
  },
  {
   "cell_type": "code",
   "execution_count": 12,
   "metadata": {
    "id": "ayVRy0pxlBDP"
   },
   "outputs": [],
   "source": [
    "# Grader's area\n",
    "\n",
    "# maxScore +=\n",
    "# actualScore +=\n",
    "\n"
   ]
  },
  {
   "cell_type": "markdown",
   "metadata": {
    "id": "Z2ZazaTq1GzQ"
   },
   "source": [
    "<font color = 'blue'> **Q2-4**.  </font> The standard scikit-learn implementation of logistic regression uses regularization by default ($C=1$).  Can you come up with a linearly separable dataset that makes that **default** implementation fail? <br>\n",
    "\n",
    "[Note: This is an experimental question. You should be able to use the example from above, or modify it, and make the default implementation fail.]"
   ]
  },
  {
   "cell_type": "code",
   "execution_count": 13,
   "metadata": {
    "id": "yrSMBWyD2mKC",
    "jupyter": {
     "source_hidden": true
    },
    "scrolled": true
   },
   "outputs": [
    {
     "data": {
      "image/png": "[encoded data removed]",
      "text/plain": [
       "<Figure size 640x480 with 1 Axes>"
      ]
     },
     "metadata": {},
     "output_type": "display_data"
    }
   ],
   "source": [
    "# your answer goes here\n",
    "from sklearn.linear_model import LogisticRegression\n",
    "from sklearn.datasets import make_classification\n",
    "\n",
    "fail_X, fail_y = make_classification(n_samples = 10,n_features=2,n_redundant=0,n_informative=2,n_clusters_per_class=1,random_state=4,flip_y=0,class_sep=2,shuffle=False)\n",
    "\n",
    "#tweek the datapoints so the opposing classes are near the boundary.\n",
    "fail_X[0] = [0,0]\n",
    "fail_X[5] = [-5,.4]\n",
    "fail_X[6] = [5,.4]\n",
    "\n",
    "failed_logreg = LogisticRegression()\n",
    "failed_logreg.fit(fail_X,fail_y)\n",
    "\n",
    "fail_b = failed_logreg.intercept_[0]\n",
    "fail_w1 = failed_logreg.coef_[0,0]\n",
    "fail_w2 = failed_logreg.coef_[0,1]\n",
    "\n",
    "#plot points\n",
    "plt.xlabel('X-axis')\n",
    "plt.ylabel('Y-axis')\n",
    "for i in range(len(fail_X)):\n",
    "    label = fail_y[i]\n",
    "    if(label == 0):\n",
    "        plt.scatter(fail_X[i,0], fail_X[i,1],color='red',marker='o')\n",
    "    else:\n",
    "        plt.scatter(fail_X[i,0], fail_X[i,1],color='blue',marker='x')\n",
    "        \n",
    "# plot decision boundary\n",
    "x_values = np.linspace(-15, 15,15)\n",
    "y_values = (-fail_w1 * x_values - fail_b) / fail_w2\n",
    "plt.title(\"Failed Logistic regression\")\n",
    "plt.plot(x_values, y_values, color='black')\n",
    "plt.xlim(-7,7)\n",
    "plt.ylim(-4,4)\n",
    "plt.show()\n"
   ]
  },
  {
   "cell_type": "code",
   "execution_count": null,
   "metadata": {
    "id": "XN-VON-12oqM"
   },
   "outputs": [],
   "source": []
  },
  {
   "cell_type": "code",
   "execution_count": 14,
   "metadata": {
    "id": "ZlN9ptsC2rz_"
   },
   "outputs": [],
   "source": [
    "# Grader's area\n",
    "\n",
    "# maxScore +=\n",
    "# actualScore +="
   ]
  },
  {
   "cell_type": "markdown",
   "metadata": {
    "id": "kffsOAaln8C_",
    "jp-MarkdownHeadingCollapsed": true
   },
   "source": [
    "-----------------------\n",
    "-----------------------\n",
    "-----------------------\n"
   ]
  },
  {
   "cell_type": "markdown",
   "metadata": {
    "id": "uVUZKNB2kod6"
   },
   "source": [
    "##  <font color = 'blue'> **Question 3. SVM and classification margin**  </font>\n",
    "\n",
    "The Iris dataset defined in above cells is linearly separable.\n",
    "\n",
    "<font color = 'blue'> **Q3-1.**  </font> Use a [linear SVC](https://scikit-learn.org/stable/modules/generated/sklearn.svm.LinearSVC.html) to learn a hyperplane $y=w_1x_1 +w_2x_2 +b$ that maximizes the margin for this Iris dataset. In your answer, specify a setting for the hyperparameter $C$ (it is denoted as $\\gamma$ in the lecture slides) that reduces the amount of regularization, i.e. it incentivizes very small slacks.\n",
    "\n",
    "<font color = 'blue'> **Q3-2.** </font> Extract the coefficients $w$ and the intercept $b$ from the learned SVC. Find the margin, $2/||w||_2$. Print out the coefficients, intercept, and the margin.\n",
    "[Hint: Read the documentation in order to access the coefficients]\n",
    "\n",
    "<font color = 'blue'> **Q3-3.** </font> Set $w = w/s$ and $b=b/s$ where $s=||w||_2$. This changes the numerical definition of the separation line, but the line is still the same. Print out new weights and intercept. Plot the decision with new weights and intercept.\n",
    "\n",
    "<font color = 'blue'> **Q3-4.** </font> With the new $w$ and $b$, calculate $wx^T + b$ for each point $x$ in our dataset. This will give a range of values, let $\\beta$ be the smallest one in absolute value. This $\\beta$ is the margin/2 (in fact there should be two points $x_1$ and $x_2$ of different labels, that give $wx_1^T + b = \\beta$ and $wx_2^T + b = -\\beta$). Write out calculation and print out margin.\n",
    "\n",
    "\n",
    "**Note:** as with anything else, feel free to discuss this on Canvas."
   ]
  },
  {
   "cell_type": "code",
   "execution_count": 15,
   "metadata": {},
   "outputs": [
    {
     "name": "stderr",
     "output_type": "stream",
     "text": [
      "/Library/Frameworks/Python.framework/Versions/3.10/lib/python3.10/site-packages/sklearn/svm/_base.py:1225: ConvergenceWarning: Liblinear failed to converge, increase the number of iterations.\n",
      "  warnings.warn(\n"
     ]
    },
    {
     "data": {
      "image/png": "[encoded data removed]",
      "text/plain": [
       "<Figure size 640x480 with 1 Axes>"
      ]
     },
     "metadata": {},
     "output_type": "display_data"
    },
    {
     "name": "stdout",
     "output_type": "stream",
     "text": [
      "Coefficients: -0.6440545635485247, 1.3857787788799358\n",
      "Intercept: -0.22156055032355565\n",
      "Margin: 1.3087869856650496\n",
      "\n",
      "\n",
      "New weights: -0.42146511541524645, 0.9068446154044323\n",
      "New intercept: -0.14498778240012797\n"
     ]
    },
    {
     "data": {
      "image/png": "[encoded data removed]",
      "text/plain": [
       "<Figure size 640x480 with 1 Axes>"
      ]
     },
     "metadata": {},
     "output_type": "display_data"
    },
    {
     "name": "stdout",
     "output_type": "stream",
     "text": [
      "Margin: 0.8521479503908238\n"
     ]
    }
   ],
   "source": [
    "# -------------------------------------- Q3-1 -------------------------------------------\n",
    "y = df.iloc[0:100, 4].values\n",
    "y = np.where(y == 'Iris-setosa', -1, 1)\n",
    "X = df.iloc[:100, [0, 2]].values\n",
    "\n",
    "from sklearn.svm import LinearSVC\n",
    "# increasing parameter C reduces regularization \n",
    "# (less generalization) since C is inverse of \n",
    "# regularization strength.\n",
    "lvc = LinearSVC(C=2)\n",
    "lvc.fit(X[:100],y[:100])\n",
    "\n",
    "# plot\n",
    "plt.scatter(X[:50, 0], X[:50, 1],\n",
    "            color='red', marker='o', label='setosa')\n",
    "plt.scatter(X[50:100, 0], X[50:100, 1],\n",
    "            color='blue', marker='x', label='versicolor')\n",
    "plt.xlabel('sepal length [cm]')\n",
    "plt.ylabel('petal length [cm]')\n",
    "plt.legend(loc='upper left')\n",
    "w1 = lvc.coef_[0,0]\n",
    "w2 = lvc.coef_[0,1]\n",
    "b = lvc.intercept_[0]\n",
    "x = np.linspace(0, 10,10)\n",
    "y = (-w1 * x - b) / w2\n",
    "plt.plot(x,y, color=\"black\") \n",
    "plt.title(\"Maximal margin hyperplane (before)\")\n",
    "plt.show()\n",
    "\n",
    "# -------------------------------------- Q3-2 -------------------------------------------\n",
    "w1 = lvc.coef_[0,0]\n",
    "w2 = lvc.coef_[0,1]\n",
    "b = lvc.intercept_[0]\n",
    "\n",
    "mag_of_w_vecs = np.sqrt((w1**2)+(w2**2))\n",
    "#margin = 2/||w||\n",
    "margin = 2 / mag_of_w_vecs\n",
    "\n",
    "print(f\"Coefficients: {w1}, {w2}\")\n",
    "print(f\"Intercept: {b}\")\n",
    "print(f\"Margin: {margin}\")\n",
    "# -------------------------------------- Q3-3 -------------------------------------------\n",
    "w1 = w1 / mag_of_w_vecs\n",
    "w2 = w2 / mag_of_w_vecs\n",
    "b = b / mag_of_w_vecs\n",
    "\n",
    "print('\\n')\n",
    "print(f\"New weights: {w1}, {w2}\")\n",
    "print(f\"New intercept: {b}\")\n",
    "\n",
    "# plot\n",
    "y = df.iloc[0:100, 4].values\n",
    "y = np.where(y == 'Iris-setosa', -1, 1)\n",
    "X = df.iloc[:100, [0, 2]].values\n",
    "plt.scatter(X[:50, 0], X[:50, 1],\n",
    "            color='red', marker='o', label='setosa')\n",
    "plt.scatter(X[50:100, 0], X[50:100, 1],\n",
    "            color='blue', marker='x', label='versicolor')\n",
    "plt.xlabel('sepal length [cm]')\n",
    "plt.ylabel('petal length [cm]')\n",
    "plt.legend(loc='upper left')\n",
    "x_space = np.linspace(0, 10,10)\n",
    "y_space = (-w1 * x - b) / w2\n",
    "plt.plot(x_space,y_space, color=\"black\")\n",
    "plt.title(\"Maximal margin hyperplane w/s and b/s (after)\")\n",
    "plt.show()\n",
    "\n",
    "# -------------------------------------- Q3-4 -------------------------------------------\n",
    "transformations = []\n",
    "for i in range(len(X)):\n",
    "    transform =  (X[i,0] * w1) + (X[i,1] * w2) + b\n",
    "    transformations.append(transform)\n",
    "    \n",
    "transformations = np.array(transformations)\n",
    "trans_abs = np.abs(transformations)\n",
    "squigglyB = np.min(trans_abs)\n",
    "\n",
    "transform_margin = squigglyB*2\n",
    "\n",
    "print(f\"Margin: {transform_margin}\")\n",
    "# ---------------------------------------------------------------------------------------"
   ]
  },
  {
   "cell_type": "code",
   "execution_count": 16,
   "metadata": {
    "id": "64Pwo6Mxmv6X"
   },
   "outputs": [],
   "source": [
    "# Grader's area\n",
    "\n",
    "# maxScore +=\n",
    "# actualScore +=\n"
   ]
  },
  {
   "cell_type": "markdown",
   "metadata": {
    "id": "JTLcwDVan9x9"
   },
   "source": [
    "-----------------------\n",
    "-----------------------\n",
    "-----------------------\n"
   ]
  },
  {
   "cell_type": "markdown",
   "metadata": {
    "id": "N3ECKgmBD_aJ"
   },
   "source": [
    "##  <font color = 'blue'> **Question 4. Upper bound for perceptron errors before convergence**  </font>\n",
    "\n",
    "In this problem we will use $\\beta$ calculated in question 3. If you have not been able to calculate it, you can 'borrow' its value from someone else that has calculated it (I expect that this can be done on Canvas).\n",
    "\n",
    "<font color = 'blue'> **Q4-1.** </font> Calculate $R = \\max_{x\\in X} ||x||_2$. In other words, find the 2-norm of all points in the dataset, and let $R$ be the maximum norm.\n",
    "\n",
    "<font color = 'blue'> **Q4-2.** </font> Calculate $maxErrors = R/\\beta^2$. This is the maximum number of errors that a perceptron can do, in the worst case, before it convergences.\n",
    "\n",
    "<font color = 'blue'> **Q4-3.** </font> Compare $maxError$ with the actual number of errors that the perceptron does with a random initialization. [Hint: Re-use the code from assignment 2, or anything else that can provide you with that number].  \n",
    "\n",
    "\n"
   ]
  },
  {
   "cell_type": "code",
   "execution_count": 17,
   "metadata": {
    "id": "KT8yPatZI-US",
    "jupyter": {
     "source_hidden": true
    }
   },
   "outputs": [],
   "source": [
    "import numpy as np\n",
    "\n",
    "class Perceptron(object):\n",
    "    \"\"\"Perceptron classifier.\n",
    "\n",
    "    Parameters\n",
    "    ------------\n",
    "    eta : float\n",
    "      Learning rate (between 0.0 and 1.0)\n",
    "    n_iter : int\n",
    "      Passes over the training dataset.\n",
    "    random_state : int\n",
    "      Random number generator seed for random weight\n",
    "      initialization.\n",
    "\n",
    "    Attributes\n",
    "    -----------\n",
    "    w_ : 1d-array\n",
    "      Weights after fitting.\n",
    "    errors_ : list\n",
    "      Number of misclassifications (updates) in each epoch.\n",
    "\n",
    "    \"\"\"\n",
    "    def __init__(self, eta=0.01, n_iter=50, random_state=1):\n",
    "        self.eta = eta # learning rate\n",
    "        self.n_iter = n_iter\n",
    "        self.random_state = random_state\n",
    "\n",
    "        # -=-=--=-=--==--=-=-=-=-=-==- MY CODE -=-=-=-=-=-=-=-=-=-=-=-=-=-=-=-=-\n",
    "        self.iters_passed = 0\n",
    "        # keep track of weights\n",
    "        self.weights_history = []\n",
    "        # -=-=--=-=--==--=-=-=-=-=-==--=-=-=-=-==-=-=-=-=-=-=-=-=-=-=-=-=-=-=-=-=-\n",
    "\n",
    "    def fit(self, X, y):\n",
    "        \"\"\"Fit training data.\n",
    "\n",
    "        Parameters\n",
    "        ----------\n",
    "        X : {array-like}, shape = [n_examples, n_features]\n",
    "          Training vectors, where n_examples is the number of examples and\n",
    "          n_features is the number of features.\n",
    "        y : array-like, shape = [n_examples]\n",
    "          Target values.\n",
    "\n",
    "        Returns\n",
    "        -------\n",
    "        self : object\n",
    "\n",
    "        \"\"\"\n",
    "        rgen = np.random.RandomState(self.random_state)\n",
    "        self.w_ = rgen.normal(loc=0.0, scale=0.01, size=1 + X.shape[1])\n",
    "        self.errors_ = []\n",
    "        \n",
    "        for _ in range(self.n_iter):\n",
    "            errors = 0\n",
    "            \n",
    "            # xi (array) is a row representing an entry (with all its columns / features)\n",
    "            # target (int) is the target value for the given entry. \n",
    "            for xi, target in zip(X, y):\n",
    "                \n",
    "                #  self.predict is an ndarray of 1 and -1. depending on prediction.\n",
    "\n",
    "                # calculates weights for each row and its features\n",
    "                # target - self.predict(xi) is the error for the current entry\n",
    "                update = self.eta * (target - self.predict(xi))\n",
    "\n",
    "                # Update weights to each column if needed \n",
    "                self.w_[1:] += update * xi\n",
    "\n",
    "                #update bias \n",
    "                self.w_[0] += update\n",
    "\n",
    "                # add to error if update doesnt equal 0 .\n",
    "                # error will be zero if there is no update to be done.\n",
    "                errors += int(update != 0.0)\n",
    "\n",
    "                # -=-=--=-=--==--=-=-=-=-=-==- MY CODE -=-=-=-=-=-=-=-=-=-=-=-=-=-=-=-=-\n",
    "                # check if need to iterate more by checking if the weights predict correctly for given data.\n",
    "                ##if(self.predict(xi) == target): return\n",
    "                # -=-=--=-=--==--=-=-=-=-=-==--=-=-=-=-==-=-=-=-=-=-=-=-=-=-=-=-=-=-=-=-=-\n",
    "\n",
    "                \n",
    "                \n",
    "            self.errors_.append(errors)\n",
    "\n",
    "            # -=-=--=-=--==--=-=-=-=-=-==- MY CODE -=-=-=-=-=-=-=-=-=-=-=-=-=-=-=-=-\n",
    "\n",
    "            # Check the previous weight, if it is the same to current weight, then stop iterating.\n",
    "            if(self.weights_history and self.w_.tolist() == self.weights_history[-1]): break;\n",
    "            \n",
    "            # Keep track of number of iterations\n",
    "            self.iters_passed += 1 \n",
    "            \n",
    "            # Keep track of history of weights\n",
    "            self.weights_history.append(self.w_.tolist())\n",
    "            # -=-=--=-=--==--=-=-=-=-=-==--=-=-=-=-==-=-=-=-=-=-=-=-=-=-=-=-=-=-=-=-=-\n",
    "            \n",
    "            LW = 2020\n",
    "            \n",
    "\n",
    "        # -=-=--=-=--==--=-=-=-=-=-==- MY CODE -=-=-=-=-=-=-=-=-=-=-=-=-=-=-=-=-\n",
    "        # print number of iterations\n",
    "        \"\"\"\n",
    "        print(f\"Number of iterations passed: {self.iters_passed}\")\n",
    "        print('\\n')\n",
    "        \n",
    "        # print history of weights\n",
    "        \n",
    "        print(\"Weight number \\t\\t   Bias \\t\\t    w1 \\t\\t      w2\")\n",
    "        [print(f\"Weight {i}:\\t{w}\") for i,w in enumerate(self.weights_history)]\n",
    "        \"\"\"\n",
    "        # -=-=--=-=--==--=-=-=-=-=-==--=-=-=-=-==-=-=-=-=-=-=-=-=-=-=-=-=-=-=-=-=-\n",
    "        return self\n",
    "\n",
    "    # Returns the dot product of the weighted sums, the input, and bias (aka z)\n",
    "    # this is the predicted value\n",
    "    def net_input(self, X):\n",
    "        \"\"\"Calculate net input\"\"\"\n",
    "        # dot(X, self.w_[1:]) is the dot prod of all inputs with weights\n",
    "        return np.dot(X, self.w_[1:]) + self.w_[0]\n",
    "\n",
    "    # Converts predicted value to either 1 or -1\n",
    "    def predict(self, X):\n",
    "        \"\"\"Return class label after unit step\"\"\"\n",
    "        # returns array where if z greater than or equal to zero, assigns 1, else 0\n",
    "        return np.where(self.net_input(X) >= 0.0, 1, -1)\n"
   ]
  },
  {
   "cell_type": "code",
   "execution_count": 22,
   "metadata": {
    "id": "ccvq5Z_RI8nO"
   },
   "outputs": [
    {
     "name": "stdout",
     "output_type": "stream",
     "text": [
      "R: 8.462860036654275\n",
      "Max errors: \t46.617302778497674\n",
      "Errors the perceptron made: \t5\n"
     ]
    }
   ],
   "source": [
    "# your answers go here\n",
    "#----------------- Q4-1 ----------------------\n",
    "\n",
    "twonorms = []\n",
    "for i in range(len(X)):\n",
    "    twonorms.append(np.sqrt(np.sum(np.square(X[i]))))  \n",
    "    \n",
    "R = np.max(twonorms)\n",
    "print(f\"R: {R}\")\n",
    "#----------------- Q4-2 ----------------------\n",
    "maxErrors = R / (squigglyB**2)\n",
    "print(f\"Max errors: \\t{maxErrors}\")\n",
    "#----------------- Q4-3 ----------------------\n",
    "import random\n",
    "perceptron = Perceptron(random_state=random.randint(1, 1000000))\n",
    "perceptron.fit(X,y)\n",
    "print(f\"Errors the perceptron made: \\t{np.sum(perceptron.errors_)}\")\n",
    "#---------------------------------------------"
   ]
  },
  {
   "cell_type": "code",
   "execution_count": 19,
   "metadata": {
    "id": "vUts9oNyI4R7"
   },
   "outputs": [],
   "source": [
    "# Grader's area\n",
    "\n",
    "# maxScore +=\n",
    "# actualScore +="
   ]
  },
  {
   "cell_type": "markdown",
   "metadata": {
    "id": "fdAULOJaI_2h"
   },
   "source": [
    "----------------------------\n",
    "----------------------------\n",
    "----------------------------"
   ]
  },
  {
   "cell_type": "code",
   "execution_count": 20,
   "metadata": {
    "id": "IVkneTzYCAxs"
   },
   "outputs": [],
   "source": [
    "# Grader's area\n",
    "\n",
    "# score = actualScore*100/maxScore"
   ]
  },
  {
   "cell_type": "code",
   "execution_count": null,
   "metadata": {
    "id": "RHdcyebzleMQ"
   },
   "outputs": [],
   "source": []
  }
 ],
 "metadata": {
  "colab": {
   "provenance": []
  },
  "kernelspec": {
   "display_name": "Python 3 (ipykernel)",
   "language": "python",
   "name": "python3"
  },
  "language_info": {
   "codemirror_mode": {
    "name": "ipython",
    "version": 3
   },
   "file_extension": ".py",
   "mimetype": "text/x-python",
   "name": "python",
   "nbconvert_exporter": "python",
   "pygments_lexer": "ipython3",
   "version": "3.10.7"
  }
 },
 "nbformat": 4,
 "nbformat_minor": 4
}
