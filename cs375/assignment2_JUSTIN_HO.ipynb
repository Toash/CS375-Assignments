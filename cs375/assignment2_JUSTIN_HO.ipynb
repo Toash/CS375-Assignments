{
 "cells": [
  {
   "cell_type": "markdown",
   "metadata": {
    "id": "Tajfsk_7JY3E"
   },
   "source": [
    "**Note to grader:** Each question is assigned with a score. The final score  will be (sum of actual scores)/(sum of maximum scores)*100. The grading rubrics are shown in the TA guidelines."
   ]
  },
  {
   "cell_type": "markdown",
   "metadata": {
    "id": "0EFEd0Xqs5A2"
   },
   "source": [
    "# **Assignment 2**\n",
    "\n",
    "This assignment walks you through the basics of the perceptron. You will also do some first experiments on a toy data set, and check the effect of hyperparameters. The intended goal of the assignment is to familiarize you further with the Jupyter/Colab environment and help you acquire some tools that we will later use to experiment with 'professional-grade' data sets and algorithms.\n",
    "\n",
    "\n",
    "<b>Note: </b> You must run/evaluate all cells. <b>Order of cell execution is important.<b>"
   ]
  },
  {
   "cell_type": "markdown",
   "metadata": {
    "id": "XFiUns92s5A3"
   },
   "source": [
    "## Preparation Steps"
   ]
  },
  {
   "cell_type": "code",
   "execution_count": 1042,
   "metadata": {
    "executionInfo": {
     "elapsed": 543,
     "status": "ok",
     "timestamp": 1694019817753,
     "user": {
      "displayName": "Lijing Wang",
      "userId": "05105768752847961544"
     },
     "user_tz": 240
    },
    "id": "7LI03-u2s5A3"
   },
   "outputs": [],
   "source": [
    "# Import all necessary python packages\n",
    "import numpy as np\n",
    "import os\n",
    "import pandas as pd\n",
    "import matplotlib.pyplot as plt\n",
    "from matplotlib.colors import ListedColormap"
   ]
  },
  {
   "cell_type": "code",
   "execution_count": 1043,
   "metadata": {
    "executionInfo": {
     "elapsed": 1568,
     "status": "ok",
     "timestamp": 1694019820529,
     "user": {
      "displayName": "Lijing Wang",
      "userId": "05105768752847961544"
     },
     "user_tz": 240
    },
    "id": "T_yXB--1s5A7"
   },
   "outputs": [],
   "source": [
    "# Load data\n",
    "from sklearn import datasets\n",
    "\n",
    "# load iris dataset\n",
    "iris = datasets.load_iris()\n",
    "# Since this is a bunch, create a dataframe\n",
    "df=pd.DataFrame(iris.data)\n",
    "df['4']=iris.target\n",
    "# {0:'setosa', 1:'versicolor', 2:'virginica'}\n",
    "# df.columns=['sepal_len', 'sepal_wid', 'petal_len', 'petal_wid', 'target']\n"
   ]
  },
  {
   "cell_type": "code",
   "execution_count": 1044,
   "metadata": {
    "colab": {
     "base_uri": "https://localhost:8080/",
     "height": 449
    },
    "executionInfo": {
     "elapsed": 737,
     "status": "ok",
     "timestamp": 1694019837940,
     "user": {
      "displayName": "Lijing Wang",
      "userId": "05105768752847961544"
     },
     "user_tz": 240
    },
    "id": "M27Ih_Jys5A-",
    "outputId": "5dc16e68-6e56-4efa-fce3-b9ad9a9fc49b"
   },
   "outputs": [
    {
     "data": {
      "image/png": "[encoded data removed]",
      "text/plain": [
       "<Figure size 640x480 with 1 Axes>"
      ]
     },
     "metadata": {},
     "output_type": "display_data"
    }
   ],
   "source": [
    "# select setosa and versicolor\n",
    "y = df.iloc[0:100, 4].values\n",
    "y = np.where(y == 0, -1, 1)\n",
    "\n",
    "# extract sepal length and petal length\n",
    "X = df.iloc[:100, [0, 2]].values\n",
    "\n",
    "# plot data\n",
    "plt.scatter(X[:50, 0], X[:50, 1],\n",
    "            color='red', marker='o', label='setosa')\n",
    "plt.scatter(X[50:100, 0], X[50:100, 1],\n",
    "            color='blue', marker='x', label='versicolor')\n",
    "\n",
    "plt.xlabel('sepal length [cm]')\n",
    "plt.ylabel('petal length [cm]')\n",
    "plt.legend(loc='upper left')\n",
    "\n",
    "\n",
    "# plt.savefig('images/02_06.png', dpi=300)\n",
    "plt.show()"
   ]
  },
  {
   "cell_type": "markdown",
   "metadata": {
    "id": "mGypVpOlnmtY"
   },
   "source": [
    "-----------------------\n",
    "-----------------------\n",
    "-----------------------\n",
    "\n"
   ]
  },
  {
   "cell_type": "markdown",
   "metadata": {
    "id": "nu16p_t8s5BA"
   },
   "source": [
    "## <font color='#008DFF'> **Question 0. Manual Perceptron Training (10 points)**"
   ]
  },
  {
   "cell_type": "markdown",
   "metadata": {
    "id": "BDyWFxPjs5BB"
   },
   "source": [
    "Below you can see the first 5 data points of the data set, all labeled as 'setosa'."
   ]
  },
  {
   "cell_type": "code",
   "execution_count": 1045,
   "metadata": {
    "id": "tEFG3hqRs5BB",
    "outputId": "b2cd5a4f-e4e0-404c-e750-015e8e98b657"
   },
   "outputs": [
    {
     "data": {
      "text/plain": [
       "(array([[5.1, 1.4],\n",
       "        [4.9, 1.4],\n",
       "        [4.7, 1.3],\n",
       "        [4.6, 1.5],\n",
       "        [5. , 1.4]]),\n",
       " array([-1, -1, -1, -1, -1]))"
      ]
     },
     "execution_count": 1045,
     "metadata": {},
     "output_type": "execute_result"
    }
   ],
   "source": [
    "X[0:5], y[0:5]"
   ]
  },
  {
   "cell_type": "markdown",
   "metadata": {
    "id": "b_8xfoZEs5BE"
   },
   "source": [
    "Suppose the initial weights of the perceptron are w0=0.1, w1=0.2, w2=-0.1 . Here $w_0$ is the bias.\n",
    "\n",
    "In the following space (Double click this text), write the weights after processing data points 0,1,2, and show your calculations (with $\\eta = 0.1$):\n",
    "\n",
    "w0 + w1 x1 + w2 x2 = 0.1 + 0.2*5.1 - 0.1*1.4\n",
    "\n",
    "Weights formula \n",
    "w2 := w2 + \\eta(y - y_hat)*x2\n",
    "w1 := w1 + \\eta(y - y_hat)*x1\n",
    "w0 := w0 + \\eta(y - y_hat)\n",
    "\n",
    "eta = learning rate - how fast perceptron converges to the line that separates the classes\n",
    "\n",
    "datapoint 0 : [5.1, 1.4]\n",
    "w0 + (w1)(x1) +(w2)(x2) =\n",
    "0.1 + (0.2)(5.1) + (-0.1)(1.4) = 0.98 (y_hat = 1)\n",
    "\n",
    "PREDICTION INCORRECT, UPDATE WEIGHTS\n",
    "weights:\n",
    "new w2 = -0.1 + 0.1(-1 - 1) * 1.4 = -0.38\n",
    "new w1 = 0.2 + 0.1(-1 - 1) * 5.1 = -10\n",
    "new w0 = 0.1 + 0.1(-1 - 1) = -0.1\n",
    "\n",
    "datapoint 1: [4.9, 1.4]\n",
    "\n",
    "Testing weights: \n",
    "w0 + (w1)(x1) +(w2)(x2) = \n",
    "-0.1 + (-10)(4.9) + (-0.38)(1.4) = -49.632 (y_hat = -1)\n",
    "\n",
    "PREDICTION CORRECT, DONT CHANGE WEIGHTS\n",
    "weights:\n",
    "new w2 = -0.38 + 0.1(-1 + 1) * 1.4 = -0.38\n",
    "new w1 = -10 + 0.1(-1 + 1) * 4.9 = -10\n",
    "new w0 = -0.1 + 0.1(-1 + 1) = -0.1\n",
    "\n",
    "datapoint 2: [4.7,1.3]\n",
    "\n",
    "Testing weight:\n",
    "-0.1 + (-10)(4.7) + (-0.38)(1.3) = -47.594 (y_hat = -1)\n",
    "\n",
    "PREDICTION CORRECT, DONT CHANGE WEIGHTS\n",
    "weights:\n",
    "new w2 = -0.38 + 0.1(-1 + 1) * 1.3 = -0.38\n",
    "new w1 = -10 + 0.1(-1 + 1) * 4.7 = -10\n",
    "new w0 = -0.1 + 0.1(-1 + 1) = -0.1\n",
    "\n",
    "<br>\n",
    "<br>\n",
    "<br><br><br><br>\n"
   ]
  },
  {
   "cell_type": "code",
   "execution_count": 1046,
   "metadata": {
    "id": "zPnHTf9MfT5X"
   },
   "outputs": [],
   "source": [
    "# Grader's area\n",
    "import numpy as np\n",
    "maxScore = 0\n",
    "\n",
    "maxScore += 10\n",
    "# acturalScore +="
   ]
  },
  {
   "cell_type": "markdown",
   "metadata": {
    "id": "aE0lUky4nrL5"
   },
   "source": [
    "-----------------------\n",
    "-----------------------\n",
    "-----------------------\n"
   ]
  },
  {
   "cell_type": "markdown",
   "metadata": {
    "id": "GZr0a5pas5BE"
   },
   "source": [
    "## <font color='#008DFF'> **Question 1. Perceptron Code Modification (15 points)**"
   ]
  },
  {
   "cell_type": "markdown",
   "metadata": {
    "id": "SpOkp4Ois5BE"
   },
   "source": [
    "The following code is a perceptron implementation (with three do-nothing lines 59-61)."
   ]
  },
  {
   "cell_type": "code",
   "execution_count": 1047,
   "metadata": {
    "id": "zG3B5C1rs5BF"
   },
   "outputs": [],
   "source": [
    "import numpy as np\n",
    "\n",
    "class Perceptron(object):\n",
    "    \"\"\"Perceptron classifier.\n",
    "\n",
    "    Parameters\n",
    "    ------------\n",
    "    eta : float\n",
    "      Learning rate (between 0.0 and 1.0)\n",
    "    n_iter : int\n",
    "      Passes over the training dataset.\n",
    "    random_state : int\n",
    "      Random number generator seed for random weight\n",
    "      initialization.\n",
    "\n",
    "    Attributes\n",
    "    -----------\n",
    "    w_ : 1d-array\n",
    "      Weights after fitting.\n",
    "    errors_ : list\n",
    "      Number of misclassifications (updates) in each epoch.\n",
    "\n",
    "    \"\"\"\n",
    "    def __init__(self, eta=0.01, n_iter=50, random_state=1):\n",
    "        self.eta = eta # learning rate\n",
    "        self.n_iter = n_iter\n",
    "        self.random_state = random_state\n",
    "\n",
    "        # -=-=--=-=--==--=-=-=-=-=-==- MY CODE -=-=-=-=-=-=-=-=-=-=-=-=-=-=-=-=-\n",
    "        self.iters_passed = 0\n",
    "        # keep track of weights\n",
    "        self.weights_history = []\n",
    "        # -=-=--=-=--==--=-=-=-=-=-==--=-=-=-=-==-=-=-=-=-=-=-=-=-=-=-=-=-=-=-=-=-\n",
    "\n",
    "    def fit(self, X, y):\n",
    "        \"\"\"Fit training data.\n",
    "\n",
    "        Parameters\n",
    "        ----------\n",
    "        X : {array-like}, shape = [n_examples, n_features]\n",
    "          Training vectors, where n_examples is the number of examples and\n",
    "          n_features is the number of features.\n",
    "        y : array-like, shape = [n_examples]\n",
    "          Target values.\n",
    "\n",
    "        Returns\n",
    "        -------\n",
    "        self : object\n",
    "\n",
    "        \"\"\"\n",
    "        rgen = np.random.RandomState(self.random_state)\n",
    "        self.w_ = rgen.normal(loc=0.0, scale=0.01, size=1 + X.shape[1])\n",
    "        self.errors_ = []\n",
    "        \n",
    "        for _ in range(self.n_iter):\n",
    "            errors = 0\n",
    "            \n",
    "            # xi (array) is a row representing an entry (with all its columns / features)\n",
    "            # target (int) is the target value for the given entry. \n",
    "            for xi, target in zip(X, y):\n",
    "                \n",
    "                #  self.predict is an ndarray of 1 and -1. depending on prediction.\n",
    "\n",
    "                # calculates weights for each row and its features\n",
    "                # target - self.predict(xi) is the error for the current entry\n",
    "                update = self.eta * (target - self.predict(xi))\n",
    "\n",
    "                # Update weights to each column if needed \n",
    "                self.w_[1:] += update * xi\n",
    "\n",
    "                #update bias \n",
    "                self.w_[0] += update\n",
    "\n",
    "                # add to error if update doesnt equal 0 .\n",
    "                # error will be zero if there is no update to be done.\n",
    "                errors += int(update != 0.0)\n",
    "\n",
    "                # -=-=--=-=--==--=-=-=-=-=-==- MY CODE -=-=-=-=-=-=-=-=-=-=-=-=-=-=-=-=-\n",
    "                # check if need to iterate more by checking if the weights predict correctly for given data.\n",
    "                ##if(self.predict(xi) == target): return\n",
    "                # -=-=--=-=--==--=-=-=-=-=-==--=-=-=-=-==-=-=-=-=-=-=-=-=-=-=-=-=-=-=-=-=-\n",
    "\n",
    "                \n",
    "                \n",
    "            self.errors_.append(errors)\n",
    "\n",
    "            # -=-=--=-=--==--=-=-=-=-=-==- MY CODE -=-=-=-=-=-=-=-=-=-=-=-=-=-=-=-=-\n",
    "\n",
    "            # Check the previous weight, if it is the same to current weight, then stop iterating.\n",
    "            if(self.weights_history and self.w_.tolist() == self.weights_history[-1]): break;\n",
    "            \n",
    "            # Keep track of number of iterations\n",
    "            self.iters_passed += 1 \n",
    "            \n",
    "            # Keep track of history of weights\n",
    "            self.weights_history.append(self.w_.tolist())\n",
    "            # -=-=--=-=--==--=-=-=-=-=-==--=-=-=-=-==-=-=-=-=-=-=-=-=-=-=-=-=-=-=-=-=-\n",
    "            \n",
    "            LW = 2020\n",
    "            \n",
    "\n",
    "        # -=-=--=-=--==--=-=-=-=-=-==- MY CODE -=-=-=-=-=-=-=-=-=-=-=-=-=-=-=-=-\n",
    "        # print number of iterations\n",
    "        \n",
    "        print(f\"Number of iterations passed: {self.iters_passed}\")\n",
    "        print('\\n')\n",
    "        \n",
    "        # print history of weights\n",
    "        \n",
    "        print(\"Weight number \\t\\t   Bias \\t\\t    w1 \\t\\t      w2\")\n",
    "        [print(f\"Weight {i}:\\t{w}\") for i,w in enumerate(self.weights_history)]\n",
    "        # -=-=--=-=--==--=-=-=-=-=-==--=-=-=-=-==-=-=-=-=-=-=-=-=-=-=-=-=-=-=-=-=-\n",
    "        return self\n",
    "\n",
    "    # Returns the dot product of the weighted sums, the input, and bias (aka z)\n",
    "    # this is the predicted value\n",
    "    def net_input(self, X):\n",
    "        \"\"\"Calculate net input\"\"\"\n",
    "        # dot(X, self.w_[1:]) is the dot prod of all inputs with weights\n",
    "        return np.dot(X, self.w_[1:]) + self.w_[0]\n",
    "\n",
    "    # Converts predicted value to either 1 or -1\n",
    "    def predict(self, X):\n",
    "        \"\"\"Return class label after unit step\"\"\"\n",
    "        # returns array where if z greater than or equal to zero, assigns 1, else 0\n",
    "        return np.where(self.net_input(X) >= 0.0, 1, -1)\n"
   ]
  },
  {
   "cell_type": "markdown",
   "metadata": {
    "id": "KSp8dd3Ws5BH"
   },
   "source": [
    "\n",
    "Work on the above cell and modify the code so that:\n",
    "\n",
    "(i) The fit function stops when no more iterations are necessary. <br>\n",
    "(ii) The trained perceptron contains as an attribute not only its weights, but also the number of iterations it took for training <br>\n",
    "(iii) The perceptron maintains a history of its weights, i.e. the set of weights after each point is processed.\n",
    "\n",
    "To modify the code please insert your code with clear comments surrounding it, similarly to \"my do-nothing code\". Make sure you evaluate the cell again,  so that following cells will be using the modified perceptron.\n",
    "\n"
   ]
  },
  {
   "cell_type": "code",
   "execution_count": 1048,
   "metadata": {
    "id": "jhbNBujBE6AZ"
   },
   "outputs": [],
   "source": [
    "# Grader's area\n",
    "\n",
    "maxScore += 15\n",
    "# acturalScore +="
   ]
  },
  {
   "cell_type": "markdown",
   "metadata": {
    "id": "HJnkSzlLntr7"
   },
   "source": [
    "-----------------------\n",
    "-----------------------\n",
    "-----------------------\n"
   ]
  },
  {
   "cell_type": "markdown",
   "metadata": {
    "id": "FE-HlQjrs5BH"
   },
   "source": [
    "## <font color='#008DFF'> **Question2: Experimenting with hyperparameters (15 points)**"
   ]
  },
  {
   "cell_type": "code",
   "execution_count": 1049,
   "metadata": {
    "id": "_1LFHklis5BI",
    "outputId": "fa3b4cc4-bca8-43f3-b284-3138e26fa221"
   },
   "outputs": [
    {
     "name": "stdout",
     "output_type": "stream",
     "text": [
      "Number of iterations passed: 39\n",
      "\n",
      "\n",
      "Weight number \t\t   Bias \t\t    w1 \t\t      w2\n",
      "Weight 0:\t[-0.0031675784740547034, 0.005373331727736705, -0.017101960956684533]\n",
      "Weight 1:\t[-0.0023875784740547013, 0.01015533172773671, -0.013305960956684534]\n",
      "Weight 2:\t[-0.002687578474054702, 0.009347331727736713, -0.011753960956684543]\n",
      "Weight 3:\t[-0.002987578474054703, 0.008521331727736715, -0.010249960956684552]\n",
      "Weight 4:\t[-0.0032675784740547036, 0.007745331727736716, -0.008831960956684558]\n",
      "Weight 5:\t[-0.0035475784740547044, 0.006859331727736718, -0.0076059609566845625]\n",
      "Weight 6:\t[-0.003787578474054705, 0.006099331727736721, -0.006503960956684567]\n",
      "Weight 7:\t[-0.004007578474054706, 0.005365331727736723, -0.005543960956684566]\n",
      "Weight 8:\t[-0.004207578474054706, 0.004695331727736724, -0.004667960956684566]\n",
      "Weight 9:\t[-0.0043875784740547066, 0.0040853317277367235, -0.0039179609566845665]\n",
      "Weight 10:\t[-0.004527578474054707, 0.003653331727736724, -0.003221960956684567]\n",
      "Weight 11:\t[-0.004667578474054707, 0.0032173317277367232, -0.0026819609566845664]\n",
      "Weight 12:\t[-0.004787578474054708, 0.002829331727736723, -0.0022659609566845662]\n",
      "Weight 13:\t[-0.004887578474054708, 0.002509331727736723, -0.0019239609566845664]\n",
      "Weight 14:\t[-0.004947578474054708, 0.002373331727736723, -0.001527960956684567]\n",
      "Weight 15:\t[-0.005047578474054708, 0.002025331727736723, -0.001299960956684567]\n",
      "Weight 16:\t[-0.005087578474054708, 0.001945331727736723, -0.0009859609566845672]\n",
      "Weight 17:\t[-0.0051475784740547086, 0.0017513317277367227, -0.0007619609566845672]\n",
      "Weight 18:\t[-0.005207578474054709, 0.0015613317277367224, -0.0005879609566845672]\n",
      "Weight 19:\t[-0.005247578474054709, 0.0014293317277367225, -0.00045796095668456727]\n",
      "Weight 20:\t[-0.005267578474054709, 0.0013793317277367224, -0.0003159609566845673]\n",
      "Weight 21:\t[-0.005287578474054709, 0.0013113317277367222, -0.0001839609566845672]\n",
      "Weight 22:\t[-0.005307578474054709, 0.0012353317277367221, -5.796095668456717e-05]\n",
      "Weight 23:\t[-0.005327578474054709, 0.001153331727736722, 8.039043315432847e-06]\n",
      "Weight 24:\t[-0.005347578474054709, 0.001065331727736722, 9.203904331543286e-05]\n",
      "Weight 25:\t[-0.005347578474054709, 0.001055331727736722, 0.00018603904331543288]\n",
      "Weight 26:\t[-0.005347578474054709, 0.001053331727736722, 0.00027003904331543286]\n",
      "Weight 27:\t[-0.005367578474054709, 0.000941331727736722, 0.00027403904331543285]\n",
      "Weight 28:\t[-0.005367578474054709, 0.000931331727736722, 0.00030603904331543287]\n",
      "Weight 29:\t[-0.005367578474054709, 0.000921331727736722, 0.0003380390433154329]\n",
      "Weight 30:\t[-0.005367578474054709, 0.0009113317277367219, 0.0003700390433154329]\n",
      "Weight 31:\t[-0.005367578474054709, 0.0009013317277367219, 0.0004020390433154329]\n",
      "Weight 32:\t[-0.005367578474054709, 0.0008913317277367219, 0.00043403904331543294]\n",
      "Weight 33:\t[-0.005367578474054709, 0.0008813317277367219, 0.00046603904331543296]\n",
      "Weight 34:\t[-0.005367578474054709, 0.0008713317277367218, 0.000498039043315433]\n",
      "Weight 35:\t[-0.005367578474054709, 0.0008613317277367218, 0.000530039043315433]\n",
      "Weight 36:\t[-0.005367578474054709, 0.0008513317277367218, 0.000562039043315433]\n",
      "Weight 37:\t[-0.005367578474054709, 0.0008413317277367218, 0.000594039043315433]\n",
      "Weight 38:\t[-0.005387578474054709, 0.0007333317277367217, 0.0005600390433154331]\n"
     ]
    },
    {
     "data": {
      "image/png": "[encoded data removed]",
      "text/plain": [
       "<Figure size 640x480 with 1 Axes>"
      ]
     },
     "metadata": {},
     "output_type": "display_data"
    }
   ],
   "source": [
    "ppn = Perceptron(eta=.00001, n_iter=1000, random_state=2)\n",
    "\n",
    "ppn.fit(X, y)\n",
    "\n",
    "plt.plot(range(1, len(ppn.errors_) + 1), ppn.errors_, marker='o')\n",
    "plt.xlabel('Epochs')\n",
    "plt.ylabel('Number of updates')\n",
    "\n",
    "plt.show()\n"
   ]
  },
  {
   "cell_type": "markdown",
   "metadata": {
    "id": "TPJ-seyas5BL"
   },
   "source": [
    "Running the above code, you can verify if your modification in question 1 works correctly. The point of this question is to experiment with the different hyperparameters. Here are some specific questions:<br>\n",
    "(i) Find the largest value of $\\eta$ for which the process takes more than 20 iterations to converge. Explain how you found that $\\eta$ <br>\n",
    "(ii) Are you able to find $\\eta>1$ for which the process fails to converge in less than 30 iterations? <br>\n",
    "(iii) Find two different settings for the random state, that give different convergence patterns, for the same $\\eta$.\n",
    "\n",
    "Please give your answers in the cell below."
   ]
  },
  {
   "cell_type": "markdown",
   "metadata": {
    "id": "VaV2vDTzs5BL"
   },
   "source": [
    "<br>Double click here to type your answer\n",
    "<br>\n",
    "<br>\n",
    "<br>\n",
    "<br>\n",
    "\n",
    "1. the largest value for learning rate that takes more than 20 iterations to converge is 0.000045.I found that by plugging in numbers, as increasing the learning rate would generally lead to faster conversion, and decreasing it would lead to slower conversion. Also increasing the max iterations past 20 to observe the change in learning rate past 20.\n",
    "\n",
    "\n",
    "2. Yes. If the learning rate is too large, it can cause it to repeatedly overshoot over and over again to the point where it doesnt converge for the optimal weights. Increasing the learning rate to a really high number makes the weights seem like nonsense.\n",
    "\n",
    "\n",
    "3. For random state 1 and random state 2, the convergence patterns look different for the eta 0.00001. In random state 1, it looks like the number of updates always goes down as epoch increases. Whereas for random state 2, the number of updates goes up briefly in the beginning and then back down.\n",
    "\n"
   ]
  },
  {
   "cell_type": "code",
   "execution_count": 1050,
   "metadata": {
    "id": "nK1mGz3wFJXh"
   },
   "outputs": [],
   "source": [
    "# Grader's area\n",
    "\n",
    "maxScore += 15\n",
    "# acturalScore +="
   ]
  },
  {
   "cell_type": "markdown",
   "metadata": {
    "id": "-PoSjSM3nvv4"
   },
   "source": [
    "-----------------------\n",
    "-----------------------\n",
    "-----------------------\n"
   ]
  },
  {
   "cell_type": "markdown",
   "metadata": {
    "id": "gmq48m4Is5BM"
   },
   "source": [
    "## <font color='#008DFF'> **Question 3: Visualizing multiple decision regions over time (10 points)**"
   ]
  },
  {
   "cell_type": "markdown",
   "metadata": {
    "id": "2-japBw1s5BM"
   },
   "source": [
    "Here is the function for visualizing decision regions"
   ]
  },
  {
   "cell_type": "code",
   "execution_count": 1051,
   "metadata": {
    "id": "xYEgTzp0s5BN"
   },
   "outputs": [],
   "source": [
    "from matplotlib.colors import ListedColormap\n",
    "\n",
    "\n",
    "def plot_decision_regions(X, y, classifier, resolution=0.02):\n",
    "\n",
    "    # setup marker generator and color map\n",
    "    markers = ('s', 'x', 'o', '^', 'v')\n",
    "    colors = ('red', 'blue', 'lightgreen', 'gray', 'cyan')\n",
    "    cmap = ListedColormap(colors[:len(np.unique(y))])\n",
    "\n",
    "    # plot the decision surface\n",
    "    x1_min, x1_max = X[:, 0].min() - 1, X[:, 0].max() + 1\n",
    "    x2_min, x2_max = X[:, 1].min() - 1, X[:, 1].max() + 1\n",
    "    xx1, xx2 = np.meshgrid(np.arange(x1_min, x1_max, resolution),\n",
    "                           np.arange(x2_min, x2_max, resolution))\n",
    "    Z = classifier.predict(np.array([xx1.ravel(), xx2.ravel()]).T)\n",
    "    Z = Z.reshape(xx1.shape)\n",
    "    plt.contourf(xx1, xx2, Z, alpha=0.3, cmap=cmap)\n",
    "    plt.xlim(xx1.min(), xx1.max())\n",
    "    plt.ylim(xx2.min(), xx2.max())\n",
    "\n",
    "    # plot class examples\n",
    "    for idx, cl in enumerate(np.unique(y)):\n",
    "        plt.scatter(x=X[y == cl, 0],\n",
    "                    y=X[y == cl, 1],\n",
    "                    alpha=0.8,\n",
    "                    c=colors[idx],\n",
    "                    marker=markers[idx],\n",
    "                    label=cl,\n",
    "                    edgecolor='black')"
   ]
  },
  {
   "cell_type": "code",
   "execution_count": 1052,
   "metadata": {
    "id": "BuQZjt4Ls5BP",
    "outputId": "d5bb4731-f41f-40b8-c79f-d15243680fe0"
   },
   "outputs": [
    {
     "name": "stderr",
     "output_type": "stream",
     "text": [
      "/var/folders/v6/pwj1f55s6717cq1w1lh4fjkw0000gn/T/ipykernel_28299/2498697379.py:24: UserWarning: You passed a edgecolor/edgecolors ('black') for an unfilled marker ('x').  Matplotlib is ignoring the edgecolor in favor of the facecolor.  This behavior may change in the future.\n",
      "  plt.scatter(x=X[y == cl, 0],\n"
     ]
    },
    {
     "data": {
      "image/png": "[encoded data removed]",
      "text/plain": [
       "<Figure size 640x480 with 1 Axes>"
      ]
     },
     "metadata": {},
     "output_type": "display_data"
    }
   ],
   "source": [
    "plot_decision_regions(X, y, classifier=ppn)\n",
    "plt.xlabel('sepal length [cm]')\n",
    "plt.ylabel('petal length [cm]')\n",
    "plt.legend(loc='upper left')\n",
    "\n",
    "\n",
    "# plt.savefig('images/02_08.png', dpi=300)\n",
    "plt.show()"
   ]
  },
  {
   "cell_type": "markdown",
   "metadata": {
    "id": "1flxKzOJs5BR"
   },
   "source": [
    "Using the above, give code that plots the decision regions for the first 5 epochs. Use learning rate = 0.01 and random seed = 1 when applicable."
   ]
  },
  {
   "cell_type": "code",
   "execution_count": 1053,
   "metadata": {
    "id": "ELrAxgSMs5BR"
   },
   "outputs": [
    {
     "name": "stdout",
     "output_type": "stream",
     "text": [
      "Number of iterations passed: 5\n",
      "\n",
      "\n",
      "Weight number \t\t   Bias \t\t    w1 \t\t      w2\n",
      "Weight 0:\t[0.03624345363663242, 0.13388243586349927, 0.08871828247736545]\n",
      "Weight 1:\t[0.016243453636632422, 0.07388243586349928, 0.12671828247736544]\n",
      "Weight 2:\t[-0.0037565463633675786, 0.019882435863499304, 0.16271828247736544]\n",
      "Weight 3:\t[-0.0037565463633675786, 0.031882435863499314, 0.20471828247736545]\n",
      "Weight 4:\t[-0.02375654636336758, -0.07011756413650068, 0.17671828247736546]\n"
     ]
    },
    {
     "name": "stderr",
     "output_type": "stream",
     "text": [
      "/var/folders/v6/pwj1f55s6717cq1w1lh4fjkw0000gn/T/ipykernel_28299/2498697379.py:24: UserWarning: You passed a edgecolor/edgecolors ('black') for an unfilled marker ('x').  Matplotlib is ignoring the edgecolor in favor of the facecolor.  This behavior may change in the future.\n",
      "  plt.scatter(x=X[y == cl, 0],\n"
     ]
    },
    {
     "data": {
      "image/png": "[encoded data removed]",
      "text/plain": [
       "<Figure size 640x480 with 1 Axes>"
      ]
     },
     "metadata": {},
     "output_type": "display_data"
    }
   ],
   "source": [
    "five_epoch_perceptron = Perceptron(eta=.01, n_iter=5, random_state=1)\n",
    "five_epoch_perceptron.fit(X, y)\n",
    "\n",
    "plot_decision_regions(X, y, classifier=five_epoch_perceptron)\n",
    "plt.xlabel('sepal length [cm]')\n",
    "plt.ylabel('petal length [cm]')\n",
    "plt.legend(loc='upper left')\n",
    "\n",
    "\n",
    "# plt.savefig('images/02_08.png', dpi=300)\n",
    "plt.show()\n"
   ]
  },
  {
   "cell_type": "code",
   "execution_count": 1054,
   "metadata": {
    "id": "XdYK3Wq-FdLx"
   },
   "outputs": [],
   "source": [
    "# Grader's area\n",
    "\n",
    "maxScore += 10\n",
    "# acturalScore +=\n"
   ]
  },
  {
   "cell_type": "markdown",
   "metadata": {
    "id": "25qE27hgnxUe"
   },
   "source": [
    "-----------------------\n",
    "-----------------------\n",
    "-----------------------\n"
   ]
  },
  {
   "cell_type": "markdown",
   "metadata": {
    "id": "K9NMguEVs5BU"
   },
   "source": [
    "## <font color='#008DFF'> **Question 4: Changing the data order in training (15 points)**\n",
    "\n"
   ]
  },
  {
   "cell_type": "markdown",
   "metadata": {
    "id": "YaspqG0Vs5BU"
   },
   "source": [
    "The data arrays (X,y) currently in the memory are organized so that the all data points with a given label (e.g. 'Setosa') lie in a contiguous part of the arrays (X,y). In this question we will check the impact of changing the order of the data in the number of iterations required to learn a correct perceptron.\n",
    "\n",
    "\n",
    "The commented code below needs a small change in order to generate a random shuffle (also called permutation) of the data). Please look up the particular functions of the code, see how they work and then do the required modification and uncomment/evaluate the code."
   ]
  },
  {
   "cell_type": "code",
   "execution_count": 1055,
   "metadata": {
    "id": "p7vn0JpBs5BV"
   },
   "outputs": [
    {
     "name": "stdout",
     "output_type": "stream",
     "text": [
      "original index 0: \t [5.1 1.4] \t -1\n",
      "original index 1: \t [4.9 1.4] \t -1\n",
      "original index 2: \t [4.7 1.3] \t -1\n",
      "original index 3: \t [4.6 1.5] \t -1\n",
      "original index 4: \t [5.  1.4] \t -1\n",
      "original index 5: \t [5.4 1.7] \t -1\n",
      "original index 6: \t [4.6 1.4] \t -1\n",
      "original index 7: \t [5.  1.5] \t -1\n",
      "original index 8: \t [4.4 1.4] \t -1\n",
      "original index 9: \t [4.9 1.5] \t -1\n",
      "original index 10: \t [5.4 1.5] \t -1\n",
      "original index 11: \t [4.8 1.6] \t -1\n",
      "original index 12: \t [4.8 1.4] \t -1\n",
      "original index 13: \t [4.3 1.1] \t -1\n",
      "original index 14: \t [5.8 1.2] \t -1\n",
      "original index 15: \t [5.7 1.5] \t -1\n",
      "original index 16: \t [5.4 1.3] \t -1\n",
      "original index 17: \t [5.1 1.4] \t -1\n",
      "original index 18: \t [5.7 1.7] \t -1\n",
      "original index 19: \t [5.1 1.5] \t -1\n",
      "original index 20: \t [5.4 1.7] \t -1\n",
      "original index 21: \t [5.1 1.5] \t -1\n",
      "original index 22: \t [4.6 1. ] \t -1\n",
      "original index 23: \t [5.1 1.7] \t -1\n",
      "original index 24: \t [4.8 1.9] \t -1\n",
      "original index 25: \t [5.  1.6] \t -1\n",
      "original index 26: \t [5.  1.6] \t -1\n",
      "original index 27: \t [5.2 1.5] \t -1\n",
      "original index 28: \t [5.2 1.4] \t -1\n",
      "original index 29: \t [4.7 1.6] \t -1\n",
      "original index 30: \t [4.8 1.6] \t -1\n",
      "original index 31: \t [5.4 1.5] \t -1\n",
      "original index 32: \t [5.2 1.5] \t -1\n",
      "original index 33: \t [5.5 1.4] \t -1\n",
      "original index 34: \t [4.9 1.5] \t -1\n",
      "original index 35: \t [5.  1.2] \t -1\n",
      "original index 36: \t [5.5 1.3] \t -1\n",
      "original index 37: \t [4.9 1.4] \t -1\n",
      "original index 38: \t [4.4 1.3] \t -1\n",
      "original index 39: \t [5.1 1.5] \t -1\n",
      "original index 40: \t [5.  1.3] \t -1\n",
      "original index 41: \t [4.5 1.3] \t -1\n",
      "original index 42: \t [4.4 1.3] \t -1\n",
      "original index 43: \t [5.  1.6] \t -1\n",
      "original index 44: \t [5.1 1.9] \t -1\n",
      "original index 45: \t [4.8 1.4] \t -1\n",
      "original index 46: \t [5.1 1.6] \t -1\n",
      "original index 47: \t [4.6 1.4] \t -1\n",
      "original index 48: \t [5.3 1.5] \t -1\n",
      "original index 49: \t [5.  1.4] \t -1\n",
      "original index 50: \t [7.  4.7] \t 1\n",
      "original index 51: \t [6.4 4.5] \t 1\n",
      "original index 52: \t [6.9 4.9] \t 1\n",
      "original index 53: \t [5.5 4. ] \t 1\n",
      "original index 54: \t [6.5 4.6] \t 1\n",
      "original index 55: \t [5.7 4.5] \t 1\n",
      "original index 56: \t [6.3 4.7] \t 1\n",
      "original index 57: \t [4.9 3.3] \t 1\n",
      "original index 58: \t [6.6 4.6] \t 1\n",
      "original index 59: \t [5.2 3.9] \t 1\n",
      "original index 60: \t [5.  3.5] \t 1\n",
      "original index 61: \t [5.9 4.2] \t 1\n",
      "original index 62: \t [6. 4.] \t 1\n",
      "original index 63: \t [6.1 4.7] \t 1\n",
      "original index 64: \t [5.6 3.6] \t 1\n",
      "original index 65: \t [6.7 4.4] \t 1\n",
      "original index 66: \t [5.6 4.5] \t 1\n",
      "original index 67: \t [5.8 4.1] \t 1\n",
      "original index 68: \t [6.2 4.5] \t 1\n",
      "original index 69: \t [5.6 3.9] \t 1\n",
      "original index 70: \t [5.9 4.8] \t 1\n",
      "original index 71: \t [6.1 4. ] \t 1\n",
      "original index 72: \t [6.3 4.9] \t 1\n",
      "original index 73: \t [6.1 4.7] \t 1\n",
      "original index 74: \t [6.4 4.3] \t 1\n",
      "original index 75: \t [6.6 4.4] \t 1\n",
      "original index 76: \t [6.8 4.8] \t 1\n",
      "original index 77: \t [6.7 5. ] \t 1\n",
      "original index 78: \t [6.  4.5] \t 1\n",
      "original index 79: \t [5.7 3.5] \t 1\n",
      "original index 80: \t [5.5 3.8] \t 1\n",
      "original index 81: \t [5.5 3.7] \t 1\n",
      "original index 82: \t [5.8 3.9] \t 1\n",
      "original index 83: \t [6.  5.1] \t 1\n",
      "original index 84: \t [5.4 4.5] \t 1\n",
      "original index 85: \t [6.  4.5] \t 1\n",
      "original index 86: \t [6.7 4.7] \t 1\n",
      "original index 87: \t [6.3 4.4] \t 1\n",
      "original index 88: \t [5.6 4.1] \t 1\n",
      "original index 89: \t [5.5 4. ] \t 1\n",
      "original index 90: \t [5.5 4.4] \t 1\n",
      "original index 91: \t [6.1 4.6] \t 1\n",
      "original index 92: \t [5.8 4. ] \t 1\n",
      "original index 93: \t [5.  3.3] \t 1\n",
      "original index 94: \t [5.6 4.2] \t 1\n",
      "original index 95: \t [5.7 4.2] \t 1\n",
      "original index 96: \t [5.7 4.2] \t 1\n",
      "original index 97: \t [6.2 4.3] \t 1\n",
      "original index 98: \t [5.1 3. ] \t 1\n",
      "original index 99: \t [5.7 4.1] \t 1\n",
      "--=-=-=-=-=-=-=-==--==-=-=-=-=-\n",
      "shuffled index 0: \t [5.2 3.9] \t 1\n",
      "shuffled index 1: \t [5.8 1.2] \t -1\n",
      "shuffled index 2: \t [5.1 1.7] \t -1\n",
      "shuffled index 3: \t [5.6 4.5] \t 1\n",
      "shuffled index 4: \t [5.2 1.5] \t -1\n",
      "shuffled index 5: \t [4.9 1.4] \t -1\n",
      "shuffled index 6: \t [5.7 1.7] \t -1\n",
      "shuffled index 7: \t [5.1 1.9] \t -1\n",
      "shuffled index 8: \t [4.6 1.5] \t -1\n",
      "shuffled index 9: \t [6.6 4.4] \t 1\n",
      "shuffled index 10: \t [6.2 4.5] \t 1\n",
      "shuffled index 11: \t [5.7 4.2] \t 1\n",
      "shuffled index 12: \t [5.5 4.4] \t 1\n",
      "shuffled index 13: \t [5.9 4.8] \t 1\n",
      "shuffled index 14: \t [6.7 4.4] \t 1\n",
      "shuffled index 15: \t [4.8 1.9] \t -1\n",
      "shuffled index 16: \t [4.7 1.3] \t -1\n",
      "shuffled index 17: \t [4.3 1.1] \t -1\n",
      "shuffled index 18: \t [5.  1.6] \t -1\n",
      "shuffled index 19: \t [5.  1.5] \t -1\n",
      "shuffled index 20: \t [4.6 1.4] \t -1\n",
      "shuffled index 21: \t [6. 4.] \t 1\n",
      "shuffled index 22: \t [6.1 4.7] \t 1\n",
      "shuffled index 23: \t [5.5 1.3] \t -1\n",
      "shuffled index 24: \t [6.6 4.6] \t 1\n",
      "shuffled index 25: \t [6.8 4.8] \t 1\n",
      "shuffled index 26: \t [5.2 1.5] \t -1\n",
      "shuffled index 27: \t [5.4 1.5] \t -1\n",
      "shuffled index 28: \t [4.4 1.3] \t -1\n",
      "shuffled index 29: \t [6.  4.5] \t 1\n",
      "shuffled index 30: \t [6.  4.5] \t 1\n",
      "shuffled index 31: \t [5.1 1.4] \t -1\n",
      "shuffled index 32: \t [4.4 1.3] \t -1\n",
      "shuffled index 33: \t [5.4 1.3] \t -1\n",
      "shuffled index 34: \t [5.1 1.4] \t -1\n",
      "shuffled index 35: \t [5.5 1.4] \t -1\n",
      "shuffled index 36: \t [4.9 1.5] \t -1\n",
      "shuffled index 37: \t [6.1 4.7] \t 1\n",
      "shuffled index 38: \t [5.7 1.5] \t -1\n",
      "shuffled index 39: \t [6.4 4.5] \t 1\n",
      "shuffled index 40: \t [6.3 4.7] \t 1\n",
      "shuffled index 41: \t [5.4 1.7] \t -1\n",
      "shuffled index 42: \t [5.7 3.5] \t 1\n",
      "shuffled index 43: \t [4.6 1. ] \t -1\n",
      "shuffled index 44: \t [5.  1.6] \t -1\n",
      "shuffled index 45: \t [5.8 4.1] \t 1\n",
      "shuffled index 46: \t [6.9 4.9] \t 1\n",
      "shuffled index 47: \t [5.7 4.1] \t 1\n",
      "shuffled index 48: \t [4.9 1.4] \t -1\n",
      "shuffled index 49: \t [5.6 4.1] \t 1\n",
      "shuffled index 50: \t [5.5 4. ] \t 1\n",
      "shuffled index 51: \t [5.7 4.2] \t 1\n",
      "shuffled index 52: \t [4.9 3.3] \t 1\n",
      "shuffled index 53: \t [5.5 4. ] \t 1\n",
      "shuffled index 54: \t [5.4 4.5] \t 1\n",
      "shuffled index 55: \t [5.1 1.5] \t -1\n",
      "shuffled index 56: \t [6.4 4.3] \t 1\n",
      "shuffled index 57: \t [6.5 4.6] \t 1\n",
      "shuffled index 58: \t [5.6 3.9] \t 1\n",
      "shuffled index 59: \t [5.2 1.4] \t -1\n",
      "shuffled index 60: \t [5.1 3. ] \t 1\n",
      "shuffled index 61: \t [6.7 5. ] \t 1\n",
      "shuffled index 62: \t [6.3 4.4] \t 1\n",
      "shuffled index 63: \t [5.8 4. ] \t 1\n",
      "shuffled index 64: \t [4.8 1.6] \t -1\n",
      "shuffled index 65: \t [5.  1.6] \t -1\n",
      "shuffled index 66: \t [4.8 1.4] \t -1\n",
      "shuffled index 67: \t [5.  1.4] \t -1\n",
      "shuffled index 68: \t [6.7 4.7] \t 1\n",
      "shuffled index 69: \t [5.6 4.2] \t 1\n",
      "shuffled index 70: \t [5.9 4.2] \t 1\n",
      "shuffled index 71: \t [6.1 4. ] \t 1\n",
      "shuffled index 72: \t [4.8 1.4] \t -1\n",
      "shuffled index 73: \t [4.4 1.4] \t -1\n",
      "shuffled index 74: \t [5.6 3.6] \t 1\n",
      "shuffled index 75: \t [6.  5.1] \t 1\n",
      "shuffled index 76: \t [4.9 1.5] \t -1\n",
      "shuffled index 77: \t [6.1 4.6] \t 1\n",
      "shuffled index 78: \t [4.7 1.6] \t -1\n",
      "shuffled index 79: \t [4.5 1.3] \t -1\n",
      "shuffled index 80: \t [5.1 1.5] \t -1\n",
      "shuffled index 81: \t [4.6 1.4] \t -1\n",
      "shuffled index 82: \t [4.8 1.6] \t -1\n",
      "shuffled index 83: \t [5.7 4.5] \t 1\n",
      "shuffled index 84: \t [5.5 3.8] \t 1\n",
      "shuffled index 85: \t [5.  3.3] \t 1\n",
      "shuffled index 86: \t [5.  1.2] \t -1\n",
      "shuffled index 87: \t [6.2 4.3] \t 1\n",
      "shuffled index 88: \t [5.  3.5] \t 1\n",
      "shuffled index 89: \t [5.  1.4] \t -1\n",
      "shuffled index 90: \t [6.3 4.9] \t 1\n",
      "shuffled index 91: \t [5.  1.3] \t -1\n",
      "shuffled index 92: \t [5.4 1.7] \t -1\n",
      "shuffled index 93: \t [5.5 3.7] \t 1\n",
      "shuffled index 94: \t [5.8 3.9] \t 1\n",
      "shuffled index 95: \t [5.1 1.6] \t -1\n",
      "shuffled index 96: \t [5.4 1.5] \t -1\n",
      "shuffled index 97: \t [7.  4.7] \t 1\n",
      "shuffled index 98: \t [5.1 1.5] \t -1\n",
      "shuffled index 99: \t [5.3 1.5] \t -1\n",
      "sum of original X: 833.2\n",
      "sum of original y: 0\n",
      "sum of shuffled X: 833.2\n",
      "sum of shuffled y: 0\n"
     ]
    }
   ],
   "source": [
    "# establish a random shuffle\n",
    "random_indices = np.arange(len(X)) # nparray from 0 to 99 \n",
    "np.random.shuffle(random_indices)  # now random indicies from 0 to 99\n",
    "\n",
    "#shuffle sample\n",
    "#X_shuffle = X[s];\n",
    "#y_shuffle = y[s];\n",
    "X_shuffle = [0] * len(X)\n",
    "y_shuffle = [0] * len(X)\n",
    "\n",
    "for i in range(len(X)):\n",
    "    X_shuffle[i] = X[random_indices[i]] \n",
    "    y_shuffle[i] = y[random_indices[i]] \n",
    "\n",
    "# Convert to numpy array\n",
    "X_shuffle = np.array(X_shuffle)\n",
    "y_shuffle = np.array(y_shuffle)\n",
    "\n",
    "for i in range(len(X)):\n",
    "    print(f\"original index {i}: \\t {X[i]} \\t {y[i]}\")    \n",
    "\n",
    "print(\"--=-=-=-=-=-=-=-==--==-=-=-=-=-\")\n",
    "\n",
    "for i in range(len(X)):\n",
    "    print(f\"shuffled index {i}: \\t {X_shuffle[i]} \\t {y_shuffle[i]}\")\n",
    "\n",
    "\n",
    "# Check to see if the sum between original and shuffled is the same to see if all values are present between both.\n",
    "sum_of_orig_X = np.sum(X)\n",
    "sum_of_orig_y = np.sum(y)\n",
    "sum_of_shuffled_X = np.sum(X_shuffle)\n",
    "sum_of_shuffled_y = np.sum(y_shuffle)\n",
    "print(f\"sum of original X: {sum_of_orig_X}\")\n",
    "print(f\"sum of original y: {sum_of_orig_y}\")\n",
    "print(f\"sum of shuffled X: {sum_of_shuffled_X}\")\n",
    "print(f\"sum of shuffled y: {sum_of_shuffled_y}\")\n"
   ]
  },
  {
   "cell_type": "code",
   "execution_count": null,
   "metadata": {
    "id": "y-UAs0IUs5BX"
   },
   "outputs": [],
   "source": []
  },
  {
   "cell_type": "markdown",
   "metadata": {
    "id": "iMRQkM_1s5BZ"
   },
   "source": [
    "Modify the code below as follows: <br>\n",
    "(i) Pick a sufficiently small $\\eta$ so that convergences takes 20 iterations or more <br>\n",
    "(ii) Add an extra line that fits the perceptron on the shuffled data <br>\n",
    "(iii) Plot the error for both training processes (the original, and the shuffled ata)\n",
    "\n",
    "What do you observe?"
   ]
  },
  {
   "cell_type": "code",
   "execution_count": 1056,
   "metadata": {
    "id": "uL1T1_7As5BZ"
   },
   "outputs": [
    {
     "name": "stdout",
     "output_type": "stream",
     "text": [
      "Number of iterations passed: 23\n",
      "\n",
      "\n",
      "Weight number \t\t   Bias \t\t    w1 \t\t      w2\n",
      "Weight 0:\t[-0.002247578474054701, 0.011035331727736707, -0.01293196095668454]\n",
      "Weight 1:\t[-0.002667578474054702, 0.009841331727736704, -0.010645960956684542]\n",
      "Weight 2:\t[-0.003087578474054703, 0.008551331727736701, -0.008719960956684545]\n",
      "Weight 3:\t[-0.0035075784740547043, 0.007213331727736699, -0.007105960956684547]\n",
      "Weight 4:\t[-0.003867578474054705, 0.006139331727736699, -0.005791960956684547]\n",
      "Weight 5:\t[-0.004227578474054706, 0.004951331727736699, -0.004975960956684545]\n",
      "Weight 6:\t[-0.004407578474054707, 0.004561331727736699, -0.0038959609566845427]\n",
      "Weight 7:\t[-0.004647578474054707, 0.0038113317277366993, -0.003121960956684541]\n",
      "Weight 8:\t[-0.004827578474054708, 0.0032473317277366986, -0.0024499609566845403]\n",
      "Weight 9:\t[-0.004947578474054708, 0.003007331727736699, -0.0018439609566845395]\n",
      "Weight 10:\t[-0.0051275784740547085, 0.002419331727736699, -0.001489960956684539]\n",
      "Weight 11:\t[-0.005187578474054709, 0.002341331727736699, -0.001015960956684539]\n",
      "Weight 12:\t[-0.005307578474054709, 0.001963331727736699, -0.0007939609566845393]\n",
      "Weight 13:\t[-0.005367578474054709, 0.0018133317277366989, -0.0005239609566845394]\n",
      "Weight 14:\t[-0.005427578474054709, 0.0016393317277366988, -0.00025996095668453937]\n",
      "Weight 15:\t[-0.0054875784740547095, 0.0014593317277366987, -0.0001459609566845393]\n",
      "Weight 16:\t[-0.00554757847405471, 0.0012493317277366986, -4.996095668453925e-05]\n",
      "Weight 17:\t[-0.00554757847405471, 0.0013273317277366985, 0.00013603904331546077]\n",
      "Weight 18:\t[-0.00560757847405471, 0.0010933317277366985, 0.0002620390433154608]\n",
      "Weight 19:\t[-0.00560757847405471, 0.0011173317277366984, 0.00041803904331546085]\n",
      "Weight 20:\t[-0.00560757847405471, 0.0011053317277366984, 0.0005320390433154608]\n",
      "Weight 21:\t[-0.00560757847405471, 0.0010933317277366983, 0.0006460390433154608]\n",
      "Weight 22:\t[-0.00566757847405471, 0.0007873317277366982, 0.0005620390433154608]\n"
     ]
    },
    {
     "data": {
      "image/png": "[encoded data removed]",
      "text/plain": [
       "<Figure size 640x480 with 1 Axes>"
      ]
     },
     "metadata": {},
     "output_type": "display_data"
    },
    {
     "name": "stdout",
     "output_type": "stream",
     "text": [
      "Number of iterations passed: 29\n",
      "\n",
      "\n",
      "Weight number \t\t   Bias \t\t    w1 \t\t      w2\n",
      "Weight 0:\t[-0.002247578474054701, 0.011035331727736707, -0.01293196095668454]\n",
      "Weight 1:\t[-0.002667578474054702, 0.009841331727736704, -0.010645960956684542]\n",
      "Weight 2:\t[-0.003087578474054703, 0.008551331727736701, -0.008719960956684545]\n",
      "Weight 3:\t[-0.0035075784740547043, 0.007213331727736699, -0.007105960956684547]\n",
      "Weight 4:\t[-0.003867578474054705, 0.006139331727736699, -0.005791960956684547]\n",
      "Weight 5:\t[-0.004227578474054706, 0.004951331727736699, -0.004975960956684545]\n",
      "Weight 6:\t[-0.004407578474054707, 0.004561331727736699, -0.0038959609566845427]\n",
      "Weight 7:\t[-0.004647578474054707, 0.0038113317277366993, -0.003121960956684541]\n",
      "Weight 8:\t[-0.004827578474054708, 0.0032473317277366986, -0.0024499609566845403]\n",
      "Weight 9:\t[-0.004947578474054708, 0.003007331727736699, -0.0018439609566845395]\n",
      "Weight 10:\t[-0.0051275784740547085, 0.002419331727736699, -0.001489960956684539]\n",
      "Weight 11:\t[-0.005187578474054709, 0.002341331727736699, -0.001015960956684539]\n",
      "Weight 12:\t[-0.005307578474054709, 0.001963331727736699, -0.0007939609566845393]\n",
      "Weight 13:\t[-0.005367578474054709, 0.0018133317277366989, -0.0005239609566845394]\n",
      "Weight 14:\t[-0.005427578474054709, 0.0016393317277366988, -0.00025996095668453937]\n",
      "Weight 15:\t[-0.0054875784740547095, 0.0014593317277366987, -0.0001459609566845393]\n",
      "Weight 16:\t[-0.00554757847405471, 0.0012493317277366986, -4.996095668453925e-05]\n",
      "Weight 17:\t[-0.00554757847405471, 0.0013273317277366985, 0.00013603904331546077]\n",
      "Weight 18:\t[-0.00560757847405471, 0.0010933317277366985, 0.0002620390433154608]\n",
      "Weight 19:\t[-0.00560757847405471, 0.0011173317277366984, 0.00041803904331546085]\n",
      "Weight 20:\t[-0.00560757847405471, 0.0011053317277366984, 0.0005320390433154608]\n",
      "Weight 21:\t[-0.00560757847405471, 0.0010933317277366983, 0.0006460390433154608]\n",
      "Weight 22:\t[-0.00566757847405471, 0.0007873317277366982, 0.0005620390433154608]\n",
      "Weight 23:\t[-0.002967578474054703, 0.008131331727736705, -0.011983960956684548]\n",
      "Weight 24:\t[-0.0039875784740547055, 0.00504733172773671, -0.007597960956684555]\n",
      "Weight 25:\t[-0.004947578474054708, 0.0022633317277367102, -0.0030619609566845496]\n",
      "Weight 26:\t[-0.0054875784740547095, 0.0008893317277367094, 0.0001660390433154504]\n",
      "Weight 27:\t[-0.0054875784740547095, 0.0008413317277367093, 0.00043603904331545034]\n",
      "Weight 28:\t[-0.00554757847405471, 0.0006133317277367092, 0.0008260390433154504]\n"
     ]
    },
    {
     "data": {
      "image/png": "[encoded data removed]",
      "text/plain": [
       "<Figure size 640x480 with 1 Axes>"
      ]
     },
     "metadata": {},
     "output_type": "display_data"
    }
   ],
   "source": [
    "ppn = Perceptron(eta=.00003, n_iter=100, random_state=2)\n",
    "\n",
    "\n",
    "# original\n",
    "ppn.fit(X, y)\n",
    "\n",
    "plt.plot(range(1, len(ppn.errors_) + 1), ppn.errors_, marker='o')\n",
    "plt.xlabel('Epochs')\n",
    "plt.ylabel('Number of updates')\n",
    "plt.title(\"original\")\n",
    "\n",
    "# plt.savefig('images/02_07.png', dpi=300)\n",
    "plt.show()\n",
    "\n",
    "# -=-==-=-=-=-=-=-=-==-=-=-=--=-==-=-=-=-=-=-=-=-=-=-=-=-=-=-=-=-=--==-=-=-\n",
    "\n",
    "# shuffled\n",
    "ppn.fit(X_shuffle, y_shuffle)\n",
    "\n",
    "plt.plot(range(1, len(ppn.errors_) + 1), ppn.errors_, marker='o')\n",
    "plt.xlabel('Epochs')\n",
    "plt.ylabel('Number of updates')\n",
    "plt.title(\"shuffled\")\n",
    "\n",
    "# plt.savefig('images/02_07.png', dpi=300)\n",
    "plt.show()"
   ]
  },
  {
   "cell_type": "markdown",
   "metadata": {
    "id": "XA3HAeKJs5Bc"
   },
   "source": [
    "-- Give your answers here\n",
    "\n",
    "Randomizing the data makes convergence faster! (number of epoches to converge goes from 25 to 6) but number of update also increases for each epoch.\n",
    "\n",
    "I think this is  because in the initial dataset, one half of it has -1 as the y and the other half has 1 as the y. this means the perceptron doesnt see the 1 labels until later, which could lead to inaccurate weights in the beginning. In shuffled, it sees 1 and -1, so it updates weights accordingly."
   ]
  },
  {
   "cell_type": "code",
   "execution_count": 1057,
   "metadata": {
    "id": "0RXr9FkQFikr"
   },
   "outputs": [],
   "source": [
    "# Grader's area\n",
    "\n",
    "maxScore += 15\n",
    "# acturalScore +="
   ]
  },
  {
   "cell_type": "markdown",
   "metadata": {
    "id": "Tq_fo7MQnysW"
   },
   "source": [
    "-----------------------\n",
    "-----------------------\n",
    "-----------------------\n"
   ]
  },
  {
   "cell_type": "markdown",
   "metadata": {
    "id": "2AYf1oGGs5Bi"
   },
   "source": [
    "## <font color='#008DFF'> **Question 5: Understanding linear transformations (20 points)**\n",
    "\n",
    "Suppose we have a 2-dimensional data set. Then we transform each data point $X_j = (X_{j,1}, X_{j,2})$ as follows: $\\tilde{X_j} = ( a X_{j,1} - c, b X_{j,2}-c)$, where $a,b,c$ are constant numbers. This is a linear transformation, because our transformed data comes from simple operations that use 'first powers' of the original data.\n",
    "\n",
    "\n",
    "If our given data set is linearly separable, is the same true for the transformed one? In the following cells you can plot a transformed version of the Iris dataset, so that you see how it behaves (for your choice of $a, b, c$.) But you should also try and justify your answer in a theoretical way: if there exists a  'good' perceptron for the original data set, what would be the weights for the perceptron that works on the transformed set?"
   ]
  },
  {
   "cell_type": "code",
   "execution_count": 1058,
   "metadata": {
    "id": "oXawcufks5Bi"
   },
   "outputs": [
    {
     "name": "stdout",
     "output_type": "stream",
     "text": [
      "Number of iterations passed: 38\n",
      "\n",
      "\n",
      "Weight number \t\t   Bias \t\t    w1 \t\t      w2\n",
      "Weight 0:\t[-0.002247578474054701, 0.011035331727736707, -0.01293196095668454]\n",
      "Weight 1:\t[-0.002667578474054702, 0.009841331727736704, -0.010645960956684542]\n",
      "Weight 2:\t[-0.003087578474054703, 0.008551331727736701, -0.008719960956684545]\n",
      "Weight 3:\t[-0.0035075784740547043, 0.007213331727736699, -0.007105960956684547]\n",
      "Weight 4:\t[-0.003867578474054705, 0.006139331727736699, -0.005791960956684547]\n",
      "Weight 5:\t[-0.004227578474054706, 0.004951331727736699, -0.004975960956684545]\n",
      "Weight 6:\t[-0.004407578474054707, 0.004561331727736699, -0.0038959609566845427]\n",
      "Weight 7:\t[-0.004647578474054707, 0.0038113317277366993, -0.003121960956684541]\n",
      "Weight 8:\t[-0.004827578474054708, 0.0032473317277366986, -0.0024499609566845403]\n",
      "Weight 9:\t[-0.004947578474054708, 0.003007331727736699, -0.0018439609566845395]\n",
      "Weight 10:\t[-0.0051275784740547085, 0.002419331727736699, -0.001489960956684539]\n",
      "Weight 11:\t[-0.005187578474054709, 0.002341331727736699, -0.001015960956684539]\n",
      "Weight 12:\t[-0.005307578474054709, 0.001963331727736699, -0.0007939609566845393]\n",
      "Weight 13:\t[-0.005367578474054709, 0.0018133317277366989, -0.0005239609566845394]\n",
      "Weight 14:\t[-0.005427578474054709, 0.0016393317277366988, -0.00025996095668453937]\n",
      "Weight 15:\t[-0.0054875784740547095, 0.0014593317277366987, -0.0001459609566845393]\n",
      "Weight 16:\t[-0.00554757847405471, 0.0012493317277366986, -4.996095668453925e-05]\n",
      "Weight 17:\t[-0.00554757847405471, 0.0013273317277366985, 0.00013603904331546077]\n",
      "Weight 18:\t[-0.00560757847405471, 0.0010933317277366985, 0.0002620390433154608]\n",
      "Weight 19:\t[-0.00560757847405471, 0.0011173317277366984, 0.00041803904331546085]\n",
      "Weight 20:\t[-0.00560757847405471, 0.0011053317277366984, 0.0005320390433154608]\n",
      "Weight 21:\t[-0.00560757847405471, 0.0010933317277366983, 0.0006460390433154608]\n",
      "Weight 22:\t[-0.00566757847405471, 0.0007873317277366982, 0.0005620390433154608]\n",
      "Weight 23:\t[-0.002967578474054703, 0.008131331727736705, -0.011983960956684548]\n",
      "Weight 24:\t[-0.0039875784740547055, 0.00504733172773671, -0.007597960956684555]\n",
      "Weight 25:\t[-0.004947578474054708, 0.0022633317277367102, -0.0030619609566845496]\n",
      "Weight 26:\t[-0.0054875784740547095, 0.0008893317277367094, 0.0001660390433154504]\n",
      "Weight 27:\t[-0.0054875784740547095, 0.0008413317277367093, 0.00043603904331545034]\n",
      "Weight 28:\t[-0.00554757847405471, 0.0006133317277367092, 0.0008260390433154504]\n",
      "Weight 29:\t[-0.0031475784740547033, 0.008605331727736705, -0.0026419609566845424]\n",
      "Weight 30:\t[-0.003807578474054705, 0.004861331727736705, -0.0014419609566845423]\n",
      "Weight 31:\t[-0.004107578474054706, 0.0031213317277367044, -1.9609566845419854e-06]\n",
      "Weight 32:\t[-0.004407578474054707, 0.0012493317277367045, -0.00015196095668454216]\n",
      "Weight 33:\t[-0.004467578474054707, 0.0010093317277367045, 0.0005680390433154578]\n",
      "Weight 34:\t[-0.004527578474054707, 0.0008293317277367044, 0.0013180390433154578]\n",
      "Weight 35:\t[-0.004647578474054707, 7.333172773670444e-05, 0.001468039043315458]\n",
      "Weight 36:\t[-0.004707578474054707, -0.0003226682722632955, 0.0015580390433154582]\n",
      "Weight 37:\t[-0.0047675784740547076, -0.0006946682722632955, 0.0012880390433154581]\n"
     ]
    },
    {
     "data": {
      "image/png": "[encoded data removed]",
      "text/plain": [
       "<Figure size 640x480 with 1 Axes>"
      ]
     },
     "metadata": {},
     "output_type": "display_data"
    },
    {
     "data": {
      "text/plain": [
       "'\\nthe transformed is linearly seperable since it converges.\\nthe transform weights would be scaled according to the scales.\\nthe bias would change according to the c term, since adding or subtracting just like the bias term.\\n'"
      ]
     },
     "execution_count": 1058,
     "metadata": {},
     "output_type": "execute_result"
    }
   ],
   "source": [
    "a=2\n",
    "b=5\n",
    "c=3\n",
    "\n",
    "X_trans = X\n",
    "# transform the first features\n",
    "X_trans[:,0] *= a\n",
    "# transform the second features\n",
    "X_trans[:,1] *= b\n",
    "# transform everything\n",
    "X_trans -= c\n",
    "\n",
    "#print(X_trans)\n",
    "\n",
    "ppn.fit(X_trans, y)\n",
    "\n",
    "plt.plot(range(1, len(ppn.errors_) + 1), ppn.errors_, marker='o')\n",
    "plt.xlabel('Epochs')\n",
    "plt.ylabel('Number of updates')\n",
    "plt.title(\"linear transformed X\")\n",
    "\n",
    "# plt.savefig('images/02_07.png', dpi=300)\n",
    "plt.show()\n",
    "\n",
    "\"\"\"\n",
    "the transformed is linearly seperable since it converges.\n",
    "the transform weights would be scaled according to the scales.\n",
    "the bias would change according to the c term, since adding or subtracting just like the bias term.\n",
    "\"\"\""
   ]
  },
  {
   "cell_type": "code",
   "execution_count": 1059,
   "metadata": {
    "id": "NVpxHL7PH0K5"
   },
   "outputs": [],
   "source": [
    "# Grader's area\n",
    "\n",
    "maxScore += 20\n",
    "# acturalScore +=\n"
   ]
  },
  {
   "cell_type": "code",
   "execution_count": null,
   "metadata": {
    "id": "dzi3tg8ZITdP"
   },
   "outputs": [],
   "source": []
  },
  {
   "cell_type": "markdown",
   "metadata": {
    "id": "rPupiZJMnz7N"
   },
   "source": [
    "-----------------------\n",
    "-----------------------\n",
    "-----------------------\n"
   ]
  },
  {
   "cell_type": "markdown",
   "metadata": {
    "id": "vsYrJLtXLXXl"
   },
   "source": [
    "## <font color='#008DFF'> **Question 6: Linear regression with numpy 1-liners (15 points)**"
   ]
  },
  {
   "cell_type": "code",
   "execution_count": 1060,
   "metadata": {
    "id": "ZF6ZpxTdLdN0"
   },
   "outputs": [],
   "source": [
    "# here we initialize a random data matrix X and random numerical labels y\n",
    "import numpy as np\n",
    "\n",
    "X = np.random.randn(10,3) # 10 entries and 3 features for each entry\n",
    "y = np.random.randn(10,1) # the labels\n",
    "\n",
    "\n",
    "# we also initialize a hypothetical hyperplane defined by w and b\n",
    "# weights is w and bias is b\n",
    "w = np.random.randn(1,3)\n",
    "b = -1\n"
   ]
  },
  {
   "cell_type": "code",
   "execution_count": 1061,
   "metadata": {
    "id": "OFJ8HyPwMF_1"
   },
   "outputs": [],
   "source": [
    "# (i) find the numerical labels predicted by the model (w,b) for the points in X\n",
    "#     your code should be a single numpy line\n",
    "#     hint: we wrote this equation for a single point x in class\n",
    "#           try to generalize it by expressing everying in terms of matrices\n",
    "\n",
    "# your code goes here\n",
    "\n",
    "\"\"\"\n",
    "for each row in X, multiply each row for the corresponding feature. Then add b. \n",
    "this gives the predicted y for the row.\n",
    "\n",
    "the dot product between two vectors gives the sum of the sum for each individual items\n",
    "\"\"\"\n",
    "\n",
    "# predicts the first entry, now do for each entry\n",
    "# y_predicted = np.dot(X[0],w[0])+b\n",
    "\n",
    "# one liner\n",
    "y_predicted = [(np.dot(X[i], w[0])+b) for i in range(len(X))]\n",
    "\n"
   ]
  },
  {
   "cell_type": "code",
   "execution_count": 1062,
   "metadata": {
    "id": "YwVDmS_mM-iU"
   },
   "outputs": [
    {
     "name": "stdout",
     "output_type": "stream",
     "text": [
      "\n",
      "\n",
      "true values\n",
      "Label 0: 0.7419827235153229\n",
      "Label 1: -2.5039284868673914\n",
      "Label 2: -0.24130510244389114\n",
      "Label 3: 0.20415253012831439\n",
      "Label 4: -0.062120704458730226\n",
      "Label 5: -0.16545994039345013\n",
      "Label 6: -0.5071292090774647\n",
      "Label 7: -0.2928108651809543\n",
      "Label 8: -0.506400454586612\n",
      "Label 9: -2.1288824385139478\n",
      "\n",
      "\n",
      "old prediction\n",
      "Label 0: 0.3070847452250629\n",
      "Label 1: -1.649996898041889\n",
      "Label 2: 1.2861171376095353\n",
      "Label 3: 1.5669327570120744\n",
      "Label 4: -1.586454856697665\n",
      "Label 5: -1.5024482800465049\n",
      "Label 6: -1.8604714283638595\n",
      "Label 7: -0.25457004709427633\n",
      "Label 8: -0.3556211604657119\n",
      "Label 9: 0.2507775231170981\n",
      "\n",
      "\n",
      "new prediction\n",
      "Label 0: 0.23007218286688258\n",
      "Label 1: -1.6026966466549084\n",
      "Label 2: 1.1552763623595794\n",
      "Label 3: 1.4557057441858645\n",
      "Label 4: -1.5006479674949575\n",
      "Label 5: -1.447149627285837\n",
      "Label 6: -1.743184328212184\n",
      "Label 7: -0.22046957563624736\n",
      "Label 8: -0.47108193354809336\n",
      "Label 9: 0.08155985865921989\n"
     ]
    }
   ],
   "source": [
    "# (ii) find the updated weights after one application of gradient descent with lr = 0.1\n",
    "#      your code should be a single numpy line\n",
    "\n",
    "# find the change in y \n",
    "\n",
    "# calculate cost funcvtion\n",
    "# calculate the gradient of cost function with respect to each parameter. \n",
    "#       (This gives you the direction and magnitude in order to reduce cost function\n",
    "# update the features so the cost function is minimized.\n",
    "\n",
    "# predicted - true\n",
    "loss =  np.array(y_predicted)  -  np.squeeze(y) \n",
    "y = np.squeeze(y).tolist()\n",
    "\n",
    "\"\"\"\n",
    "Calculate the gradient using X' * loss / m\n",
    "\"\"\"\n",
    "X_transposed = np.transpose(X)\n",
    "\n",
    "\n",
    "gradient = (1/len(X)) * (np.dot(X_transposed, (loss)))\n",
    "\n",
    "\n",
    "# new_params = old_params - learning_rate * np.gradient(loss_function(old_params))\n",
    "updated_weights = w - 0.1 * gradient\n",
    "\n",
    "#new_y_predicted = [(np.dot(X[i], updated_weights[0])+b) for i in range(len(X))]\n",
    "\n",
    "#-=-=-=-=-=-=-=-=-=-=-=-=-=-=-=- ONE LINER -=-=-=-=-=-=--==-=-=-=-=-=-=-=-=-=-=-\n",
    "new_y_predicted = [(np.dot(X[i], (w - 0.1 * (1/len(X)) * (np.dot(np.transpose(X), (np.array(y_predicted)  -  np.squeeze(y) ))))[0])+b) for i in range(len(X))]\n",
    "\n",
    "# test the new weights to see if it actually worked\n",
    "print('\\n')\n",
    "print(\"true values\")\n",
    "# true values\n",
    "for i,val in enumerate(y):\n",
    "    print(f\"Label {i}: {val}\")\n",
    "\n",
    "print('\\n')\n",
    "print(\"old prediction\")\n",
    "# old prediction\n",
    "for i,val in enumerate(y_predicted):\n",
    "    print(f\"Label {i}: {val}\")\n",
    "    \n",
    "print('\\n')\n",
    "print(\"new prediction\")\n",
    "# new prediction\n",
    "for i, val in enumerate(new_y_predicted):\n",
    "    print(f\"Label {i}: {val}\")\n",
    "\n",
    "\n"
   ]
  },
  {
   "cell_type": "code",
   "execution_count": null,
   "metadata": {
    "id": "CIf0uLDCO-80"
   },
   "outputs": [],
   "source": []
  },
  {
   "cell_type": "code",
   "execution_count": 1063,
   "metadata": {
    "id": "mJJp2OGPnKpX"
   },
   "outputs": [],
   "source": [
    "# Grader's area\n",
    "\n",
    "maxScore += 15\n",
    "# acturalScore +=\n"
   ]
  },
  {
   "cell_type": "markdown",
   "metadata": {
    "id": "66XBKQj-n_hZ"
   },
   "source": [
    "-----------------------\n",
    "-----------------------\n",
    "-----------------------\n"
   ]
  },
  {
   "cell_type": "code",
   "execution_count": 1064,
   "metadata": {
    "id": "IVkneTzYCAxs"
   },
   "outputs": [
    {
     "ename": "NameError",
     "evalue": "name 'actualScore' is not defined",
     "output_type": "error",
     "traceback": [
      "\u001b[0;31m---------------------------------------------------------------------------\u001b[0m",
      "\u001b[0;31mNameError\u001b[0m                                 Traceback (most recent call last)",
      "Cell \u001b[0;32mIn[1064], line 3\u001b[0m\n\u001b[1;32m      1\u001b[0m \u001b[38;5;66;03m#Grader's area\u001b[39;00m\n\u001b[0;32m----> 3\u001b[0m score \u001b[38;5;241m=\u001b[39m \u001b[43mactualScore\u001b[49m\u001b[38;5;241m*\u001b[39m\u001b[38;5;241m100\u001b[39m\u001b[38;5;241m/\u001b[39mmaxScore\n",
      "\u001b[0;31mNameError\u001b[0m: name 'actualScore' is not defined"
     ]
    }
   ],
   "source": [
    "#Grader's area\n",
    "\n",
    "score = actualScore*100/maxScore"
   ]
  }
 ],
 "metadata": {
  "colab": {
   "provenance": []
  },
  "kernelspec": {
   "display_name": "Python 3 (ipykernel)",
   "language": "python",
   "name": "python3"
  },
  "language_info": {
   "codemirror_mode": {
    "name": "ipython",
    "version": 3
   },
   "file_extension": ".py",
   "mimetype": "text/x-python",
   "name": "python",
   "nbconvert_exporter": "python",
   "pygments_lexer": "ipython3",
   "version": "3.10.7"
  },
  "vscode": {
   "interpreter": {
    "hash": "31f2aee4e71d21fbe5cf8b01ff0e069b9275f58929596ceb00d14d90e3e16cd6"
   }
  }
 },
 "nbformat": 4,
 "nbformat_minor": 4
}
