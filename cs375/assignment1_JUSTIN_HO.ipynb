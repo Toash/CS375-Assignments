{
 "cells": [
  {
   "cell_type": "markdown",
   "metadata": {
    "id": "Tajfsk_7JY3E"
   },
   "source": [
    "**Note to grader:** Each question is assigned with a score. The final score will be (sum of actual scores)/(sum of maximum scores)*100. The grading rubrics are shown in the TA guidelines.\n",
    "\n"
   ]
  },
  {
   "cell_type": "markdown",
   "metadata": {
    "id": "e8SKy70z2osa"
   },
   "source": [
    "----\n",
    "\n",
    "<i>General instructions for this and future notebooks:</i>\n",
    "1. To run a cell and move to the next cell: Hold down <strong>Shift</strong> and press <strong>Enter</strong>\n",
    "2. To run a cell and stay in the same cell: Hold down <b>Ctrl</b> and press <b>Enter</b>\n",
    "3. Use the arrow up and down to navigate or do it manually as you prefer\n",
    "4. Escape from typing a cell: Hit <b>Esc</b>\n",
    "\n",
    "---------\n",
    "\n",
    "<b>Note: </b>\n",
    "\n",
    "> You must run/evaluate all cells. <b>Order of cell execution is important.</b>\n",
    "\n",
    "\n",
    "\n",
    "> You need to work direclty out of a copy of the assignment notebook given to you in the exact orer.\n"
   ]
  },
  {
   "cell_type": "code",
   "execution_count": null,
   "metadata": {
    "id": "I-sfBXk9AkfN"
   },
   "outputs": [],
   "source": [
    "# Grader's area\n",
    "\n",
    "import numpy as np\n",
    "\n",
    "# We initialize a maxScore and an actualScore.\n",
    "# Then the total grade can be easily computed in the last grader's area.\n",
    "\n",
    "maxScore = 0\n",
    "actualScore = 0"
   ]
  },
  {
   "cell_type": "markdown",
   "metadata": {
    "id": "ly4laI7pfGJO"
   },
   "source": [
    "# **Assignment 1**\n",
    "The first assignment walks you through some elements of Python/Numpy. It is meant mostly to familiarize you with Jypyter notebooks. It includes cells for demonstration, leading to clearly-marked cells for questions.\n",
    "\n"
   ]
  },
  {
   "cell_type": "markdown",
   "metadata": {
    "id": "8owP8xk_yi6h"
   },
   "source": [
    "-----------------------"
   ]
  },
  {
   "cell_type": "markdown",
   "metadata": {
    "id": "r_tl0TKffGJP"
   },
   "source": [
    "### **Part 1: NumPy walk-through**\n",
    "\n",
    "Let's look at matrix A and how it is presented in Numpy\n",
    "\\begin{equation*}\n",
    "A =\n",
    "\\begin{pmatrix}\n",
    "1 & 2 & 3 \\\\\n",
    "4 & 5 & 6 \\\\\n",
    "7 & 8 & 9\n",
    "\\end{pmatrix}\n",
    "\\end{equation*}"
   ]
  },
  {
   "cell_type": "code",
   "execution_count": null,
   "metadata": {
    "colab": {
     "base_uri": "https://localhost:8080/"
    },
    "executionInfo": {
     "elapsed": 220,
     "status": "ok",
     "timestamp": 1643032636288,
     "user": {
      "displayName": "Ioannis Koutis",
      "photoUrl": "https://lh3.googleusercontent.com/a-/AOh14GhUpO_Yrmrro3LHDUXR4Z71Ig38y7Warh3Ph5dFgK0=s64",
      "userId": "17239720917701380808"
     },
     "user_tz": 300
    },
    "id": "ik4Gngp2fGJQ",
    "outputId": "e822b1d7-9663-4d9b-8253-9329ceb9b0c7"
   },
   "outputs": [
    {
     "name": "stdout",
     "output_type": "stream",
     "text": [
      "This is how matrix A will be presented in Numpy:\n",
      "\n",
      " [[1. 2. 3.]\n",
      " [4. 5. 6.]\n",
      " [7. 8. 9.]]\n",
      "\n",
      "We just create a <class 'numpy.ndarray'>\n",
      "Our template has shape as (3, 3) with total size of 9\n",
      "The total dimension of A is 2\n",
      "The data types of elements of A are float64, \n",
      "        which consumes 72 bytes\n"
     ]
    }
   ],
   "source": [
    "import numpy as np\n",
    "\n",
    "# here the notation np.X invokes a function X from module np\n",
    "#    where np is an alias for numpy as note in line-1 above.\n",
    "\n",
    "A = np.array([[1,2,3],[4,5,6],[7,8,9]], dtype = np.float)\n",
    "print('This is how matrix A will be presented in Numpy:\\n\\n {}\\n'.format(A))\n",
    "\n",
    "# Example of describing A\n",
    "print('We just create a {}'.format(type(A)))\n",
    "print('Our template has shape as {} with total size of {}'.format(A.shape, A.size))\n",
    "print('The total dimension of A is {}'.format(A.ndim))\n",
    "\n",
    "# Multi-line print out\n",
    "print('''The data types of elements of A are {},\n",
    "        which consumes {} bytes'''.format(A.dtype, A.nbytes))"
   ]
  },
  {
   "cell_type": "code",
   "execution_count": null,
   "metadata": {
    "id": "oqhQyAZTfGJV"
   },
   "outputs": [],
   "source": [
    "# create a copy of A with integer type\n",
    "A_copy = np.array(A, dtype=np.int32)"
   ]
  },
  {
   "cell_type": "markdown",
   "metadata": {
    "id": "2XxgGLoIfGJY"
   },
   "source": [
    "#### NumPy array operations"
   ]
  },
  {
   "cell_type": "code",
   "execution_count": null,
   "metadata": {
    "colab": {
     "base_uri": "https://localhost:8080/"
    },
    "executionInfo": {
     "elapsed": 242,
     "status": "ok",
     "timestamp": 1643032281239,
     "user": {
      "displayName": "Ioannis Koutis",
      "photoUrl": "https://lh3.googleusercontent.com/a-/AOh14GhUpO_Yrmrro3LHDUXR4Z71Ig38y7Warh3Ph5dFgK0=s64",
      "userId": "17239720917701380808"
     },
     "user_tz": 300
    },
    "id": "scImnsyJfGJY",
    "outputId": "7f379e20-8616-4f95-b086-7ea351bdc287"
   },
   "outputs": [
    {
     "data": {
      "text/plain": [
       "numpy.ndarray"
      ]
     },
     "execution_count": 6,
     "metadata": {},
     "output_type": "execute_result"
    }
   ],
   "source": [
    "# Turn a python list to numpy array\n",
    "checking_acct = [10.1, 2.3, -3, 100]\n",
    "checking_acct_array = np.asarray(checking_acct)\n",
    "type(checking_acct_array)"
   ]
  },
  {
   "cell_type": "code",
   "execution_count": null,
   "metadata": {
    "colab": {
     "base_uri": "https://localhost:8080/"
    },
    "executionInfo": {
     "elapsed": 255,
     "status": "ok",
     "timestamp": 1643032283941,
     "user": {
      "displayName": "Ioannis Koutis",
      "photoUrl": "https://lh3.googleusercontent.com/a-/AOh14GhUpO_Yrmrro3LHDUXR4Z71Ig38y7Warh3Ph5dFgK0=s64",
      "userId": "17239720917701380808"
     },
     "user_tz": 300
    },
    "id": "mHPmhzdOfGJb",
    "outputId": "28319836-3fec-46fc-f1c4-de4d310c57f2"
   },
   "outputs": [
    {
     "data": {
      "text/plain": [
       "array([ 12.1,   4.3,  -1. , 102. ])"
      ]
     },
     "execution_count": 7,
     "metadata": {},
     "output_type": "execute_result"
    }
   ],
   "source": [
    "# adding $2 to each deposit/withdrawl transaction\n",
    "checking_acct_array + 2"
   ]
  },
  {
   "cell_type": "code",
   "execution_count": null,
   "metadata": {
    "colab": {
     "base_uri": "https://localhost:8080/"
    },
    "executionInfo": {
     "elapsed": 233,
     "status": "ok",
     "timestamp": 1643032297239,
     "user": {
      "displayName": "Ioannis Koutis",
      "photoUrl": "https://lh3.googleusercontent.com/a-/AOh14GhUpO_Yrmrro3LHDUXR4Z71Ig38y7Warh3Ph5dFgK0=s64",
      "userId": "17239720917701380808"
     },
     "user_tz": 300
    },
    "id": "RQAbwx5gfGJe",
    "outputId": "56478974-e627-464e-b41c-e744c68ee17c"
   },
   "outputs": [
    {
     "data": {
      "text/plain": [
       "array([ 9.6,  1.8, -3.5, 99.5])"
      ]
     },
     "execution_count": 8,
     "metadata": {},
     "output_type": "execute_result"
    }
   ],
   "source": [
    "# subtract $0.5 from each transaction\n",
    "checking_acct_array - 0.5"
   ]
  },
  {
   "cell_type": "code",
   "execution_count": null,
   "metadata": {
    "colab": {
     "base_uri": "https://localhost:8080/"
    },
    "executionInfo": {
     "elapsed": 251,
     "status": "ok",
     "timestamp": 1643032298916,
     "user": {
      "displayName": "Ioannis Koutis",
      "photoUrl": "https://lh3.googleusercontent.com/a-/AOh14GhUpO_Yrmrro3LHDUXR4Z71Ig38y7Warh3Ph5dFgK0=s64",
      "userId": "17239720917701380808"
     },
     "user_tz": 300
    },
    "id": "UaMikHWpfGJg",
    "outputId": "513a5bab-51cf-4085-9078-f6a0906ba804"
   },
   "outputs": [
    {
     "data": {
      "text/plain": [
       "array([ 20.2,   4.6,  -6. , 200. ])"
      ]
     },
     "execution_count": 9,
     "metadata": {},
     "output_type": "execute_result"
    }
   ],
   "source": [
    "# double it up\n",
    "checking_acct_array * 2"
   ]
  },
  {
   "cell_type": "code",
   "execution_count": null,
   "metadata": {
    "colab": {
     "base_uri": "https://localhost:8080/"
    },
    "executionInfo": {
     "elapsed": 217,
     "status": "ok",
     "timestamp": 1643032300837,
     "user": {
      "displayName": "Ioannis Koutis",
      "photoUrl": "https://lh3.googleusercontent.com/a-/AOh14GhUpO_Yrmrro3LHDUXR4Z71Ig38y7Warh3Ph5dFgK0=s64",
      "userId": "17239720917701380808"
     },
     "user_tz": 300
    },
    "id": "Viiu3ePUfGJi",
    "outputId": "77a97616-bdbb-4a2d-a008-fb85160884f7"
   },
   "outputs": [
    {
     "data": {
      "text/plain": [
       "array([ 3.36666667,  0.76666667, -1.        , 33.33333333])"
      ]
     },
     "execution_count": 10,
     "metadata": {},
     "output_type": "execute_result"
    }
   ],
   "source": [
    "# divide the amounts by 3\n",
    "checking_acct_array / 3"
   ]
  },
  {
   "cell_type": "markdown",
   "metadata": {
    "id": "oGZMC38NfGJl"
   },
   "source": [
    "Note: You can't do the above operation with list. You will have to iterate the list's elements. For example"
   ]
  },
  {
   "cell_type": "code",
   "execution_count": null,
   "metadata": {
    "colab": {
     "base_uri": "https://localhost:8080/"
    },
    "executionInfo": {
     "elapsed": 491,
     "status": "ok",
     "timestamp": 1643032306546,
     "user": {
      "displayName": "Ioannis Koutis",
      "photoUrl": "https://lh3.googleusercontent.com/a-/AOh14GhUpO_Yrmrro3LHDUXR4Z71Ig38y7Warh3Ph5dFgK0=s64",
      "userId": "17239720917701380808"
     },
     "user_tz": 300
    },
    "id": "u6EM8P58fGJl",
    "outputId": "2f0c388b-52df-46da-b76e-4f7b4e819ce1"
   },
   "outputs": [
    {
     "data": {
      "text/plain": [
       "[12.1, 4.3, -1, 102]"
      ]
     },
     "execution_count": 11,
     "metadata": {},
     "output_type": "execute_result"
    }
   ],
   "source": [
    "# to add $2 to each transaction with checking_acct, we must use list comprehension.\n",
    "[x + 2 for x in checking_acct]"
   ]
  },
  {
   "cell_type": "code",
   "execution_count": null,
   "metadata": {
    "colab": {
     "base_uri": "https://localhost:8080/"
    },
    "executionInfo": {
     "elapsed": 201,
     "status": "ok",
     "timestamp": 1643032309494,
     "user": {
      "displayName": "Ioannis Koutis",
      "photoUrl": "https://lh3.googleusercontent.com/a-/AOh14GhUpO_Yrmrro3LHDUXR4Z71Ig38y7Warh3Ph5dFgK0=s64",
      "userId": "17239720917701380808"
     },
     "user_tz": 300
    },
    "id": "eYGHGQRhfGJo",
    "outputId": "4444992f-6fc8-438a-e6a5-7c9d0888d91f"
   },
   "outputs": [
    {
     "data": {
      "text/plain": [
       "array([1., 1., 1., 1., 1., 1., 1., 1., 1., 1.])"
      ]
     },
     "execution_count": 12,
     "metadata": {},
     "output_type": "execute_result"
    }
   ],
   "source": [
    "# create a one-dimensional array containing 10 ones\n",
    "np.ones(10)"
   ]
  },
  {
   "cell_type": "code",
   "execution_count": null,
   "metadata": {
    "colab": {
     "base_uri": "https://localhost:8080/"
    },
    "executionInfo": {
     "elapsed": 209,
     "status": "ok",
     "timestamp": 1643032312214,
     "user": {
      "displayName": "Ioannis Koutis",
      "photoUrl": "https://lh3.googleusercontent.com/a-/AOh14GhUpO_Yrmrro3LHDUXR4Z71Ig38y7Warh3Ph5dFgK0=s64",
      "userId": "17239720917701380808"
     },
     "user_tz": 300
    },
    "id": "zU9DzeFtfGJr",
    "outputId": "9b2e02e5-fce3-4e52-b7ba-1d95ee978dc2"
   },
   "outputs": [
    {
     "data": {
      "text/plain": [
       "array([[1., 0., 0., 0.],\n",
       "       [0., 1., 0., 0.],\n",
       "       [0., 0., 1., 0.],\n",
       "       [0., 0., 0., 1.]])"
      ]
     },
     "execution_count": 13,
     "metadata": {},
     "output_type": "execute_result"
    }
   ],
   "source": [
    "# create an identity matrix\n",
    "np.identity(4)"
   ]
  },
  {
   "cell_type": "code",
   "execution_count": null,
   "metadata": {
    "colab": {
     "base_uri": "https://localhost:8080/"
    },
    "executionInfo": {
     "elapsed": 225,
     "status": "ok",
     "timestamp": 1643033838778,
     "user": {
      "displayName": "Ioannis Koutis",
      "photoUrl": "https://lh3.googleusercontent.com/a-/AOh14GhUpO_Yrmrro3LHDUXR4Z71Ig38y7Warh3Ph5dFgK0=s64",
      "userId": "17239720917701380808"
     },
     "user_tz": 300
    },
    "id": "bzyiFkjpfGJt",
    "outputId": "4d0fcfc8-bc70-4969-99b4-952085998ea8"
   },
   "outputs": [
    {
     "data": {
      "text/plain": [
       "array([ 2,  4,  6,  8, 10, 12, 14, 16, 18])"
      ]
     },
     "execution_count": 59,
     "metadata": {},
     "output_type": "execute_result"
    }
   ],
   "source": [
    "# create an array size 1 x 9 including only even number starting from 2\n",
    "x = np.arange(2,20,2)\n",
    "x"
   ]
  },
  {
   "cell_type": "code",
   "execution_count": null,
   "metadata": {
    "colab": {
     "base_uri": "https://localhost:8080/"
    },
    "executionInfo": {
     "elapsed": 6,
     "status": "ok",
     "timestamp": 1643033840499,
     "user": {
      "displayName": "Ioannis Koutis",
      "photoUrl": "https://lh3.googleusercontent.com/a-/AOh14GhUpO_Yrmrro3LHDUXR4Z71Ig38y7Warh3Ph5dFgK0=s64",
      "userId": "17239720917701380808"
     },
     "user_tz": 300
    },
    "id": "Fi7yU_v3fGJw",
    "outputId": "8bdbd211-caca-4db3-8eb9-64b037af9dab"
   },
   "outputs": [
    {
     "data": {
      "text/plain": [
       "array([[ 2,  4,  6],\n",
       "       [ 8, 10, 12],\n",
       "       [14, 16, 18]])"
      ]
     },
     "execution_count": 60,
     "metadata": {},
     "output_type": "execute_result"
    }
   ],
   "source": [
    "# reshape x to size 3 x 3 we get the following matrix\n",
    "\n",
    "# Variables in Python (an numpy) are objects.\n",
    "# Each object contains data (like x does), but it is also associated\n",
    "# with methods, i.e. python functions that can apply to it.\n",
    "# When we apply such an operation, we use the notation x.fname, like\n",
    "# below.\n",
    "\n",
    "x = x.reshape(3,3)\n",
    "x"
   ]
  },
  {
   "cell_type": "code",
   "execution_count": null,
   "metadata": {
    "id": "lhwnA49lfGJy"
   },
   "outputs": [],
   "source": [
    "# transpose x\n",
    "y = x.T"
   ]
  },
  {
   "cell_type": "code",
   "execution_count": null,
   "metadata": {
    "colab": {
     "base_uri": "https://localhost:8080/"
    },
    "executionInfo": {
     "elapsed": 250,
     "status": "ok",
     "timestamp": 1643032322416,
     "user": {
      "displayName": "Ioannis Koutis",
      "photoUrl": "https://lh3.googleusercontent.com/a-/AOh14GhUpO_Yrmrro3LHDUXR4Z71Ig38y7Warh3Ph5dFgK0=s64",
      "userId": "17239720917701380808"
     },
     "user_tz": 300
    },
    "id": "-34yj_jDfGJ0",
    "outputId": "0468e5dd-d72b-482d-ed7b-7f9a970ea9e1"
   },
   "outputs": [
    {
     "data": {
      "text/plain": [
       "array([[ True, False, False],\n",
       "       [False,  True, False],\n",
       "       [False, False,  True]])"
      ]
     },
     "execution_count": 17,
     "metadata": {},
     "output_type": "execute_result"
    }
   ],
   "source": [
    "# compare two arrays\n",
    "x == y"
   ]
  },
  {
   "cell_type": "code",
   "execution_count": null,
   "metadata": {
    "colab": {
     "base_uri": "https://localhost:8080/"
    },
    "executionInfo": {
     "elapsed": 265,
     "status": "ok",
     "timestamp": 1643032324207,
     "user": {
      "displayName": "Ioannis Koutis",
      "photoUrl": "https://lh3.googleusercontent.com/a-/AOh14GhUpO_Yrmrro3LHDUXR4Z71Ig38y7Warh3Ph5dFgK0=s64",
      "userId": "17239720917701380808"
     },
     "user_tz": 300
    },
    "id": "Akbw9C1PfGJ2",
    "outputId": "2c27481d-6eff-4f97-941c-77411852b087"
   },
   "outputs": [
    {
     "data": {
      "text/plain": [
       "array([[ True,  True,  True],\n",
       "       [ True,  True,  True],\n",
       "       [ True,  True,  True]])"
      ]
     },
     "execution_count": 18,
     "metadata": {},
     "output_type": "execute_result"
    }
   ],
   "source": [
    "x == y.T"
   ]
  },
  {
   "cell_type": "code",
   "execution_count": null,
   "metadata": {
    "colab": {
     "base_uri": "https://localhost:8080/"
    },
    "executionInfo": {
     "elapsed": 222,
     "status": "ok",
     "timestamp": 1643032443403,
     "user": {
      "displayName": "Ioannis Koutis",
      "photoUrl": "https://lh3.googleusercontent.com/a-/AOh14GhUpO_Yrmrro3LHDUXR4Z71Ig38y7Warh3Ph5dFgK0=s64",
      "userId": "17239720917701380808"
     },
     "user_tz": 300
    },
    "id": "PjbS0Y8zfGJ5",
    "outputId": "260090b7-5e99-47d4-cd30-cd756357a76c"
   },
   "outputs": [
    {
     "data": {
      "text/plain": [
       "True"
      ]
     },
     "execution_count": 19,
     "metadata": {},
     "output_type": "execute_result"
    }
   ],
   "source": [
    "np.array_equal(x,y.T)"
   ]
  },
  {
   "cell_type": "code",
   "execution_count": null,
   "metadata": {
    "colab": {
     "base_uri": "https://localhost:8080/"
    },
    "executionInfo": {
     "elapsed": 226,
     "status": "ok",
     "timestamp": 1643032446273,
     "user": {
      "displayName": "Ioannis Koutis",
      "photoUrl": "https://lh3.googleusercontent.com/a-/AOh14GhUpO_Yrmrro3LHDUXR4Z71Ig38y7Warh3Ph5dFgK0=s64",
      "userId": "17239720917701380808"
     },
     "user_tz": 300
    },
    "id": "vC29JsRAfGJ7",
    "outputId": "600853fd-831e-4f28-a5d8-ec460133288d"
   },
   "outputs": [
    {
     "data": {
      "text/plain": [
       "array([[False,  True,  True],\n",
       "       [False, False,  True],\n",
       "       [False, False, False]])"
      ]
     },
     "execution_count": 20,
     "metadata": {},
     "output_type": "execute_result"
    }
   ],
   "source": [
    "x < y"
   ]
  },
  {
   "cell_type": "code",
   "execution_count": null,
   "metadata": {
    "colab": {
     "base_uri": "https://localhost:8080/"
    },
    "executionInfo": {
     "elapsed": 251,
     "status": "ok",
     "timestamp": 1643032711696,
     "user": {
      "displayName": "Ioannis Koutis",
      "photoUrl": "https://lh3.googleusercontent.com/a-/AOh14GhUpO_Yrmrro3LHDUXR4Z71Ig38y7Warh3Ph5dFgK0=s64",
      "userId": "17239720917701380808"
     },
     "user_tz": 300
    },
    "id": "9CumfUaRfGJ9",
    "outputId": "feea11d9-0ab8-4e45-9d90-aa5f7e88a63e"
   },
   "outputs": [
    {
     "data": {
      "text/plain": [
       "array([[1., 1., 1.],\n",
       "       [1., 1., 1.],\n",
       "       [1., 1., 1.]])"
      ]
     },
     "execution_count": 31,
     "metadata": {},
     "output_type": "execute_result"
    }
   ],
   "source": [
    "c = np.ones((3,3))\n",
    "c"
   ]
  },
  {
   "cell_type": "code",
   "execution_count": null,
   "metadata": {
    "colab": {
     "base_uri": "https://localhost:8080/"
    },
    "executionInfo": {
     "elapsed": 319,
     "status": "ok",
     "timestamp": 1643032814444,
     "user": {
      "displayName": "Ioannis Koutis",
      "photoUrl": "https://lh3.googleusercontent.com/a-/AOh14GhUpO_Yrmrro3LHDUXR4Z71Ig38y7Warh3Ph5dFgK0=s64",
      "userId": "17239720917701380808"
     },
     "user_tz": 300
    },
    "id": "8sXMycSpfGJ_",
    "outputId": "554cf2fe-4eba-44df-b4c7-8780da2a4e2d"
   },
   "outputs": [
    {
     "data": {
      "text/plain": [
       "array([[3., 3., 3.],\n",
       "       [3., 3., 3.],\n",
       "       [3., 3., 3.]])"
      ]
     },
     "execution_count": 37,
     "metadata": {},
     "output_type": "execute_result"
    }
   ],
   "source": [
    "# matrix squaring\n",
    "np.dot(c,c)\n",
    "\n",
    "# or\n",
    "np.matmul(c,c)"
   ]
  },
  {
   "cell_type": "code",
   "execution_count": null,
   "metadata": {
    "colab": {
     "base_uri": "https://localhost:8080/"
    },
    "executionInfo": {
     "elapsed": 230,
     "status": "ok",
     "timestamp": 1643032816953,
     "user": {
      "displayName": "Ioannis Koutis",
      "photoUrl": "https://lh3.googleusercontent.com/a-/AOh14GhUpO_Yrmrro3LHDUXR4Z71Ig38y7Warh3Ph5dFgK0=s64",
      "userId": "17239720917701380808"
     },
     "user_tz": 300
    },
    "id": "phRTWOZwfGKB",
    "outputId": "ea8208eb-e626-4eb6-c0ae-3a0f38335fea"
   },
   "outputs": [
    {
     "data": {
      "text/plain": [
       "array([[ 0,  1,  2,  3,  4],\n",
       "       [ 5,  6,  7,  8,  9],\n",
       "       [ 0,  1,  2,  3,  4],\n",
       "       [ 5,  6,  7,  8,  9],\n",
       "       [10, 11, 12, 13, 14]])"
      ]
     },
     "execution_count": 38,
     "metadata": {},
     "output_type": "execute_result"
    }
   ],
   "source": [
    "# stacking/merging two multidimensional arrays\n",
    "x = np.arange(10).reshape(2,5)\n",
    "y = np.arange(15).reshape(3,5)\n",
    "xy = np.vstack((x,y))\n",
    "xy"
   ]
  },
  {
   "cell_type": "code",
   "execution_count": null,
   "metadata": {
    "colab": {
     "base_uri": "https://localhost:8080/"
    },
    "executionInfo": {
     "elapsed": 224,
     "status": "ok",
     "timestamp": 1643032818861,
     "user": {
      "displayName": "Ioannis Koutis",
      "photoUrl": "https://lh3.googleusercontent.com/a-/AOh14GhUpO_Yrmrro3LHDUXR4Z71Ig38y7Warh3Ph5dFgK0=s64",
      "userId": "17239720917701380808"
     },
     "user_tz": 300
    },
    "id": "pwX_qhk4fGKD",
    "outputId": "9d0b5764-c2f4-41c9-eae3-ae787d2319c9"
   },
   "outputs": [
    {
     "data": {
      "text/plain": [
       "array([[ 0,  1,  0,  1,  2],\n",
       "       [ 2,  3,  3,  4,  5],\n",
       "       [ 4,  5,  6,  7,  8],\n",
       "       [ 6,  7,  9, 10, 11],\n",
       "       [ 8,  9, 12, 13, 14]])"
      ]
     },
     "execution_count": 39,
     "metadata": {},
     "output_type": "execute_result"
    }
   ],
   "source": [
    "x = np.arange(10).reshape(5,2)\n",
    "y = np.arange(15).reshape(5,3)\n",
    "xy = np.hstack((x,y))\n",
    "xy"
   ]
  },
  {
   "cell_type": "code",
   "execution_count": null,
   "metadata": {
    "colab": {
     "base_uri": "https://localhost:8080/"
    },
    "executionInfo": {
     "elapsed": 204,
     "status": "ok",
     "timestamp": 1643032821918,
     "user": {
      "displayName": "Ioannis Koutis",
      "photoUrl": "https://lh3.googleusercontent.com/a-/AOh14GhUpO_Yrmrro3LHDUXR4Z71Ig38y7Warh3Ph5dFgK0=s64",
      "userId": "17239720917701380808"
     },
     "user_tz": 300
    },
    "id": "YCiyIn78fGKF",
    "outputId": "e9bb2a79-2c5b-40b7-c9ab-aa5762ef4fee"
   },
   "outputs": [
    {
     "data": {
      "text/plain": [
       "DescribeResult(nobs=5, minmax=(array([0, 1, 0, 1, 2]), array([ 8,  9, 12, 13, 14])), mean=array([4., 5., 6., 7., 8.]), variance=array([10. , 10. , 22.5, 22.5, 22.5]), skewness=array([0., 0., 0., 0., 0.]), kurtosis=array([-1.3, -1.3, -1.3, -1.3, -1.3]))"
      ]
     },
     "execution_count": 40,
     "metadata": {},
     "output_type": "execute_result"
    }
   ],
   "source": [
    "# checking statistics for xy\n",
    "from scipy import stats\n",
    "stats.describe(xy)"
   ]
  },
  {
   "cell_type": "code",
   "execution_count": null,
   "metadata": {
    "colab": {
     "base_uri": "https://localhost:8080/"
    },
    "executionInfo": {
     "elapsed": 241,
     "status": "ok",
     "timestamp": 1643032503854,
     "user": {
      "displayName": "Ioannis Koutis",
      "photoUrl": "https://lh3.googleusercontent.com/a-/AOh14GhUpO_Yrmrro3LHDUXR4Z71Ig38y7Warh3Ph5dFgK0=s64",
      "userId": "17239720917701380808"
     },
     "user_tz": 300
    },
    "id": "jhXIOt8dfGKH",
    "outputId": "acf52d2c-3cde-48d0-b9b5-ccf3476d70c6"
   },
   "outputs": [
    {
     "name": "stdout",
     "output_type": "stream",
     "text": [
      "x:\n",
      " [[0.17416867 0.30626409 0.43854082]\n",
      " [0.76168679 0.37958929 0.73558035]\n",
      " [0.30349738 0.12107128 0.86343769]\n",
      " [0.44519318 0.8590791  0.8944887 ]\n",
      " [0.19442834 0.18365876 0.59465267]\n",
      " [0.35624845 0.31351334 0.01281254]\n",
      " [0.66317405 0.51120486 0.93041655]\n",
      " [0.9605247  0.95095401 0.46949278]\n",
      " [0.1779452  0.60011819 0.15754366]\n",
      " [0.99262741 0.89427695 0.51585531]\n",
      " [0.14598091 0.78527177 0.75934873]\n",
      " [0.30756244 0.94742733 0.8010731 ]\n",
      " [0.21689346 0.92291058 0.27957328]\n",
      " [0.48108753 0.43375534 0.28721331]\n",
      " [0.63411857 0.96440698 0.20096757]\n",
      " [0.6404594  0.90347033 0.15560712]\n",
      " [0.32448386 0.78425687 0.94988942]\n",
      " [0.90889595 0.66968905 0.7065953 ]\n",
      " [0.65184857 0.78288551 0.50159674]\n",
      " [0.61093351 0.55349632 0.10357015]]\n",
      "\n",
      ",n:\n",
      " 20\n",
      "\n",
      ", min_max:\n",
      " (array([0.14598091, 0.12107128, 0.01281254]), array([0.99262741, 0.96440698, 0.94988942]))\n",
      "\n",
      ", mean:\n",
      " [0.49758792 0.643365   0.51791279]\n",
      "\n",
      " \n",
      ", var:\n",
      " [0.0752235  0.07647664 0.09224394]\n",
      "\n",
      ", skew:\n",
      " [ 0.37007083 -0.4609408  -0.10199477]\n",
      "\n",
      ", kurt:\n",
      " [-1.07060312 -1.13310731 -1.33079686]\n",
      "\n",
      "\n"
     ]
    }
   ],
   "source": [
    "# generate 20 random records, each has 3 features represented by some random number\n",
    "x = np.random.rand(20,3)\n",
    "\n",
    "# check statistics by feature for these records\n",
    "n, min_max, mean, var, skew, kurt = stats.describe(x)\n",
    "\n",
    "# observe the gather statistics\n",
    "print('''x:\\n {}\\n\\n,n:\\n {}\\n\\n, min_max:\\n {}\\n\\n, mean:\\n {}\\n\\n\n",
    ", var:\\n {}\\n\\n, skew:\\n {}\\n\\n, kurt:\\n {}\\n\\n'''.format(x, n, min_max, mean, var, skew, kurt))"
   ]
  },
  {
   "cell_type": "markdown",
   "metadata": {
    "id": "6icgEByffGKK"
   },
   "source": [
    "#### Slice and dice matrix\n",
    "\n",
    "Take out 2 elements in 1st row, 2nd column, and 3rd row, 3rd column of matrix A from above\n",
    "\n",
    "$\\begin{equation*}\n",
    "A =\n",
    "\\begin{pmatrix}\n",
    "1 & 2 & 3 \\\\\n",
    "4 & 5 & 6 \\\\\n",
    "7 & 8 & 9\n",
    "\\end{pmatrix}\n",
    "\\end{equation*}\n",
    "$"
   ]
  },
  {
   "cell_type": "code",
   "execution_count": null,
   "metadata": {
    "colab": {
     "base_uri": "https://localhost:8080/"
    },
    "executionInfo": {
     "elapsed": 205,
     "status": "ok",
     "timestamp": 1643032865022,
     "user": {
      "displayName": "Ioannis Koutis",
      "photoUrl": "https://lh3.googleusercontent.com/a-/AOh14GhUpO_Yrmrro3LHDUXR4Z71Ig38y7Warh3Ph5dFgK0=s64",
      "userId": "17239720917701380808"
     },
     "user_tz": 300
    },
    "id": "7R8ypS2zfGKN",
    "outputId": "21644632-87a3-499f-d341-7bb592226ac8"
   },
   "outputs": [
    {
     "data": {
      "text/plain": [
       "array([2., 9.])"
      ]
     },
     "execution_count": 41,
     "metadata": {},
     "output_type": "execute_result"
    }
   ],
   "source": [
    "# numpy is indexed from 0. Slice by row and then by column\n",
    "A[[0,2],[1,2]]"
   ]
  },
  {
   "cell_type": "markdown",
   "metadata": {
    "id": "BfRzbPUXfGKQ"
   },
   "source": [
    "#### Resize and reshape matrix\n",
    "Matrix will be truncated or element values will be repeated if the reshape makes the matrix to be a bigger matrix."
   ]
  },
  {
   "cell_type": "code",
   "execution_count": null,
   "metadata": {
    "colab": {
     "base_uri": "https://localhost:8080/"
    },
    "executionInfo": {
     "elapsed": 329,
     "status": "ok",
     "timestamp": 1643032870414,
     "user": {
      "displayName": "Ioannis Koutis",
      "photoUrl": "https://lh3.googleusercontent.com/a-/AOh14GhUpO_Yrmrro3LHDUXR4Z71Ig38y7Warh3Ph5dFgK0=s64",
      "userId": "17239720917701380808"
     },
     "user_tz": 300
    },
    "id": "_YNyARm1fGKQ",
    "outputId": "ce0f988b-7105-4b44-98a6-0a39c2140ff0"
   },
   "outputs": [
    {
     "name": "stdout",
     "output_type": "stream",
     "text": [
      "[[1 2 3]\n",
      " [4 5 6]\n",
      " [7 8 9]]\n",
      "\n",
      "resize smaller\n",
      " [[1 2]\n",
      " [3 4]]\n",
      "\n",
      "resize bigger\n",
      " [[1 2 3 4]\n",
      " [5 6 7 8]\n",
      " [9 1 2 3]\n",
      " [4 5 6 7]]\n"
     ]
    }
   ],
   "source": [
    "x = (np.arange(9)+1).reshape(3,3)\n",
    "print(x)\n",
    "print('\\nresize smaller\\n {}'.format(np.resize(x,(2,2))))\n",
    "print('\\nresize bigger\\n {}'.format(np.resize(x,(4,4))))"
   ]
  },
  {
   "cell_type": "markdown",
   "metadata": {
    "id": "bdtCXeGxfGKS"
   },
   "source": [
    "#### Multiplying two matrices\n",
    "An 1-dimensional array is treated as a vector"
   ]
  },
  {
   "cell_type": "code",
   "execution_count": null,
   "metadata": {
    "colab": {
     "base_uri": "https://localhost:8080/"
    },
    "executionInfo": {
     "elapsed": 386,
     "status": "ok",
     "timestamp": 1643032881023,
     "user": {
      "displayName": "Ioannis Koutis",
      "photoUrl": "https://lh3.googleusercontent.com/a-/AOh14GhUpO_Yrmrro3LHDUXR4Z71Ig38y7Warh3Ph5dFgK0=s64",
      "userId": "17239720917701380808"
     },
     "user_tz": 300
    },
    "id": "YOFS8ioofGKT",
    "outputId": "8200bb66-f156-4aa7-9033-860e4b483468"
   },
   "outputs": [
    {
     "data": {
      "text/plain": [
       "array([0, 1, 2, 3])"
      ]
     },
     "execution_count": 43,
     "metadata": {},
     "output_type": "execute_result"
    }
   ],
   "source": [
    "# a vector/array y\n",
    "y = np.arange(4)\n",
    "y"
   ]
  },
  {
   "cell_type": "code",
   "execution_count": null,
   "metadata": {
    "colab": {
     "base_uri": "https://localhost:8080/"
    },
    "executionInfo": {
     "elapsed": 226,
     "status": "ok",
     "timestamp": 1643032882828,
     "user": {
      "displayName": "Ioannis Koutis",
      "photoUrl": "https://lh3.googleusercontent.com/a-/AOh14GhUpO_Yrmrro3LHDUXR4Z71Ig38y7Warh3Ph5dFgK0=s64",
      "userId": "17239720917701380808"
     },
     "user_tz": 300
    },
    "id": "mEWuYjlxfGKV",
    "outputId": "fb3102ef-3a18-4f73-e0b5-19aef726f7b7"
   },
   "outputs": [
    {
     "data": {
      "text/plain": [
       "array([[1., 1., 1., 1.],\n",
       "       [1., 1., 1., 1.],\n",
       "       [1., 1., 1., 1.],\n",
       "       [1., 1., 1., 1.]])"
      ]
     },
     "execution_count": 44,
     "metadata": {},
     "output_type": "execute_result"
    }
   ],
   "source": [
    "# a matrix of ones\n",
    "x = np.ones(16).reshape(4,4)\n",
    "x"
   ]
  },
  {
   "cell_type": "code",
   "execution_count": null,
   "metadata": {
    "colab": {
     "base_uri": "https://localhost:8080/",
     "height": 87
    },
    "executionInfo": {
     "elapsed": 988,
     "status": "ok",
     "timestamp": 1599704543824,
     "user": {
      "displayName": "Ioannis Koutis",
      "photoUrl": "https://lh3.googleusercontent.com/a-/AOh14Gj88YMRorz6z0Tz4baGdAALRkI2fBVTEWi0XdKh8A=s64",
      "userId": "17239720917701380808"
     },
     "user_tz": 240
    },
    "id": "d0707PxPfGKX",
    "outputId": "adba7cd6-7fcb-4849-8dc8-574300a0ddf7"
   },
   "outputs": [
    {
     "data": {
      "text/plain": [
       "array([[0., 1., 2., 3.],\n",
       "       [0., 1., 2., 3.],\n",
       "       [0., 1., 2., 3.],\n",
       "       [0., 1., 2., 3.]])"
      ]
     },
     "execution_count": 31,
     "metadata": {
      "tags": []
     },
     "output_type": "execute_result"
    }
   ],
   "source": [
    "x*y"
   ]
  },
  {
   "cell_type": "code",
   "execution_count": null,
   "metadata": {
    "colab": {
     "base_uri": "https://localhost:8080/"
    },
    "executionInfo": {
     "elapsed": 242,
     "status": "ok",
     "timestamp": 1643032939327,
     "user": {
      "displayName": "Ioannis Koutis",
      "photoUrl": "https://lh3.googleusercontent.com/a-/AOh14GhUpO_Yrmrro3LHDUXR4Z71Ig38y7Warh3Ph5dFgK0=s64",
      "userId": "17239720917701380808"
     },
     "user_tz": 300
    },
    "id": "EJPYn6rEfGKZ",
    "outputId": "608c255f-f615-4234-b2f5-7b123554168a"
   },
   "outputs": [
    {
     "data": {
      "text/plain": [
       "array([[0., 1., 2., 3.],\n",
       "       [0., 1., 2., 3.],\n",
       "       [0., 1., 2., 3.],\n",
       "       [0., 1., 2., 3.]])"
      ]
     },
     "execution_count": 46,
     "metadata": {},
     "output_type": "execute_result"
    }
   ],
   "source": [
    "x*y.T   # interpreted as x*(y.T)"
   ]
  },
  {
   "cell_type": "code",
   "execution_count": null,
   "metadata": {
    "colab": {
     "base_uri": "https://localhost:8080/"
    },
    "executionInfo": {
     "elapsed": 203,
     "status": "ok",
     "timestamp": 1643032941784,
     "user": {
      "displayName": "Ioannis Koutis",
      "photoUrl": "https://lh3.googleusercontent.com/a-/AOh14GhUpO_Yrmrro3LHDUXR4Z71Ig38y7Warh3Ph5dFgK0=s64",
      "userId": "17239720917701380808"
     },
     "user_tz": 300
    },
    "id": "Tsl6MbI2fGKc",
    "outputId": "d2282fdf-a1ef-447e-a643-a64077220f89"
   },
   "outputs": [
    {
     "data": {
      "text/plain": [
       "array([[0., 1., 2., 3.],\n",
       "       [0., 1., 2., 3.],\n",
       "       [0., 1., 2., 3.],\n",
       "       [0., 1., 2., 3.]])"
      ]
     },
     "execution_count": 47,
     "metadata": {},
     "output_type": "execute_result"
    }
   ],
   "source": [
    "y*x"
   ]
  },
  {
   "cell_type": "code",
   "execution_count": null,
   "metadata": {
    "colab": {
     "base_uri": "https://localhost:8080/",
     "height": 87
    },
    "executionInfo": {
     "elapsed": 361,
     "status": "ok",
     "timestamp": 1599704549646,
     "user": {
      "displayName": "Ioannis Koutis",
      "photoUrl": "https://lh3.googleusercontent.com/a-/AOh14Gj88YMRorz6z0Tz4baGdAALRkI2fBVTEWi0XdKh8A=s64",
      "userId": "17239720917701380808"
     },
     "user_tz": 240
    },
    "id": "fNTRR8DwfGKe",
    "outputId": "51d9da25-8d53-4875-df9d-fb77ac5b117e"
   },
   "outputs": [
    {
     "data": {
      "text/plain": [
       "array([[0., 1., 2., 3.],\n",
       "       [0., 1., 2., 3.],\n",
       "       [0., 1., 2., 3.],\n",
       "       [0., 1., 2., 3.]])"
      ]
     },
     "execution_count": 34,
     "metadata": {
      "tags": []
     },
     "output_type": "execute_result"
    }
   ],
   "source": [
    "y.T*x"
   ]
  },
  {
   "cell_type": "code",
   "execution_count": null,
   "metadata": {
    "colab": {
     "base_uri": "https://localhost:8080/"
    },
    "executionInfo": {
     "elapsed": 227,
     "status": "ok",
     "timestamp": 1643032961069,
     "user": {
      "displayName": "Ioannis Koutis",
      "photoUrl": "https://lh3.googleusercontent.com/a-/AOh14GhUpO_Yrmrro3LHDUXR4Z71Ig38y7Warh3Ph5dFgK0=s64",
      "userId": "17239720917701380808"
     },
     "user_tz": 300
    },
    "id": "vi5kt5OufGKg",
    "outputId": "6cafac77-e695-44fc-be09-d81f666fbadc"
   },
   "outputs": [
    {
     "name": "stdout",
     "output_type": "stream",
     "text": [
      "x:\n",
      "[[0 1]\n",
      " [2 3]]\n",
      "\n",
      "y1:\n",
      "[0 1]\n",
      "\n",
      "y2:\n",
      "[[0 1]]\n",
      "\n"
     ]
    }
   ],
   "source": [
    "x = np.arange(4).reshape(2,2)\n",
    "y1 = np.arange(2)\n",
    "y2 = np.arange(2).reshape(1,2) # in numpy this is the same as y1\n",
    "print('x:\\n{}\\n'.format(x))\n",
    "print('y1:\\n{}\\n'.format(y1))\n",
    "print('y2:\\n{}\\n'.format(y2))"
   ]
  },
  {
   "cell_type": "code",
   "execution_count": null,
   "metadata": {
    "colab": {
     "base_uri": "https://localhost:8080/"
    },
    "executionInfo": {
     "elapsed": 222,
     "status": "ok",
     "timestamp": 1643033142336,
     "user": {
      "displayName": "Ioannis Koutis",
      "photoUrl": "https://lh3.googleusercontent.com/a-/AOh14GhUpO_Yrmrro3LHDUXR4Z71Ig38y7Warh3Ph5dFgK0=s64",
      "userId": "17239720917701380808"
     },
     "user_tz": 300
    },
    "id": "-1k0CFOIfGKi",
    "outputId": "8616bf04-7eeb-4ad8-f834-969b2061f513"
   },
   "outputs": [
    {
     "data": {
      "text/plain": [
       "array([[0, 1],\n",
       "       [0, 3]])"
      ]
     },
     "execution_count": 49,
     "metadata": {},
     "output_type": "execute_result"
    }
   ],
   "source": [
    "x*y1"
   ]
  },
  {
   "cell_type": "code",
   "execution_count": null,
   "metadata": {
    "colab": {
     "base_uri": "https://localhost:8080/"
    },
    "executionInfo": {
     "elapsed": 6,
     "status": "ok",
     "timestamp": 1643033143513,
     "user": {
      "displayName": "Ioannis Koutis",
      "photoUrl": "https://lh3.googleusercontent.com/a-/AOh14GhUpO_Yrmrro3LHDUXR4Z71Ig38y7Warh3Ph5dFgK0=s64",
      "userId": "17239720917701380808"
     },
     "user_tz": 300
    },
    "id": "EW90NQ6nfGKk",
    "outputId": "f6e70a89-90d2-48b4-c6eb-e72a555f460e"
   },
   "outputs": [
    {
     "data": {
      "text/plain": [
       "array([[0, 1],\n",
       "       [0, 3]])"
      ]
     },
     "execution_count": 50,
     "metadata": {},
     "output_type": "execute_result"
    }
   ],
   "source": [
    "x*y2"
   ]
  },
  {
   "cell_type": "code",
   "execution_count": null,
   "metadata": {
    "colab": {
     "base_uri": "https://localhost:8080/"
    },
    "executionInfo": {
     "elapsed": 235,
     "status": "ok",
     "timestamp": 1643033146118,
     "user": {
      "displayName": "Ioannis Koutis",
      "photoUrl": "https://lh3.googleusercontent.com/a-/AOh14GhUpO_Yrmrro3LHDUXR4Z71Ig38y7Warh3Ph5dFgK0=s64",
      "userId": "17239720917701380808"
     },
     "user_tz": 300
    },
    "id": "ban5G53YfGKm",
    "outputId": "7d2fd7b8-41c7-4a3a-a174-1299114736bd"
   },
   "outputs": [
    {
     "name": "stdout",
     "output_type": "stream",
     "text": [
      "[[0 1 2 3 4]\n",
      " [5 6 7 8 9]]\n",
      "\n",
      "[[ 0  1  2]\n",
      " [ 3  4  5]\n",
      " [ 6  7  8]\n",
      " [ 9 10 11]\n",
      " [12 13 14]]\n"
     ]
    }
   ],
   "source": [
    "# generate two matrices\n",
    "a = np.arange(10).reshape(2,5)\n",
    "b = np.arange(15).reshape(5,3)\n",
    "print(a)\n",
    "print()\n",
    "print(b)"
   ]
  },
  {
   "cell_type": "code",
   "execution_count": null,
   "metadata": {
    "colab": {
     "base_uri": "https://localhost:8080/"
    },
    "executionInfo": {
     "elapsed": 210,
     "status": "ok",
     "timestamp": 1643033150081,
     "user": {
      "displayName": "Ioannis Koutis",
      "photoUrl": "https://lh3.googleusercontent.com/a-/AOh14GhUpO_Yrmrro3LHDUXR4Z71Ig38y7Warh3Ph5dFgK0=s64",
      "userId": "17239720917701380808"
     },
     "user_tz": 300
    },
    "id": "iXVjcn_ffGKp",
    "outputId": "f2f82edf-2f68-4a07-c8a8-5808ac492d16"
   },
   "outputs": [
    {
     "data": {
      "text/plain": [
       "True"
      ]
     },
     "execution_count": 52,
     "metadata": {},
     "output_type": "execute_result"
    }
   ],
   "source": [
    "# check if operation dot is equal to operation matmul\n",
    "np.array_equal(np.dot(a,b),np.matmul(a,b))"
   ]
  },
  {
   "cell_type": "code",
   "execution_count": null,
   "metadata": {
    "colab": {
     "base_uri": "https://localhost:8080/"
    },
    "executionInfo": {
     "elapsed": 232,
     "status": "ok",
     "timestamp": 1643033153260,
     "user": {
      "displayName": "Ioannis Koutis",
      "photoUrl": "https://lh3.googleusercontent.com/a-/AOh14GhUpO_Yrmrro3LHDUXR4Z71Ig38y7Warh3Ph5dFgK0=s64",
      "userId": "17239720917701380808"
     },
     "user_tz": 300
    },
    "id": "M31vWN03fGKs",
    "outputId": "770c654b-9c56-4909-e0a4-ffbfe02626b5"
   },
   "outputs": [
    {
     "data": {
      "text/plain": [
       "array([[ 90, 100, 110],\n",
       "       [240, 275, 310]])"
      ]
     },
     "execution_count": 53,
     "metadata": {},
     "output_type": "execute_result"
    }
   ],
   "source": [
    "# multiple a by b\n",
    "np.matmul(a,b)"
   ]
  },
  {
   "cell_type": "code",
   "execution_count": null,
   "metadata": {
    "colab": {
     "base_uri": "https://localhost:8080/"
    },
    "executionInfo": {
     "elapsed": 247,
     "status": "ok",
     "timestamp": 1643033155596,
     "user": {
      "displayName": "Ioannis Koutis",
      "photoUrl": "https://lh3.googleusercontent.com/a-/AOh14GhUpO_Yrmrro3LHDUXR4Z71Ig38y7Warh3Ph5dFgK0=s64",
      "userId": "17239720917701380808"
     },
     "user_tz": 300
    },
    "id": "4jhyA0VYfGKv",
    "outputId": "d334751c-121a-4153-e11a-e891e98fa214"
   },
   "outputs": [
    {
     "data": {
      "text/plain": [
       "array([[ 90, 100, 110],\n",
       "       [240, 275, 310]])"
      ]
     },
     "execution_count": 54,
     "metadata": {},
     "output_type": "execute_result"
    }
   ],
   "source": [
    "# another way to multiply a by b\n",
    "a@b"
   ]
  },
  {
   "cell_type": "code",
   "execution_count": null,
   "metadata": {
    "colab": {
     "base_uri": "https://localhost:8080/"
    },
    "executionInfo": {
     "elapsed": 6,
     "status": "ok",
     "timestamp": 1643033157398,
     "user": {
      "displayName": "Ioannis Koutis",
      "photoUrl": "https://lh3.googleusercontent.com/a-/AOh14GhUpO_Yrmrro3LHDUXR4Z71Ig38y7Warh3Ph5dFgK0=s64",
      "userId": "17239720917701380808"
     },
     "user_tz": 300
    },
    "id": "HbJu-_fLfGK0",
    "outputId": "841f732e-88f1-453a-83df-f85264184a37"
   },
   "outputs": [
    {
     "name": "stdout",
     "output_type": "stream",
     "text": [
      "[[0 1 2]\n",
      " [3 4 5]\n",
      " [6 7 8]]\n",
      "\n",
      "[0 1 2]\n"
     ]
    }
   ],
   "source": [
    "a = np.arange(9).reshape(3,3)\n",
    "b = np.arange(3)\n",
    "print('{}\\n\\n{}'.format(a,b))"
   ]
  },
  {
   "cell_type": "code",
   "execution_count": null,
   "metadata": {
    "colab": {
     "base_uri": "https://localhost:8080/"
    },
    "executionInfo": {
     "elapsed": 198,
     "status": "ok",
     "timestamp": 1643033158914,
     "user": {
      "displayName": "Ioannis Koutis",
      "photoUrl": "https://lh3.googleusercontent.com/a-/AOh14GhUpO_Yrmrro3LHDUXR4Z71Ig38y7Warh3Ph5dFgK0=s64",
      "userId": "17239720917701380808"
     },
     "user_tz": 300
    },
    "id": "2Cxjq5WFfGK4",
    "outputId": "eb27b9cf-c6e0-45e1-9a2d-96c8281c5d3c"
   },
   "outputs": [
    {
     "data": {
      "text/plain": [
       "array([ 5, 14, 23])"
      ]
     },
     "execution_count": 56,
     "metadata": {},
     "output_type": "execute_result"
    }
   ],
   "source": [
    "# inner product of 2 vectors\n",
    "np.inner(a,b)"
   ]
  },
  {
   "cell_type": "code",
   "execution_count": null,
   "metadata": {
    "colab": {
     "base_uri": "https://localhost:8080/"
    },
    "executionInfo": {
     "elapsed": 312,
     "status": "ok",
     "timestamp": 1643033160512,
     "user": {
      "displayName": "Ioannis Koutis",
      "photoUrl": "https://lh3.googleusercontent.com/a-/AOh14GhUpO_Yrmrro3LHDUXR4Z71Ig38y7Warh3Ph5dFgK0=s64",
      "userId": "17239720917701380808"
     },
     "user_tz": 300
    },
    "id": "AuSfLhm2fGK8",
    "outputId": "e98dabf1-f402-47c2-8bad-c6b2aa9d817a"
   },
   "outputs": [
    {
     "data": {
      "text/plain": [
       "array([[ 0,  0,  0],\n",
       "       [ 0,  1,  2],\n",
       "       [ 0,  2,  4],\n",
       "       [ 0,  3,  6],\n",
       "       [ 0,  4,  8],\n",
       "       [ 0,  5, 10],\n",
       "       [ 0,  6, 12],\n",
       "       [ 0,  7, 14],\n",
       "       [ 0,  8, 16]])"
      ]
     },
     "execution_count": 57,
     "metadata": {},
     "output_type": "execute_result"
    }
   ],
   "source": [
    "# outer product of 2 vectors\n",
    "np.outer(a,b)"
   ]
  },
  {
   "cell_type": "markdown",
   "metadata": {
    "id": "bQda4F4EfGK_"
   },
   "source": [
    "#### Solving linear equations\n",
    "An example: Solve three linear equations with 3 unknowns as follows:<br>\n",
    "$x_1 + 2x_2 + 3x_3 = 10$<br>\n",
    "$4x_1 + 4x_2 + 5x_3=4$<br>\n",
    "$3x_1 + 8x_2 + 9x_3 = 3$<br>\n",
    "\n",
    "We have a linear equation to solve as in the form $Ax = B$ where\n",
    "\\begin{equation*}\n",
    "A =\n",
    "\\begin{pmatrix}\n",
    "1 & 2 & 3 \\\\\n",
    "4 & 4 & 5 \\\\\n",
    "3 & 8 & 9\n",
    "\\end{pmatrix}\n",
    ",\n",
    "B =\n",
    "\\begin{pmatrix}\n",
    "10 \\\\\n",
    "4 \\\\\n",
    "3\n",
    "\\end{pmatrix}\n",
    ",\n",
    "x =\n",
    "\\begin{pmatrix}\n",
    "x_1 \\\\\n",
    "x_2 \\\\\n",
    "x_3\n",
    "\\end{pmatrix}\n",
    "\\end{equation*}\n",
    "\n",
    "<br>\n",
    "In simple cases with small matrices, we can do $x = A^{-1}B$"
   ]
  },
  {
   "cell_type": "code",
   "execution_count": null,
   "metadata": {
    "colab": {
     "base_uri": "https://localhost:8080/"
    },
    "executionInfo": {
     "elapsed": 263,
     "status": "ok",
     "timestamp": 1643034042540,
     "user": {
      "displayName": "Ioannis Koutis",
      "photoUrl": "https://lh3.googleusercontent.com/a-/AOh14GhUpO_Yrmrro3LHDUXR4Z71Ig38y7Warh3Ph5dFgK0=s64",
      "userId": "17239720917701380808"
     },
     "user_tz": 300
    },
    "id": "PLS1GVLMfGLA",
    "outputId": "319006cb-ac1f-4f1b-ec05-4f9ffd1f5c45"
   },
   "outputs": [
    {
     "data": {
      "text/plain": [
       "array([[-2.85714286e-01,  4.28571429e-01, -1.42857143e-01],\n",
       "       [-1.50000000e+00,  4.44089210e-17,  5.00000000e-01],\n",
       "       [ 1.42857143e+00, -1.42857143e-01, -2.85714286e-01]])"
      ]
     },
     "execution_count": 61,
     "metadata": {},
     "output_type": "execute_result"
    }
   ],
   "source": [
    "A = np.array([[1,2,3],[4,4,5],[3,8,9]])\n",
    "B = np.array([10,4,3])\n",
    "A_inv = np.linalg.inv(A)\n",
    "A_inv"
   ]
  },
  {
   "cell_type": "code",
   "execution_count": null,
   "metadata": {
    "id": "2_Rev7MEfGLC"
   },
   "outputs": [],
   "source": [
    "x = np.dot(A_inv, B)"
   ]
  },
  {
   "cell_type": "code",
   "execution_count": null,
   "metadata": {
    "colab": {
     "base_uri": "https://localhost:8080/",
     "height": 35
    },
    "executionInfo": {
     "elapsed": 319,
     "status": "ok",
     "timestamp": 1599708650730,
     "user": {
      "displayName": "Ioannis Koutis",
      "photoUrl": "https://lh3.googleusercontent.com/a-/AOh14Gj88YMRorz6z0Tz4baGdAALRkI2fBVTEWi0XdKh8A=s64",
      "userId": "17239720917701380808"
     },
     "user_tz": 240
    },
    "id": "e-oPmxrSfGLF",
    "outputId": "c0025e77-2705-4a46-9153-5c0f2a8581aa"
   },
   "outputs": [
    {
     "data": {
      "text/plain": [
       "True"
      ]
     },
     "execution_count": 71,
     "metadata": {
      "tags": []
     },
     "output_type": "execute_result"
    }
   ],
   "source": [
    "# check results with allclose() function)\n",
    "np.allclose(np.dot(A,x),B)"
   ]
  },
  {
   "cell_type": "markdown",
   "metadata": {
    "id": "Vbt-t8rpEP7R"
   },
   "source": [
    "-----"
   ]
  },
  {
   "cell_type": "markdown",
   "metadata": {
    "id": "77y-VVzxfGLH"
   },
   "source": [
    "\n",
    "## <font color='#008DFF'> **Question 1 (25 points)**\n",
    "\n",
    "Write code for solving four linear equations with 4 unknowns as follows:<br>\n",
    "$x_1 + 2x_2 + 3x_3 + 5x_4 = 10$<br>\n",
    "$4x_1 + 4x_2 + 5x_3 + 3x_4=4$<br>\n",
    "$3x_1 + 8x_2 + 9x_3 + x_4= 3$<br>\n",
    "$x_1 + x_2 + 3x_3 = 7$<br><br>\n",
    "\n",
    "Afterwards, check results with allclose( ) function. And print out x.\n",
    "\n",
    "<b>Expected result</b><br>x = array([-1.17857143, -3.875     ,  4.01785714,  1.375     ])\n"
   ]
  },
  {
   "cell_type": "code",
   "execution_count": 63,
   "metadata": {
    "id": "A0wIhEbW04b7"
   },
   "outputs": [
    {
     "name": "stdout",
     "output_type": "stream",
     "text": [
      "True\n",
      "[-1.17857143 -3.875       4.01785714  1.375     ]\n"
     ]
    }
   ],
   "source": [
    "# your code here\n",
    "# Ax = B\n",
    "import numpy as np\n",
    "\n",
    "A = np.array([[1,2,3,5],[4,4,5,3],[3,8,9,1],[1,1,3,0]])\n",
    "B = np.array([10,4,3,7])\n",
    "\n",
    "A_inv = np.linalg.inv(A)\n",
    "x = np.dot(A_inv, B)\n",
    "\n",
    "print(np.allclose(np.dot(A,x),B))\n",
    "print(x)\n",
    "\n",
    "\n"
   ]
  },
  {
   "cell_type": "code",
   "execution_count": null,
   "metadata": {
    "id": "77c5jSREdt9K"
   },
   "outputs": [],
   "source": [
    "# Grader's area\n",
    "#\n",
    "# assign the grade and then uncomment the following\n",
    "\n",
    "\n",
    "maxScore += 25\n",
    "# actualScore +="
   ]
  },
  {
   "cell_type": "markdown",
   "metadata": {
    "id": "DKD1e5IvkXJz"
   },
   "source": [
    "-----------------\n",
    "-----------------\n",
    "-----------------\n",
    "-----------------"
   ]
  },
  {
   "cell_type": "markdown",
   "metadata": {
    "id": "hH8NLj_UfGLK"
   },
   "source": [
    "## **Part 2: Exploring some data**"
   ]
  },
  {
   "cell_type": "markdown",
   "metadata": {
    "id": "Wq8IS0kDeOLz"
   },
   "source": [
    "In this exercising we will be using the 'Boston Housing' dataset. This is an infamous dataset because one of the attributes of the data points is the percentage of black people in a town. This dataset has now been removed from official distributions of certain tools, but it is still around to remind us how human learned bias can enter Machine Learning pipelines and have unintened (or in some cases, horribly intended) consequences."
   ]
  },
  {
   "cell_type": "markdown",
   "metadata": {
    "id": "PSRAx7wRWNbD"
   },
   "source": [
    "Note: There may be an error once you import load_boston: \"[`load_boston` has been removed from scikit-learn since version 1.2.]\n",
    "because [The Boston housing prices dataset has an ethical problem]. \"\n",
    "Please use an earlier version of scikit-learn, such as 1.1.3, to fix this error. We will use this dataset only for educational purposes, thus should be fine."
   ]
  },
  {
   "cell_type": "code",
   "execution_count": 52,
   "metadata": {
    "colab": {
     "base_uri": "https://localhost:8080/"
    },
    "executionInfo": {
     "elapsed": 472,
     "status": "ok",
     "timestamp": 1643034214028,
     "user": {
      "displayName": "Ioannis Koutis",
      "photoUrl": "https://lh3.googleusercontent.com/a-/AOh14GhUpO_Yrmrro3LHDUXR4Z71Ig38y7Warh3Ph5dFgK0=s64",
      "userId": "17239720917701380808"
     },
     "user_tz": 300
    },
    "id": "yJ9yDB9ufGLL",
    "outputId": "d64227fc-8678-471c-eb4d-1e4110629e0a"
   },
   "outputs": [
    {
     "name": "stdout",
     "output_type": "stream",
     "text": [
      "(506, 13)\n",
      "['CRIM' 'ZN' 'INDUS' 'CHAS' 'NOX' 'RM' 'AGE' 'DIS' 'RAD' 'TAX' 'PTRATIO'\n",
      " 'B' 'LSTAT']\n"
     ]
    },
    {
     "name": "stderr",
     "output_type": "stream",
     "text": [
      "/Library/Frameworks/Python.framework/Versions/3.10/lib/python3.10/site-packages/sklearn/utils/deprecation.py:87: FutureWarning: Function load_boston is deprecated; `load_boston` is deprecated in 1.0 and will be removed in 1.2.\n",
      "\n",
      "    The Boston housing prices dataset has an ethical problem. You can refer to\n",
      "    the documentation of this function for further details.\n",
      "\n",
      "    The scikit-learn maintainers therefore strongly discourage the use of this\n",
      "    dataset unless the purpose of the code is to study and educate about\n",
      "    ethical issues in data science and machine learning.\n",
      "\n",
      "    In this special case, you can fetch the dataset from the original\n",
      "    source::\n",
      "\n",
      "        import pandas as pd\n",
      "        import numpy as np\n",
      "\n",
      "        data_url = \"http://lib.stat.cmu.edu/datasets/boston\"\n",
      "        raw_df = pd.read_csv(data_url, sep=\"\\s+\", skiprows=22, header=None)\n",
      "        data = np.hstack([raw_df.values[::2, :], raw_df.values[1::2, :2]])\n",
      "        target = raw_df.values[1::2, 2]\n",
      "\n",
      "    Alternative datasets include the California housing dataset (i.e.\n",
      "    :func:`~sklearn.datasets.fetch_california_housing`) and the Ames housing\n",
      "    dataset. You can load the datasets as follows::\n",
      "\n",
      "        from sklearn.datasets import fetch_california_housing\n",
      "        housing = fetch_california_housing()\n",
      "\n",
      "    for the California housing dataset and::\n",
      "\n",
      "        from sklearn.datasets import fetch_openml\n",
      "        housing = fetch_openml(name=\"house_prices\", as_frame=True)\n",
      "\n",
      "    for the Ames housing dataset.\n",
      "  warnings.warn(msg, category=FutureWarning)\n"
     ]
    }
   ],
   "source": [
    "from sklearn.datasets import load_boston\n",
    "\n",
    "ds = load_boston()\n",
    "samples, label, feature_names = ds.data, ds.target, ds.feature_names\n",
    "print(samples.shape)\n",
    "print(feature_names)"
   ]
  },
  {
   "cell_type": "code",
   "execution_count": null,
   "metadata": {
    "colab": {
     "base_uri": "https://localhost:8080/"
    },
    "executionInfo": {
     "elapsed": 266,
     "status": "ok",
     "timestamp": 1643034540553,
     "user": {
      "displayName": "Ioannis Koutis",
      "photoUrl": "https://lh3.googleusercontent.com/a-/AOh14GhUpO_Yrmrro3LHDUXR4Z71Ig38y7Warh3Ph5dFgK0=s64",
      "userId": "17239720917701380808"
     },
     "user_tz": 300
    },
    "id": "635Xsy-CfGLO",
    "outputId": "4982df48-2c7e-43ed-e3a3-c8857c60ab92"
   },
   "outputs": [
    {
     "name": "stdout",
     "output_type": "stream",
     "text": [
      ".. _boston_dataset:\n",
      "\n",
      "Boston house prices dataset\n",
      "---------------------------\n",
      "\n",
      "**Data Set Characteristics:**  \n",
      "\n",
      "    :Number of Instances: 506 \n",
      "\n",
      "    :Number of Attributes: 13 numeric/categorical predictive. Median Value (attribute 14) is usually the target.\n",
      "\n",
      "    :Attribute Information (in order):\n",
      "        - CRIM     per capita crime rate by town\n",
      "        - ZN       proportion of residential land zoned for lots over 25,000 sq.ft.\n",
      "        - INDUS    proportion of non-retail business acres per town\n",
      "        - CHAS     Charles River dummy variable (= 1 if tract bounds river; 0 otherwise)\n",
      "        - NOX      nitric oxides concentration (parts per 10 million)\n",
      "        - RM       average number of rooms per dwelling\n",
      "        - AGE      proportion of owner-occupied units built prior to 1940\n",
      "        - DIS      weighted distances to five Boston employment centres\n",
      "        - RAD      index of accessibility to radial highways\n",
      "        - TAX      full-value property-tax rate per $10,000\n",
      "        - PTRATIO  pupil-teacher ratio by town\n",
      "        - B        1000(Bk - 0.63)^2 where Bk is the proportion of black people by town\n",
      "        - LSTAT    % lower status of the population\n",
      "        - MEDV     Median value of owner-occupied homes in $1000's\n",
      "\n",
      "    :Missing Attribute Values: None\n",
      "\n",
      "    :Creator: Harrison, D. and Rubinfeld, D.L.\n",
      "\n",
      "This is a copy of UCI ML housing dataset.\n",
      "https://archive.ics.uci.edu/ml/machine-learning-databases/housing/\n",
      "\n",
      "\n",
      "This dataset was taken from the StatLib library which is maintained at Carnegie Mellon University.\n",
      "\n",
      "The Boston house-price data of Harrison, D. and Rubinfeld, D.L. 'Hedonic\n",
      "prices and the demand for clean air', J. Environ. Economics & Management,\n",
      "vol.5, 81-102, 1978.   Used in Belsley, Kuh & Welsch, 'Regression diagnostics\n",
      "...', Wiley, 1980.   N.B. Various transformations are used in the table on\n",
      "pages 244-261 of the latter.\n",
      "\n",
      "The Boston house-price data has been used in many machine learning papers that address regression\n",
      "problems.   \n",
      "     \n",
      ".. topic:: References\n",
      "\n",
      "   - Belsley, Kuh & Welsch, 'Regression diagnostics: Identifying Influential Data and Sources of Collinearity', Wiley, 1980. 244-261.\n",
      "   - Quinlan,R. (1993). Combining Instance-Based and Model-Based Learning. In Proceedings on the Tenth International Conference of Machine Learning, 236-243, University of Massachusetts, Amherst. Morgan Kaufmann.\n",
      "\n"
     ]
    }
   ],
   "source": [
    "# Data description\n",
    "print(ds.DESCR)"
   ]
  },
  {
   "cell_type": "code",
   "execution_count": null,
   "metadata": {
    "colab": {
     "base_uri": "https://localhost:8080/"
    },
    "executionInfo": {
     "elapsed": 245,
     "status": "ok",
     "timestamp": 1643034543020,
     "user": {
      "displayName": "Ioannis Koutis",
      "photoUrl": "https://lh3.googleusercontent.com/a-/AOh14GhUpO_Yrmrro3LHDUXR4Z71Ig38y7Warh3Ph5dFgK0=s64",
      "userId": "17239720917701380808"
     },
     "user_tz": 300
    },
    "id": "rR8jIWSafGLR",
    "outputId": "f711d81b-cce3-43eb-a592-fa3a7851f48f"
   },
   "outputs": [
    {
     "data": {
      "text/plain": [
       "False"
      ]
     },
     "execution_count": 67,
     "metadata": {},
     "output_type": "execute_result"
    }
   ],
   "source": [
    "# check to see if there is any null data\n",
    "np.isnan(np.sum(samples))"
   ]
  },
  {
   "cell_type": "code",
   "execution_count": null,
   "metadata": {
    "id": "QMjtimPhfGLT"
   },
   "outputs": [],
   "source": [
    "# set print options to make things look nicer\n",
    "np.set_printoptions(suppress=True, linewidth=125)"
   ]
  },
  {
   "cell_type": "code",
   "execution_count": null,
   "metadata": {
    "colab": {
     "base_uri": "https://localhost:8080/"
    },
    "executionInfo": {
     "elapsed": 334,
     "status": "ok",
     "timestamp": 1643034546387,
     "user": {
      "displayName": "Ioannis Koutis",
      "photoUrl": "https://lh3.googleusercontent.com/a-/AOh14GhUpO_Yrmrro3LHDUXR4Z71Ig38y7Warh3Ph5dFgK0=s64",
      "userId": "17239720917701380808"
     },
     "user_tz": 300
    },
    "id": "hwXoQA_rfGLY",
    "outputId": "49a44aa5-60b0-43df-c0b5-660042e59a3c"
   },
   "outputs": [
    {
     "name": "stdout",
     "output_type": "stream",
     "text": [
      "\t\tCRIM\tZN\tINDUS\tCHAS\tNOX\tRM\tAGE\tDIS\tRAD\tTAX\tPTRATIO\tB\tLSTAT\n",
      "  median [\t0.3\t0.0\t9.7\t0.0\t0.5\t6.2\t77.5\t3.2\t5.0\t330.0\t19.0\t391.4\t11.4\t]\n",
      "variance [\t73.8\t542.9\t47.0\t0.1\t0.0\t0.5\t790.8\t4.4\t75.7\t28348.6\t4.7\t8318.3\t50.9\t]\n"
     ]
    }
   ],
   "source": [
    "# find median, variance of the data and put it out in nice looking format\n",
    "median = np.round(np.median(samples, axis=0), decimals=1)\n",
    "variance = np.round(np.var(samples, axis=0), decimals=1)\n",
    "basic_stats = np.vstack((median, variance))\n",
    "basic_stats_label = ['  median','variance']\n",
    "print('\\t\\tCRIM\\tZN\\tINDUS\\tCHAS\\tNOX\\tRM\\tAGE\\tDIS\\tRAD\\tTAX\\tPTRATIO\\tB\\tLSTAT')\n",
    "for basic_stats_label, row in zip(basic_stats_label, basic_stats):\n",
    "    print('{} [\\t{}]'.format(basic_stats_label,\"\".join('%s\\t'%i for i in row)))"
   ]
  },
  {
   "cell_type": "markdown",
   "metadata": {
    "id": "VS5mKl2lfGLb"
   },
   "source": [
    "## <font color='#008DFF'>  **Question 2 (25 points)**\n",
    "\n",
    "Use function <code>stats.describe</code> to retrieve the max min and average of samples then display it as in the expected output <br><br>\n",
    "\n",
    "<b>Expected Output:</b> Something that looks like the following or better: <br>\n",
    "<code>\t CRIM\tZN\tINDUS\tCHAS\tNOX\tRM\tAGE\tDIS\tRAD\tTAX\tPTRATIO\tB\tLSTAT\n",
    " min [\t0.0\t0.0\t0.5\t0.0\t0.4\t3.6\t2.9\t1.1\t1.0\t187.0\t12.6\t0.3\t1.7\t]\n",
    " max [\t89.0\t100.0\t27.7\t1.0\t0.9\t8.8\t100.0\t12.1\t24.0\t711.0\t22.0\t396.9\t38.0\t]\n",
    "mean [\t3.6\t11.4\t11.1\t0.1\t0.6\t6.3\t68.6\t3.8\t9.5\t408.2\t18.5\t356.7\t12.7\t]\n",
    "</code>\n",
    "\n",
    "<b>Answer</b>:"
   ]
  },
  {
   "cell_type": "code",
   "execution_count": 62,
   "metadata": {
    "id": "OkNtSOsIfGLb"
   },
   "outputs": [
    {
     "name": "stdout",
     "output_type": "stream",
     "text": [
      "\t\tCRIM\tZN\tINDUS\tCHAS\tNOX\tRM\tAGE\tDIS\tRAD\tTAX\tPTRATIO\tB\tLSTAT\n",
      "     min [\t0.0\t0.0\t0.5\t0.0\t0.4\t3.6\t2.9\t1.1\t1.0\t187.0\t12.6\t0.3\t1.7\t]\n",
      "     max [\t89.0\t100.0\t27.7\t1.0\t0.9\t8.8\t100.0\t12.1\t24.0\t711.0\t22.0\t396.9\t38.0\t]\n",
      "     mean [\t3.6\t11.4\t11.1\t0.1\t0.6\t6.3\t68.6\t3.8\t9.5\t408.2\t18.5\t356.7\t12.7\t]\n"
     ]
    }
   ],
   "source": [
    "# Your code here. Add more cells if needed\n",
    "import numpy as np\n",
    "\n",
    "\n",
    "# min\n",
    "min = np.round(np.min(samples, axis=0), decimals=1)\n",
    "# max\n",
    "max = np.round(np.max(samples, axis=0), decimals=1)\n",
    "# mean\n",
    "mean = np.round(np.mean(samples, axis=0), decimals=1)\n",
    "\n",
    "basic_stats = np.vstack((min,max,mean))\n",
    "basic_stats_label = ['     min','     max','     mean']\n",
    "\n",
    "# header\n",
    "print('\\t\\tCRIM\\tZN\\tINDUS\\tCHAS\\tNOX\\tRM\\tAGE\\tDIS\\tRAD\\tTAX\\tPTRATIO\\tB\\tLSTAT')\n",
    "\n",
    "# print(basic_stats[0])\n",
    "# basic_stats[0] is min,[1] is max etc... \n",
    "\n",
    "for basic_stats_label, row in zip(basic_stats_label, basic_stats):\n",
    "    # print all the data members in the row, separated by a tab.\n",
    "    # \"\".join('%s\\t'%i for i in row) iterates through row and puts it all into one string\n",
    "    #        separated by a tab.\n",
    "    print('{} [\\t{}]'.format(basic_stats_label,\"\".join('%s\\t'%i for i in row)))\n",
    "\n",
    "\n",
    "\n",
    "\n",
    "\n",
    "\n",
    "\n",
    "\n"
   ]
  },
  {
   "cell_type": "code",
   "execution_count": 23,
   "metadata": {
    "id": "zPnHTf9MfT5X"
   },
   "outputs": [
    {
     "ename": "NameError",
     "evalue": "name 'maxScore' is not defined",
     "output_type": "error",
     "traceback": [
      "\u001b[0;31m---------------------------------------------------------------------------\u001b[0m",
      "\u001b[0;31mNameError\u001b[0m                                 Traceback (most recent call last)",
      "Cell \u001b[0;32mIn[23], line 3\u001b[0m\n\u001b[1;32m      1\u001b[0m \u001b[38;5;66;03m# Grader's area\u001b[39;00m\n\u001b[0;32m----> 3\u001b[0m maxScore \u001b[38;5;241m+\u001b[39m\u001b[38;5;241m=\u001b[39m \u001b[38;5;241m25\u001b[39m\n\u001b[1;32m      4\u001b[0m \u001b[38;5;66;03m# actualScore +=\u001b[39;00m\n",
      "\u001b[0;31mNameError\u001b[0m: name 'maxScore' is not defined"
     ]
    }
   ],
   "source": [
    "# Grader's area\n",
    "\n",
    "maxScore += 25\n",
    "# actualScore +="
   ]
  },
  {
   "cell_type": "markdown",
   "metadata": {
    "id": "l3KaR1wZyRgK"
   },
   "source": [
    "-----------------\n",
    "-----------------\n",
    "-----------------\n",
    "-----------------"
   ]
  },
  {
   "cell_type": "code",
   "execution_count": 39,
   "metadata": {
    "colab": {
     "base_uri": "https://localhost:8080/",
     "height": 368
    },
    "executionInfo": {
     "elapsed": 677,
     "status": "ok",
     "timestamp": 1599704707559,
     "user": {
      "displayName": "Ioannis Koutis",
      "photoUrl": "https://lh3.googleusercontent.com/a-/AOh14Gj88YMRorz6z0Tz4baGdAALRkI2fBVTEWi0XdKh8A=s64",
      "userId": "17239720917701380808"
     },
     "user_tz": 240
    },
    "id": "FzOg-yJwfGLe",
    "outputId": "ffe8d9e9-2e0a-40dd-c2a8-7c36e01600ad"
   },
   "outputs": [
    {
     "data": {
      "image/png": "[encoded data removed]",
      "text/plain": [
       "<Figure size 640x480 with 1 Axes>"
      ]
     },
     "metadata": {},
     "output_type": "display_data"
    },
    {
     "name": "stdout",
     "output_type": "stream",
     "text": [
      "Bin sizes: [329.  26.  14.   9.  13.  12.  11.   9.   8.   9.   9.   6.   5.   4.\n",
      "   3.   7.   4.   4.   1.   1.   3.   1.   1.   1.   1.   1.   1.   3.\n",
      "   1.   0.   0.   1.   0.   0.   0.   0.   0.   0.   0.   0.   0.   1.\n",
      "   1.   0.   0.   0.   1.   0.   0.   0.   1.   0.   0.   0.   0.   0.\n",
      "   1.   0.   0.   0.   0.   0.   0.   0.   0.   0.   0.   0.   0.   0.\n",
      "   0.   0.   0.   0.   0.   1.   0.   0.   0.   0.   0.   1.   0.   0.\n",
      "   0.   0.   0.   0.   0.   0.   0.   0.   0.   0.   0.   0.   0.   0.\n",
      "   1.]\n"
     ]
    }
   ],
   "source": [
    "import matplotlib.pyplot as plt\n",
    "\n",
    "# let plot out to see what is the distribution of crime based on the data\n",
    "n, bins, patches = plt.hist(samples[:,0],bins='auto')\n",
    "plt.title('Distribution of crimes')\n",
    "plt.show()\n",
    "print('Bin sizes: {}'.format(n))"
   ]
  },
  {
   "cell_type": "markdown",
   "metadata": {
    "id": "53VG7TETfGLg"
   },
   "source": [
    "\n",
    "## <font color='#008DFF'> <b>Question 3 (25 points)</b>\n",
    "\n",
    "Plot out the histogram of another feature of the dataset that you are interested in, give the plot a title and also print out the bin sizes <br><br>\n",
    "<b>Answer</b>"
   ]
  },
  {
   "cell_type": "code",
   "execution_count": 49,
   "metadata": {
    "id": "MALZsy3AfGLg"
   },
   "outputs": [
    {
     "data": {
      "image/png": "[encoded data removed]",
      "text/plain": [
       "<Figure size 640x480 with 1 Axes>"
      ]
     },
     "metadata": {},
     "output_type": "display_data"
    },
    {
     "name": "stdout",
     "output_type": "stream",
     "text": [
      "Bin sizes: [ 1.  1.  0.  2.  1.  2.  1.  8.  5.  7. 17. 34. 56. 65. 75. 62. 42. 35.\n",
      " 26. 16. 15.  9.  4.  7.  4.  1.  7.  0.  3.]\n"
     ]
    }
   ],
   "source": [
    "# Your code here, add more cells if necessary\n",
    "\n",
    "import matplotlib.pyplot as plt\n",
    "\n",
    "# let plot out to see what is the distribution of crime based on the data\n",
    "n, bins, patches = plt.hist(samples[:,5],bins='auto')\n",
    "plt.title('Average Number of Rooms Per Dwelling')\n",
    "plt.show()\n",
    "\n",
    "\n",
    "print('Bin sizes: {}'.format(n))\n",
    "\n",
    "\n",
    "\n",
    "\n",
    "\n",
    "\n"
   ]
  },
  {
   "cell_type": "code",
   "execution_count": null,
   "metadata": {
    "id": "rGw6wsAfkHzL"
   },
   "outputs": [],
   "source": [
    "# Grader's area\n",
    "\n",
    "maxScore += 25\n",
    "# actualScore +="
   ]
  },
  {
   "cell_type": "markdown",
   "metadata": {
    "id": "cDbu6VbOxzNJ"
   },
   "source": [
    "------------------\n",
    "------------------\n",
    "------------------\n",
    "------------------\n",
    "\n",
    "\n",
    "\n",
    "\n"
   ]
  },
  {
   "cell_type": "code",
   "execution_count": null,
   "metadata": {
    "colab": {
     "base_uri": "https://localhost:8080/"
    },
    "executionInfo": {
     "elapsed": 206,
     "status": "ok",
     "timestamp": 1643035802723,
     "user": {
      "displayName": "Ioannis Koutis",
      "photoUrl": "https://lh3.googleusercontent.com/a-/AOh14GhUpO_Yrmrro3LHDUXR4Z71Ig38y7Warh3Ph5dFgK0=s64",
      "userId": "17239720917701380808"
     },
     "user_tz": 300
    },
    "id": "yTYkJsHgfGLk",
    "outputId": "9efadb71-e19d-4edc-923a-fe3e500bd474"
   },
   "outputs": [
    {
     "data": {
      "text/plain": [
       "array([[  0.00632,  18.     ,   2.31   , ...,  15.3    , 396.9    ,   4.98   ],\n",
       "       [  0.02731,   0.     ,   7.07   , ...,  17.8    , 396.9    ,   9.14   ],\n",
       "       [  0.02729,   0.     ,   7.07   , ...,  17.8    , 392.83   ,   4.03   ],\n",
       "       ...,\n",
       "       [  0.06076,   0.     ,  11.93   , ...,  21.     , 396.9    ,   5.64   ],\n",
       "       [  0.10959,   0.     ,  11.93   , ...,  21.     , 393.45   ,   6.48   ],\n",
       "       [  0.04741,   0.     ,  11.93   , ...,  21.     , 396.9    ,   7.88   ]])"
      ]
     },
     "execution_count": 71,
     "metadata": {},
     "output_type": "execute_result"
    }
   ],
   "source": [
    "def house_with_defined_age(dataset,age):\n",
    "    '''This function will return indices of all house with proportion of owner-occupied units built prior to 1940 greater than age%'''\n",
    "    ids = []\n",
    "    for id, record in enumerate(dataset):\n",
    "        if record[6]>age:\n",
    "            ids.append(id)\n",
    "    return ids\n",
    "\n",
    "\n",
    "# list out all records with units built prior to 1940 greater than 50%\n",
    "samples[house_with_defined_age(samples,50)]"
   ]
  },
  {
   "cell_type": "markdown",
   "metadata": {
    "id": "N3zhYgVKfGLm"
   },
   "source": [
    "\n",
    "## <font color='#008DFF'> **Question 4 (25 points)**\n",
    "\n",
    "Write a function that takes as input the given dataset, and two numbers $a$ and $b$, and returns the ids of houses that tax is either less than $a$ or more than $b$. Demonstrate how the function runs with two specific inputs $a$ and $b$ of your choice.\n",
    "\n"
   ]
  },
  {
   "cell_type": "code",
   "execution_count": 61,
   "metadata": {
    "id": "6_0OKNXtfGLn"
   },
   "outputs": [
    {
     "name": "stdout",
     "output_type": "stream",
     "text": [
      "[353]\n"
     ]
    }
   ],
   "source": [
    "# your code goes here\n",
    "\n",
    "def houseTaxLessThanAMoreThanB(dataset,a,b):\n",
    "    \"\"\"\n",
    "    returns the ids of houses that tax is either less than a\n",
    "     or more than b\n",
    "    \"\"\"\n",
    "    ids = []\n",
    "    #for data in dataset:\n",
    "    for id, data in enumerate(dataset):\n",
    "        # Since the tax rate is pee 10000s, need to multiply by 10000\n",
    "        if(data[9]*10000 < a):\n",
    "            ids.append(id)\n",
    "        if(data[9]*10000 > b):\n",
    "            ids.append(id)\n",
    "    return ids\n",
    "\n",
    "# tax is 9 element\n",
    "# 9 is  full-value property-tax rate per $10,000\n",
    "# we know the min tax is about 1870000\n",
    "# max tax is about 7110000\n",
    "\n",
    "ids = houseTaxLessThanAMoreThanB(samples,1880000,1000000000000)\n",
    "print(ids)\n",
    "\n",
    "# house id 353 has the least tax\n",
    "\n",
    "\n",
    "\n",
    "\n",
    "\n",
    "\n",
    "\n"
   ]
  },
  {
   "cell_type": "code",
   "execution_count": null,
   "metadata": {
    "colab": {
     "base_uri": "https://localhost:8080/"
    },
    "executionInfo": {
     "elapsed": 157,
     "status": "ok",
     "timestamp": 1623162284677,
     "user": {
      "displayName": "Huong Le",
      "photoUrl": "https://lh3.googleusercontent.com/a-/AOh14Gid2621ok1ucUwfTO0P9v00DeNy_D67l7f3CRPDoA=s64",
      "userId": "00017649464607136880"
     },
     "user_tz": 240
    },
    "id": "upNrvOZQAqVf",
    "outputId": "c8d62d35-b426-4f9c-93ab-6251b711fe47"
   },
   "outputs": [
    {
     "name": "stdout",
     "output_type": "stream",
     "text": [
      "0.0\n"
     ]
    }
   ],
   "source": [
    "# Grader's area\n",
    "\n",
    "maxScore += 25\n",
    "# actualScore +="
   ]
  },
  {
   "cell_type": "markdown",
   "metadata": {
    "id": "FwAL2fEc2cRP"
   },
   "source": [
    "------------------------------------------\n",
    "------------------------------------------\n",
    "------------------------------------------\n",
    "------------------------------------------"
   ]
  },
  {
   "cell_type": "markdown",
   "metadata": {
    "id": "oRMj1OX-B_fn"
   },
   "source": [
    "----------------------\n",
    "----------------------\n",
    "----------------------"
   ]
  },
  {
   "cell_type": "code",
   "execution_count": null,
   "metadata": {
    "id": "IVkneTzYCAxs"
   },
   "outputs": [],
   "source": [
    "#Grader's area\n",
    "\n",
    "rawScore = np.sum(M)\n",
    "score = rawScore*100/maxScore"
   ]
  },
  {
   "cell_type": "code",
   "execution_count": null,
   "metadata": {
    "id": "fo4TYoEFCSTt"
   },
   "outputs": [],
   "source": []
  }
 ],
 "metadata": {
  "colab": {
   "collapsed_sections": [
    "6icgEByffGKK",
    "BfRzbPUXfGKQ",
    "bdtCXeGxfGKS",
    "bQda4F4EfGK_"
   ],
   "provenance": [
    {
     "file_id": "1CXa3v8RH4FdhxBKpLbsAudjoqUAVTK_C",
     "timestamp": 1643031890308
    }
   ]
  },
  "kernelspec": {
   "display_name": "Python 3 (ipykernel)",
   "language": "python",
   "name": "python3"
  },
  "language_info": {
   "codemirror_mode": {
    "name": "ipython",
    "version": 3
   },
   "file_extension": ".py",
   "mimetype": "text/x-python",
   "name": "python",
   "nbconvert_exporter": "python",
   "pygments_lexer": "ipython3",
   "version": "3.10.7"
  }
 },
 "nbformat": 4,
 "nbformat_minor": 4
}
