{
 "cells": [
  {
   "cell_type": "markdown",
   "metadata": {
    "id": "Tajfsk_7JY3E"
   },
   "source": [
    "**Note to grader:** Each question is assigned with a score. The final score  will be (sum of actual scores)/(sum of maximum scores)*100. The grading rubrics are shown in the TA guidelines."
   ]
  },
  {
   "cell_type": "markdown",
   "metadata": {
    "id": "0EFEd0Xqs5A2"
   },
   "source": [
    "# **Assignment 2**\n",
    "\n",
    "This assignment walks you through the basics of the perceptron. You will also do some first experiments on a toy data set, and check the effect of hyperparameters. The intended goal of the assignment is to familiarize you further with the Jupyter/Colab environment and help you acquire some tools that we will later use to experiment with 'professional-grade' data sets and algorithms.\n",
    "\n",
    "\n",
    "<b>Note: </b> You must run/evaluate all cells. <b>Order of cell execution is important.<b>"
   ]
  },
  {
   "cell_type": "markdown",
   "metadata": {
    "id": "XFiUns92s5A3"
   },
   "source": [
    "## Preparation Steps"
   ]
  },
  {
   "cell_type": "code",
   "execution_count": 111,
   "metadata": {
    "executionInfo": {
     "elapsed": 543,
     "status": "ok",
     "timestamp": 1694019817753,
     "user": {
      "displayName": "Lijing Wang",
      "userId": "05105768752847961544"
     },
     "user_tz": 240
    },
    "id": "7LI03-u2s5A3"
   },
   "outputs": [],
   "source": [
    "# Import all necessary python packages\n",
    "import numpy as np\n",
    "import os\n",
    "import pandas as pd\n",
    "import matplotlib.pyplot as plt\n",
    "from matplotlib.colors import ListedColormap"
   ]
  },
  {
   "cell_type": "code",
   "execution_count": 112,
   "metadata": {
    "executionInfo": {
     "elapsed": 1568,
     "status": "ok",
     "timestamp": 1694019820529,
     "user": {
      "displayName": "Lijing Wang",
      "userId": "05105768752847961544"
     },
     "user_tz": 240
    },
    "id": "T_yXB--1s5A7"
   },
   "outputs": [],
   "source": [
    "# Load data\n",
    "from sklearn import datasets\n",
    "\n",
    "# load iris dataset\n",
    "iris = datasets.load_iris()\n",
    "# Since this is a bunch, create a dataframe\n",
    "df=pd.DataFrame(iris.data)\n",
    "df['4']=iris.target\n",
    "# {0:'setosa', 1:'versicolor', 2:'virginica'}\n",
    "# df.columns=['sepal_len', 'sepal_wid', 'petal_len', 'petal_wid', 'target']\n"
   ]
  },
  {
   "cell_type": "code",
   "execution_count": 113,
   "metadata": {
    "colab": {
     "base_uri": "https://localhost:8080/",
     "height": 449
    },
    "executionInfo": {
     "elapsed": 737,
     "status": "ok",
     "timestamp": 1694019837940,
     "user": {
      "displayName": "Lijing Wang",
      "userId": "05105768752847961544"
     },
     "user_tz": 240
    },
    "id": "M27Ih_Jys5A-",
    "outputId": "5dc16e68-6e56-4efa-fce3-b9ad9a9fc49b"
   },
   "outputs": [
    {
     "data": {
      "image/png": "[encoded data removed]",
      "text/plain": [
       "<Figure size 640x480 with 1 Axes>"
      ]
     },
     "metadata": {},
     "output_type": "display_data"
    }
   ],
   "source": [
    "# select setosa and versicolor\n",
    "y = df.iloc[0:100, 4].values\n",
    "y = np.where(y == 0, -1, 1)\n",
    "\n",
    "# extract sepal length and petal length\n",
    "X = df.iloc[:100, [0, 2]].values\n",
    "\n",
    "# plot data\n",
    "plt.scatter(X[:50, 0], X[:50, 1],\n",
    "            color='red', marker='o', label='setosa')\n",
    "plt.scatter(X[50:100, 0], X[50:100, 1],\n",
    "            color='blue', marker='x', label='versicolor')\n",
    "\n",
    "plt.xlabel('sepal length [cm]')\n",
    "plt.ylabel('petal length [cm]')\n",
    "plt.legend(loc='upper left')\n",
    "\n",
    "\n",
    "# plt.savefig('images/02_06.png', dpi=300)\n",
    "plt.show()"
   ]
  },
  {
   "cell_type": "markdown",
   "metadata": {
    "id": "mGypVpOlnmtY"
   },
   "source": [
    "-----------------------\n",
    "-----------------------\n",
    "-----------------------\n",
    "\n"
   ]
  },
  {
   "cell_type": "markdown",
   "metadata": {
    "id": "nu16p_t8s5BA"
   },
   "source": [
    "## <font color='#008DFF'> **Question 0. Manual Perceptron Training (10 points)**"
   ]
  },
  {
   "cell_type": "markdown",
   "metadata": {
    "id": "BDyWFxPjs5BB"
   },
   "source": [
    "Below you can see the first 5 data points of the data set, all labeled as 'setosa'."
   ]
  },
  {
   "cell_type": "code",
   "execution_count": 114,
   "metadata": {
    "id": "tEFG3hqRs5BB",
    "outputId": "b2cd5a4f-e4e0-404c-e750-015e8e98b657"
   },
   "outputs": [
    {
     "data": {
      "text/plain": [
       "(array([[5.1, 1.4],\n",
       "        [4.9, 1.4],\n",
       "        [4.7, 1.3],\n",
       "        [4.6, 1.5],\n",
       "        [5. , 1.4]]),\n",
       " array([-1, -1, -1, -1, -1]))"
      ]
     },
     "execution_count": 114,
     "metadata": {},
     "output_type": "execute_result"
    }
   ],
   "source": [
    "X[0:5], y[0:5]"
   ]
  },
  {
   "cell_type": "markdown",
   "metadata": {
    "id": "b_8xfoZEs5BE"
   },
   "source": [
    "Suppose the initial weights of the perceptron are w0=0.1, w1=0.2, w2=-0.1 . Here $w_0$ is the bias.\n",
    "\n",
    "In the following space (Double click this text), write the weights after processing data points 0,1,2, and show your calculations (with $\\eta = 0.1$):\n",
    "\n",
    "w0 + w1 x1 + w2 x2 = 0.1 + 0.2*5.1 - 0.1*1.4\n",
    "\n",
    "w2 := w2 + \\eta(y - y_hat)*x2\n",
    "w1 := w1 + \\eta(y - y_hat)*x1\n",
    "w0 := w0 + \\eta(y - y_hat)\n",
    "\n",
    "\n",
    "\n",
    "\n",
    "<br>\n",
    "<br>\n",
    "<br><br><br><br>\n",
    "\n",
    "\n",
    "\n",
    "\n",
    "\n",
    "\n",
    "\n",
    "\n",
    "\n",
    "\n"
   ]
  },
  {
   "cell_type": "code",
   "execution_count": 115,
   "metadata": {
    "id": "zPnHTf9MfT5X"
   },
   "outputs": [],
   "source": [
    "# Grader's area\n",
    "import numpy as np\n",
    "maxScore = 0\n",
    "\n",
    "maxScore += 10\n",
    "# acturalScore +="
   ]
  },
  {
   "cell_type": "markdown",
   "metadata": {
    "id": "aE0lUky4nrL5"
   },
   "source": [
    "-----------------------\n",
    "-----------------------\n",
    "-----------------------\n"
   ]
  },
  {
   "cell_type": "markdown",
   "metadata": {
    "id": "GZr0a5pas5BE"
   },
   "source": [
    "## <font color='#008DFF'> **Question 1. Perceptron Code Modification (15 points)**"
   ]
  },
  {
   "cell_type": "markdown",
   "metadata": {
    "id": "SpOkp4Ois5BE"
   },
   "source": [
    "The following code is a perceptron implementation (with three do-nothing lines 59-61)."
   ]
  },
  {
   "cell_type": "code",
   "execution_count": 116,
   "metadata": {
    "id": "zG3B5C1rs5BF"
   },
   "outputs": [],
   "source": [
    "import numpy as np\n",
    "\n",
    "\n",
    "class Perceptron(object):\n",
    "    \"\"\"Perceptron classifier.\n",
    "\n",
    "    Parameters\n",
    "    ------------\n",
    "    eta : float\n",
    "      Learning rate (between 0.0 and 1.0)\n",
    "    n_iter : int\n",
    "      Passes over the training dataset.\n",
    "    random_state : int\n",
    "      Random number generator seed for random weight\n",
    "      initialization.\n",
    "\n",
    "    Attributes\n",
    "    -----------\n",
    "    w_ : 1d-array\n",
    "      Weights after fitting.\n",
    "    errors_ : list\n",
    "      Number of misclassifications (updates) in each epoch.\n",
    "\n",
    "    \"\"\"\n",
    "    def __init__(self, eta=0.01, n_iter=50, random_state=1):\n",
    "        self.eta = eta\n",
    "        self.n_iter = n_iter\n",
    "        self.random_state = random_state\n",
    "\n",
    "    def fit(self, X, y):\n",
    "        \"\"\"Fit training data.\n",
    "\n",
    "        Parameters\n",
    "        ----------\n",
    "        X : {array-like}, shape = [n_examples, n_features]\n",
    "          Training vectors, where n_examples is the number of examples and\n",
    "          n_features is the number of features.\n",
    "        y : array-like, shape = [n_examples]\n",
    "          Target values.\n",
    "\n",
    "        Returns\n",
    "        -------\n",
    "        self : object\n",
    "\n",
    "        \"\"\"\n",
    "        rgen = np.random.RandomState(self.random_state)\n",
    "        self.w_ = rgen.normal(loc=0.0, scale=0.01, size=1 + X.shape[1])\n",
    "        self.errors_ = []\n",
    "\n",
    "        for _ in range(self.n_iter):\n",
    "            errors = 0\n",
    "            for xi, target in zip(X, y):\n",
    "                update = self.eta * (target - self.predict(xi))\n",
    "                self.w_[1:] += update * xi\n",
    "                self.w_[0] += update\n",
    "                errors += int(update != 0.0)\n",
    "            self.errors_.append(errors)\n",
    "\n",
    "            # my do-nothing code\n",
    "            LW = 2020\n",
    "            # my do-nothing code\n",
    "\n",
    "        return self\n",
    "\n",
    "    def net_input(self, X):\n",
    "        \"\"\"Calculate net input\"\"\"\n",
    "        return np.dot(X, self.w_[1:]) + self.w_[0]\n",
    "\n",
    "    def predict(self, X):\n",
    "        \"\"\"Return class label after unit step\"\"\"\n",
    "        return np.where(self.net_input(X) >= 0.0, 1, -1)"
   ]
  },
  {
   "cell_type": "markdown",
   "metadata": {
    "id": "KSp8dd3Ws5BH"
   },
   "source": [
    "\n",
    "Work on the above cell and modify the code so that:\n",
    "\n",
    "(i) The fit function stops when no more iterations are necessary. <br>\n",
    "(ii) The trained perceptron contains as an attribute not only its weights, but also the number of iterations it took for training <br>\n",
    "(iii) The perceptron maintains a history of its weights, i.e. the set of weights after each point is processed.\n",
    "\n",
    "To modify the code please insert your code with clear comments surrounding it, similarly to \"my do-nothing code\". Make sure you evaluate the cell again,  so that following cells will be using the modified perceptron.\n",
    "\n"
   ]
  },
  {
   "cell_type": "code",
   "execution_count": 117,
   "metadata": {
    "id": "jhbNBujBE6AZ"
   },
   "outputs": [],
   "source": [
    "# Grader's area\n",
    "\n",
    "maxScore += 15\n",
    "# acturalScore +="
   ]
  },
  {
   "cell_type": "markdown",
   "metadata": {
    "id": "HJnkSzlLntr7"
   },
   "source": [
    "-----------------------\n",
    "-----------------------\n",
    "-----------------------\n"
   ]
  },
  {
   "cell_type": "markdown",
   "metadata": {
    "id": "FE-HlQjrs5BH"
   },
   "source": [
    "## <font color='#008DFF'> **Question2: Experimenting with hyperparameters (15 points)**"
   ]
  },
  {
   "cell_type": "code",
   "execution_count": 118,
   "metadata": {
    "id": "_1LFHklis5BI",
    "outputId": "fa3b4cc4-bca8-43f3-b284-3138e26fa221"
   },
   "outputs": [
    {
     "data": {
      "image/png": "[encoded data removed]",
      "text/plain": [
       "<Figure size 640x480 with 1 Axes>"
      ]
     },
     "metadata": {},
     "output_type": "display_data"
    }
   ],
   "source": [
    "\n",
    "ppn = Perceptron(eta=.000001, n_iter=100, random_state=1)\n",
    "\n",
    "ppn.fit(X, y)\n",
    "\n",
    "plt.plot(range(1, len(ppn.errors_) + 1), ppn.errors_, marker='o')\n",
    "plt.xlabel('Epochs')\n",
    "plt.ylabel('Number of updates')\n",
    "\n",
    "\n",
    "plt.show()\n",
    "\n",
    "\n",
    "\n",
    "\n",
    "\n"
   ]
  },
  {
   "cell_type": "markdown",
   "metadata": {
    "id": "TPJ-seyas5BL"
   },
   "source": [
    "Running the above code, you can verify if your modification in question 1 works correctly. The point of this question is to experiment with the different hyperparameters. Here are some specific questions:<br>\n",
    "(i) Find the largest value of $\\eta$ for which the process takes more than 20 iterations to converge. Explain how you found that $\\eta$ <br>\n",
    "(ii) Are you able to find $\\eta>1$ for which the process fails to converge in less than 30 iterations? <br>\n",
    "(iii) Find two different settings for the random state, that give different convergence patterns, for the same $\\eta$.\n",
    "\n",
    "Please give your answers in the cell below."
   ]
  },
  {
   "cell_type": "markdown",
   "metadata": {
    "id": "VaV2vDTzs5BL"
   },
   "source": [
    "<br>Double click here to type your answer\n",
    "<br>\n",
    "<br>\n",
    "<br>\n",
    "<br>"
   ]
  },
  {
   "cell_type": "code",
   "execution_count": 119,
   "metadata": {
    "id": "nK1mGz3wFJXh"
   },
   "outputs": [],
   "source": [
    "# Grader's area\n",
    "\n",
    "maxScore += 15\n",
    "# acturalScore +="
   ]
  },
  {
   "cell_type": "markdown",
   "metadata": {
    "id": "-PoSjSM3nvv4"
   },
   "source": [
    "-----------------------\n",
    "-----------------------\n",
    "-----------------------\n"
   ]
  },
  {
   "cell_type": "markdown",
   "metadata": {
    "id": "gmq48m4Is5BM"
   },
   "source": [
    "## <font color='#008DFF'> **Question 3: Visualizing multiple decision regions over time (10 points)**"
   ]
  },
  {
   "cell_type": "markdown",
   "metadata": {
    "id": "2-japBw1s5BM"
   },
   "source": [
    "Here is the function for visualizing decision regions"
   ]
  },
  {
   "cell_type": "code",
   "execution_count": 120,
   "metadata": {
    "id": "xYEgTzp0s5BN"
   },
   "outputs": [],
   "source": [
    "from matplotlib.colors import ListedColormap\n",
    "\n",
    "\n",
    "def plot_decision_regions(X, y, classifier, resolution=0.02):\n",
    "\n",
    "    # setup marker generator and color map\n",
    "    markers = ('s', 'x', 'o', '^', 'v')\n",
    "    colors = ('red', 'blue', 'lightgreen', 'gray', 'cyan')\n",
    "    cmap = ListedColormap(colors[:len(np.unique(y))])\n",
    "\n",
    "    # plot the decision surface\n",
    "    x1_min, x1_max = X[:, 0].min() - 1, X[:, 0].max() + 1\n",
    "    x2_min, x2_max = X[:, 1].min() - 1, X[:, 1].max() + 1\n",
    "    xx1, xx2 = np.meshgrid(np.arange(x1_min, x1_max, resolution),\n",
    "                           np.arange(x2_min, x2_max, resolution))\n",
    "    Z = classifier.predict(np.array([xx1.ravel(), xx2.ravel()]).T)\n",
    "    Z = Z.reshape(xx1.shape)\n",
    "    plt.contourf(xx1, xx2, Z, alpha=0.3, cmap=cmap)\n",
    "    plt.xlim(xx1.min(), xx1.max())\n",
    "    plt.ylim(xx2.min(), xx2.max())\n",
    "\n",
    "    # plot class examples\n",
    "    for idx, cl in enumerate(np.unique(y)):\n",
    "        plt.scatter(x=X[y == cl, 0],\n",
    "                    y=X[y == cl, 1],\n",
    "                    alpha=0.8,\n",
    "                    c=colors[idx],\n",
    "                    marker=markers[idx],\n",
    "                    label=cl,\n",
    "                    edgecolor='black')"
   ]
  },
  {
   "cell_type": "code",
   "execution_count": 121,
   "metadata": {
    "id": "BuQZjt4Ls5BP",
    "outputId": "d5bb4731-f41f-40b8-c79f-d15243680fe0"
   },
   "outputs": [
    {
     "name": "stderr",
     "output_type": "stream",
     "text": [
      "/var/folders/v6/pwj1f55s6717cq1w1lh4fjkw0000gn/T/ipykernel_80168/2498697379.py:24: UserWarning: You passed a edgecolor/edgecolors ('black') for an unfilled marker ('x').  Matplotlib is ignoring the edgecolor in favor of the facecolor.  This behavior may change in the future.\n",
      "  plt.scatter(x=X[y == cl, 0],\n"
     ]
    },
    {
     "data": {
      "image/png": "[encoded data removed]",
      "text/plain": [
       "<Figure size 640x480 with 1 Axes>"
      ]
     },
     "metadata": {},
     "output_type": "display_data"
    }
   ],
   "source": [
    "plot_decision_regions(X, y, classifier=ppn)\n",
    "plt.xlabel('sepal length [cm]')\n",
    "plt.ylabel('petal length [cm]')\n",
    "plt.legend(loc='upper left')\n",
    "\n",
    "\n",
    "# plt.savefig('images/02_08.png', dpi=300)\n",
    "plt.show()"
   ]
  },
  {
   "cell_type": "markdown",
   "metadata": {
    "id": "1flxKzOJs5BR"
   },
   "source": [
    "Using the above, give code that plots the decision regions for the first 5 epochs. Use learning rate = 0.01 and random seed = 1 when applicable."
   ]
  },
  {
   "cell_type": "code",
   "execution_count": 122,
   "metadata": {
    "id": "ELrAxgSMs5BR"
   },
   "outputs": [],
   "source": [
    "#\n",
    "#\n",
    "#"
   ]
  },
  {
   "cell_type": "code",
   "execution_count": 123,
   "metadata": {
    "id": "XdYK3Wq-FdLx"
   },
   "outputs": [],
   "source": [
    "# Grader's area\n",
    "\n",
    "maxScore += 10\n",
    "# acturalScore +=\n"
   ]
  },
  {
   "cell_type": "markdown",
   "metadata": {
    "id": "25qE27hgnxUe"
   },
   "source": [
    "-----------------------\n",
    "-----------------------\n",
    "-----------------------\n"
   ]
  },
  {
   "cell_type": "markdown",
   "metadata": {
    "id": "K9NMguEVs5BU"
   },
   "source": [
    "## <font color='#008DFF'> **Question 4: Changing the data order in training (15 points)**\n",
    "\n"
   ]
  },
  {
   "cell_type": "markdown",
   "metadata": {
    "id": "YaspqG0Vs5BU"
   },
   "source": [
    "The data arrays (X,y) currently in the memory are organized so that the all data points with a given label (e.g. 'Setosa') lie in a contiguous part of the arrays (X,y). In this question we will check the impact of changing the order of the data in the number of iterations required to learn a correct perceptron.\n",
    "\n",
    "\n",
    "The commented code below needs a small change in order to generate a random shuffle (also called permutation) of the data). Please look up the particular functions of the code, see how they work and then do the required modification and uncomment/evaluate the code."
   ]
  },
  {
   "cell_type": "code",
   "execution_count": 124,
   "metadata": {
    "id": "p7vn0JpBs5BV"
   },
   "outputs": [],
   "source": [
    "# establish a random shuffle\n",
    "# s = np.arange(10)\n",
    "# np.random.shuffle(s)\n",
    "# shuffle sample\n",
    "# X_shuffle = X[s];\n",
    "# y_shuffle = y[s];\n"
   ]
  },
  {
   "cell_type": "code",
   "execution_count": null,
   "metadata": {
    "id": "y-UAs0IUs5BX"
   },
   "outputs": [],
   "source": []
  },
  {
   "cell_type": "markdown",
   "metadata": {
    "id": "iMRQkM_1s5BZ"
   },
   "source": [
    "Modify the code below as follows: <br>\n",
    "(i) Pick a sufficiently small $\\eta$ so that convergences takes 20 iterations or more <br>\n",
    "(ii) Add an extra line that fits the perceptron on the shuffled data <br>\n",
    "(iii) Plot the error for both training processes (the original, and the shuffled ata)\n",
    "\n",
    "What do you observe?"
   ]
  },
  {
   "cell_type": "code",
   "execution_count": 125,
   "metadata": {
    "id": "uL1T1_7As5BZ"
   },
   "outputs": [
    {
     "data": {
      "image/png": "[encoded data removed]",
      "text/plain": [
       "<Figure size 640x480 with 1 Axes>"
      ]
     },
     "metadata": {},
     "output_type": "display_data"
    }
   ],
   "source": [
    "\n",
    "ppn.fit(X, y)\n",
    "\n",
    "plt.plot(range(1, len(ppn.errors_) + 1), ppn.errors_, marker='o')\n",
    "plt.xlabel('Epochs')\n",
    "plt.ylabel('Number of updates')\n",
    "\n",
    "# plt.savefig('images/02_07.png', dpi=300)\n",
    "plt.show()"
   ]
  },
  {
   "cell_type": "markdown",
   "metadata": {
    "id": "XA3HAeKJs5Bc"
   },
   "source": [
    "-- Give your answers here\n",
    "\n",
    "<br>\n",
    "<br>\n",
    "<br>"
   ]
  },
  {
   "cell_type": "code",
   "execution_count": 126,
   "metadata": {
    "id": "0RXr9FkQFikr"
   },
   "outputs": [],
   "source": [
    "# Grader's area\n",
    "\n",
    "maxScore += 15\n",
    "# acturalScore +="
   ]
  },
  {
   "cell_type": "markdown",
   "metadata": {
    "id": "Tq_fo7MQnysW"
   },
   "source": [
    "-----------------------\n",
    "-----------------------\n",
    "-----------------------\n"
   ]
  },
  {
   "cell_type": "markdown",
   "metadata": {
    "id": "2AYf1oGGs5Bi"
   },
   "source": [
    "## <font color='#008DFF'> **Question 5: Understanding linear transformations (20 points)**\n",
    "\n",
    "Suppose we have a 2-dimensional data set. Then we transform each data point $X_j = (X_{j,1}, X_{j,2})$ as follows: $\\tilde{X_j} = ( a X_{j,1} - c, b X_{j,2}-c)$, where $a,b,c$ are constant numbers. This is a linear transformation, because our transformed data comes from simple operations that use 'first powers' of the original data.\n",
    "\n",
    "\n",
    "If our given data set is linearly separable, is the same true for the transformed one? In the following cells you can plot a transformed version of the Iris dataset, so that you see how it behaves (for your choice of $a, b, c$.) But you should also try and justify your answer in a theoretical way: if there exists a  'good' perceptron for the original data set, what would be the weights for the perceptron that works on the transformed set?"
   ]
  },
  {
   "cell_type": "code",
   "execution_count": null,
   "metadata": {
    "id": "oXawcufks5Bi"
   },
   "outputs": [],
   "source": []
  },
  {
   "cell_type": "code",
   "execution_count": 127,
   "metadata": {
    "id": "NVpxHL7PH0K5"
   },
   "outputs": [],
   "source": [
    "# Grader's area\n",
    "\n",
    "maxScore += 20\n",
    "# acturalScore +=\n"
   ]
  },
  {
   "cell_type": "code",
   "execution_count": null,
   "metadata": {
    "id": "dzi3tg8ZITdP"
   },
   "outputs": [],
   "source": []
  },
  {
   "cell_type": "markdown",
   "metadata": {
    "id": "rPupiZJMnz7N"
   },
   "source": [
    "-----------------------\n",
    "-----------------------\n",
    "-----------------------\n"
   ]
  },
  {
   "cell_type": "markdown",
   "metadata": {
    "id": "vsYrJLtXLXXl"
   },
   "source": [
    "## <font color='#008DFF'> **Question 6: Linear regression with numpy 1-liners (15 points)**"
   ]
  },
  {
   "cell_type": "code",
   "execution_count": 128,
   "metadata": {
    "id": "ZF6ZpxTdLdN0"
   },
   "outputs": [],
   "source": [
    "# here we initialize a random data matrix X and random numerical labels y\n",
    "import numpy as np\n",
    "\n",
    "X = np.random.randn(10,3)\n",
    "y = np.random.randn(10,1)\n",
    "\n",
    "# we also initialize a hypothetical hyperplane defined by w and b\n",
    "w = np.random.randn(1,3)\n",
    "b = -1\n"
   ]
  },
  {
   "cell_type": "code",
   "execution_count": 129,
   "metadata": {
    "id": "OFJ8HyPwMF_1"
   },
   "outputs": [],
   "source": [
    "# (i) find the numerical labels predicted by the model (w,b) for the points in X\n",
    "#     your code should be a single numpy line\n",
    "#     hint: we wrote this equation for a single point x in class\n",
    "#           try to generalize it by expressing everying in terms of matrices\n",
    "\n",
    "# your code goes here\n",
    "\n",
    "# y_predicted =\n"
   ]
  },
  {
   "cell_type": "code",
   "execution_count": 130,
   "metadata": {
    "id": "YwVDmS_mM-iU"
   },
   "outputs": [],
   "source": [
    "# (ii) find the updated weights after one application of gradient descent with lr = 0.1\n",
    "#      your code should be a single numpy line\n",
    "\n",
    "\n",
    "\n"
   ]
  },
  {
   "cell_type": "code",
   "execution_count": null,
   "metadata": {
    "id": "CIf0uLDCO-80"
   },
   "outputs": [],
   "source": []
  },
  {
   "cell_type": "code",
   "execution_count": 131,
   "metadata": {
    "id": "mJJp2OGPnKpX"
   },
   "outputs": [],
   "source": [
    "# Grader's area\n",
    "\n",
    "maxScore += 15\n",
    "# acturalScore +=\n"
   ]
  },
  {
   "cell_type": "markdown",
   "metadata": {
    "id": "66XBKQj-n_hZ"
   },
   "source": [
    "-----------------------\n",
    "-----------------------\n",
    "-----------------------\n"
   ]
  },
  {
   "cell_type": "code",
   "execution_count": 132,
   "metadata": {
    "id": "IVkneTzYCAxs"
   },
   "outputs": [
    {
     "ename": "NameError",
     "evalue": "name 'actualScore' is not defined",
     "output_type": "error",
     "traceback": [
      "\u001b[0;31m---------------------------------------------------------------------------\u001b[0m",
      "\u001b[0;31mNameError\u001b[0m                                 Traceback (most recent call last)",
      "Cell \u001b[0;32mIn[132], line 3\u001b[0m\n\u001b[1;32m      1\u001b[0m \u001b[38;5;66;03m#Grader's area\u001b[39;00m\n\u001b[0;32m----> 3\u001b[0m score \u001b[38;5;241m=\u001b[39m \u001b[43mactualScore\u001b[49m\u001b[38;5;241m*\u001b[39m\u001b[38;5;241m100\u001b[39m\u001b[38;5;241m/\u001b[39mmaxScore\n",
      "\u001b[0;31mNameError\u001b[0m: name 'actualScore' is not defined"
     ]
    }
   ],
   "source": [
    "#Grader's area\n",
    "\n",
    "score = actualScore*100/maxScore"
   ]
  }
 ],
 "metadata": {
  "colab": {
   "provenance": []
  },
  "kernelspec": {
   "display_name": "Python 3 (ipykernel)",
   "language": "python",
   "name": "python3"
  },
  "language_info": {
   "codemirror_mode": {
    "name": "ipython",
    "version": 3
   },
   "file_extension": ".py",
   "mimetype": "text/x-python",
   "name": "python",
   "nbconvert_exporter": "python",
   "pygments_lexer": "ipython3",
   "version": "3.10.7"
  },
  "vscode": {
   "interpreter": {
    "hash": "31f2aee4e71d21fbe5cf8b01ff0e069b9275f58929596ceb00d14d90e3e16cd6"
   }
  }
 },
 "nbformat": 4,
 "nbformat_minor": 4
}
