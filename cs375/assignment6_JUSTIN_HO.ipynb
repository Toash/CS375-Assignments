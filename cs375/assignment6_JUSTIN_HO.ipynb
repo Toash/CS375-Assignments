{
 "cells": [
  {
   "cell_type": "markdown",
   "metadata": {
    "id": "Tajfsk_7JY3E"
   },
   "source": [
    "Note to grader: Each question is assigned with a score. The final score will be (sum of actual scores)/(sum of maximum scores)*100. The grading rubrics are shown in the TA guidelines.\n"
   ]
  },
  {
   "cell_type": "code",
   "execution_count": 2,
   "metadata": {
    "id": "zPnHTf9MfT5X"
   },
   "outputs": [],
   "source": [
    "# Grader's area\n",
    "import numpy as np\n",
    "actualScore = 0\n",
    "maxScore = 0\n"
   ]
  },
  {
   "cell_type": "markdown",
   "metadata": {
    "id": "1NnOFlqPI1qn"
   },
   "source": [
    "# **Assignment 6**\n",
    "<br>\n",
    "\n",
    "<font>"
   ]
  },
  {
   "cell_type": "code",
   "execution_count": 3,
   "metadata": {
    "colab": {
     "base_uri": "https://localhost:8080/"
    },
    "executionInfo": {
     "elapsed": 3849,
     "status": "ok",
     "timestamp": 1669594310079,
     "user": {
      "displayName": "Lijing Wang",
      "userId": "05105768752847961544"
     },
     "user_tz": 300
    },
    "id": "zSyX_FIzI1qn",
    "outputId": "3193866c-85db-4ffd-98bf-708a61796d8c"
   },
   "outputs": [
    {
     "data": {
      "text/plain": [
       "<torch._C.Generator at 0x11ea4f170>"
      ]
     },
     "execution_count": 3,
     "metadata": {},
     "output_type": "execute_result"
    }
   ],
   "source": [
    "from IPython.display import Math\n",
    "from IPython.display import Latex\n",
    "\n",
    "import numpy as np\n",
    "import os\n",
    "import struct\n",
    "\n",
    "from sklearn.metrics import classification_report,confusion_matrix\n",
    "from sklearn.neural_network import MLPClassifier\n",
    "\n",
    "import torch\n",
    "import torchvision\n",
    "import torchvision.transforms as transforms\n",
    "import torch.nn as nn\n",
    "import torch.nn.functional as F\n",
    "import torch.optim as optim\n",
    "\n",
    "import matplotlib.pyplot as plt\n",
    "import pandas as pd\n",
    "\n",
    "from sklearn.datasets import fetch_openml\n",
    "from sklearn.model_selection import train_test_split\n",
    "\n",
    "torch.manual_seed(0)"
   ]
  },
  {
   "cell_type": "markdown",
   "metadata": {
    "id": "cc6kqRYyliiK"
   },
   "source": [
    "----------------\n",
    "----------------\n",
    "----------------"
   ]
  },
  {
   "cell_type": "markdown",
   "metadata": {
    "id": "aXayK-GxI1qo"
   },
   "source": [
    "## <font color='blue'> **Question 1.** Visualizing convergence. </font>\n",
    "\n",
    "Modify this code so that in every epoch it records:\n",
    "\n",
    "**a.** The training loss, accuracy [10 pt] <br>\n",
    "**b.** The test loss, accuracy [10 pt] \n",
    "\n",
    "Then:\n",
    "\n",
    "**c.** Run the model for 20 epochs and give two plots (one for losses, one for accuracies) for the convergence behavior over 20 epochs. [10 pt]\n",
    "\n",
    "<br>\n",
    "\n",
    "**Note:**\n",
    "Make sure you avoid updating the weights when you use the test set. For that you should consult the notebook from CNNs lecture. \n",
    "\n",
    "\n"
   ]
  },
  {
   "cell_type": "code",
   "execution_count": 4,
   "metadata": {
    "colab": {
     "base_uri": "https://localhost:8080/",
     "height": 103,
     "referenced_widgets": [
      "06e9f209f81f40e0a42acf4d95ee3b32",
      "1c7301ed3fd048808219cbd372e0a1f2",
      "90862cb91a9846a0bad159787eece80e",
      "866df4a4181d43e6a83274a4072269ee",
      "ea44b592fe2d440b8f431ff4d52f1283",
      "77ff2000c64e4572aafaf3c0b33aabe3",
      "88b8aabe37e2488180d663e02c260c39",
      "9ede07f570264f5b8a241df9a9e560d5",
      "caa9ffb9069b4aeda6a324f2329b7c89",
      "d40f6a3fd11341dc90ea2b578aac8bfd",
      "37b060b5c6b54aa0af2da6bca88160da"
     ]
    },
    "executionInfo": {
     "elapsed": 18830,
     "status": "ok",
     "timestamp": 1669594331520,
     "user": {
      "displayName": "Lijing Wang",
      "userId": "05105768752847961544"
     },
     "user_tz": 300
    },
    "id": "Lcn-Ia3cfnLV",
    "outputId": "28527e4a-5311-4586-fef3-8f0c35be83ac"
   },
   "outputs": [
    {
     "name": "stdout",
     "output_type": "stream",
     "text": [
      "Files already downloaded and verified\n",
      "Files already downloaded and verified\n"
     ]
    }
   ],
   "source": [
    "transform = transforms.Compose(\n",
    "    [transforms.ToTensor(),\n",
    "     transforms.Normalize((0.5, 0.5, 0.5), (0.5, 0.5, 0.5))])\n",
    "\n",
    "batch_size = 4\n",
    "\n",
    "trainset = torchvision.datasets.CIFAR10(root='./data', train=True,\n",
    "                                        download=True, transform=transform)\n",
    "trainloader = torch.utils.data.DataLoader(trainset, batch_size=batch_size,\n",
    "                                          shuffle=True, num_workers=2)\n",
    "\n",
    "testset = torchvision.datasets.CIFAR10(root='./data', train=False,\n",
    "                                       download=True, transform=transform)\n",
    "testloader = torch.utils.data.DataLoader(testset, batch_size=batch_size,\n",
    "                                         shuffle=False, num_workers=2)\n",
    "\n",
    "classes = ('plane', 'car', 'bird', 'cat',\n",
    "           'deer', 'dog', 'frog', 'horse', 'ship', 'truck')"
   ]
  },
  {
   "cell_type": "code",
   "execution_count": 5,
   "metadata": {
    "id": "Yh40HV0dfnLZ"
   },
   "outputs": [],
   "source": [
    "import torch.nn as nn\n",
    "import torch.nn.functional as F\n",
    "\n",
    "\n",
    "class Net(nn.Module):\n",
    "    def __init__(self):\n",
    "        super().__init__()\n",
    "        # 3 input channels  ( r, g , b)\n",
    "        # 6 output channels ( 6 learned features)\n",
    "        # 5x5 filter, to learn feature in each output channel\n",
    "        self.conv1 = nn.Conv2d(3, 6, 5)\n",
    "\n",
    "        # 2x2 max pool reduce dimensionality\n",
    "        self.pool = nn.MaxPool2d(2, 2)\n",
    "        \n",
    "        self.conv2 = nn.Conv2d(6, 16, 5)\n",
    "\n",
    "        # fully connected layers\n",
    "        self.fc1 = nn.Linear(16 * 5 * 5, 120)\n",
    "        self.fc2 = nn.Linear(120, 84)\n",
    "        self.fc3 = nn.Linear(84, 10)\n",
    "\n",
    "    def forward(self, x):\n",
    "        x = self.pool(F.relu(self.conv1(x)))\n",
    "        x = self.pool(F.relu(self.conv2(x)))\n",
    "        # flatten all dimensions except batch\n",
    "        # Batch dimension contains the batches of data.\n",
    "        x = torch.flatten(x, 1)\n",
    "        x = F.relu(self.fc1(x))\n",
    "        x = F.relu(self.fc2(x))\n",
    "        x = self.fc3(x) # output layer\n",
    "        return x\n",
    "\n",
    "# initialize the model\n",
    "net = Net()"
   ]
  },
  {
   "cell_type": "code",
   "execution_count": 6,
   "metadata": {
    "id": "XjqjPvy9fnLa"
   },
   "outputs": [],
   "source": [
    "import torch.optim as optim\n",
    "\n",
    "criterion = nn.CrossEntropyLoss()\n",
    "# pass reference of parameters to optimizer so it knows \n",
    "#       the networks weights and biases during training\n",
    "optimizer = optim.SGD(net.parameters(), lr=0.001, momentum=0.9)"
   ]
  },
  {
   "cell_type": "code",
   "execution_count": 7,
   "metadata": {
    "colab": {
     "base_uri": "https://localhost:8080/"
    },
    "executionInfo": {
     "elapsed": 153847,
     "status": "ok",
     "timestamp": 1649697448726,
     "user": {
      "displayName": "Ioannis Koutis",
      "userId": "17239720917701380808"
     },
     "user_tz": 240
    },
    "id": "7A-T2D1CfnLa",
    "outputId": "ab3a4d68-3576-4a6e-e250-ac96be43e410"
   },
   "outputs": [
    {
     "name": "stdout",
     "output_type": "stream",
     "text": [
      "[Epoch 1, datapoint  2000] minibatch loss: 2.213\n",
      "[Epoch 1, datapoint  4000] minibatch loss: 1.871\n",
      "[Epoch 1, datapoint  6000] minibatch loss: 1.705\n",
      "[Epoch 1, datapoint  8000] minibatch loss: 1.589\n",
      "[Epoch 1, datapoint 10000] minibatch loss: 1.531\n",
      "[Epoch 1, datapoint 12000] minibatch loss: 1.486\n",
      "Overall training loss for epoch 1: 1.7209375285410882\n",
      "Training accuracy for epoch 1: 48.55%\n",
      "Overall testing loss for epoch 1: 0.2882468935084343\n",
      "Testing accuracy for epoch 1: 47.82%\n",
      "[Epoch 2, datapoint  2000] minibatch loss: 1.398\n",
      "[Epoch 2, datapoint  4000] minibatch loss: 1.394\n",
      "[Epoch 2, datapoint  6000] minibatch loss: 1.363\n",
      "[Epoch 2, datapoint  8000] minibatch loss: 1.334\n",
      "[Epoch 2, datapoint 10000] minibatch loss: 1.316\n",
      "[Epoch 2, datapoint 12000] minibatch loss: 1.306\n",
      "Overall training loss for epoch 2: 1.3506786934220791\n",
      "Training accuracy for epoch 2: 55.652%\n",
      "Overall testing loss for epoch 2: 0.2564122547125816\n",
      "Testing accuracy for epoch 2: 53.76%\n",
      "Finished Training\n"
     ]
    }
   ],
   "source": [
    "# add training loss\n",
    "# add testing loss\n",
    "\n",
    "\n",
    "# given model and dataset (datapoints and labels) calculates the percentage of correctly classified points\n",
    "def calculate_accuracy(model, dataset):\n",
    "    sample_count = len(dataset)\n",
    "    correct_count=0\n",
    "    for data in dataset:\n",
    "        inputs, labels = data\n",
    "        outputs = model(inputs)\n",
    "        _, predicted = torch.max(outputs, 1)\n",
    "        correct_count += (predicted == labels).sum().item()\n",
    "\n",
    "    accuracy = (correct_count / len(dataset.dataset)) * 100\n",
    "    return accuracy\n",
    "    \n",
    "for epoch in range(2):  # loop over the dataset multiple times\n",
    "    overall_training_loss =0\n",
    "    overall_testing_loss=0\n",
    "    running_loss = 0.0\n",
    "\n",
    "    # a.\n",
    "    #Trainig data\n",
    "    for i, data in enumerate(trainloader):\n",
    "        # looking at minibatch\n",
    "        # get the inputs; data is a list of [inputs, labels]\n",
    "        inputs, labels = data\n",
    "\n",
    "        optimizer.zero_grad()\n",
    "\n",
    "        # forward + backward + optimize\n",
    "        outputs = net(inputs)\n",
    "        loss = criterion(outputs, labels)\n",
    "        loss.backward()\n",
    "        optimizer.step() # update model to make more accurate\n",
    "\n",
    "        running_loss += loss.item()\n",
    "        overall_training_loss += loss.item()\n",
    "\n",
    "        if i % 2000 == 1999:    # print every 2000 mini-batches\n",
    "            print(f'[Epoch {epoch + 1}, datapoint {i + 1:5d}] minibatch loss: {running_loss / 2000:.3f}')\n",
    "            running_loss = 0.0\n",
    "\n",
    "    print(f'Overall training loss for epoch {epoch+1}: {overall_training_loss / len(trainloader)}')\n",
    "     # calculate accuracy\n",
    "    training_accuracy = calculate_accuracy(net,trainloader);\n",
    "    \n",
    "    print(f'Training accuracy for epoch {epoch+1}: {training_accuracy}%')\n",
    "\n",
    "    # b.\n",
    "    # get loss and accuracy on test data\n",
    "    for i, data in enumerate(testloader, 0):\n",
    "        inputs, labels = data\n",
    "        outputs = net(inputs)\n",
    "        loss = criterion(outputs, labels)\n",
    "        overall_testing_loss += loss.item()\n",
    "    print(f'Overall testing loss for epoch {epoch+1}: {overall_testing_loss / len(trainloader)}')\n",
    "\n",
    "     # calculate accuracy\n",
    "    testing_accuracy = calculate_accuracy(net,testloader);\n",
    "    \n",
    "    print(f'Testing accuracy for epoch {epoch+1}: {testing_accuracy}%')\n",
    "print('Finished Training')"
   ]
  },
  {
   "cell_type": "code",
   "execution_count": 8,
   "metadata": {
    "id": "ZL_sboa1I1qq"
   },
   "outputs": [],
   "source": [
    "### Your code here. Also give some comments about your findings\n",
    "\n",
    "#c. \n",
    "\n",
    "\n",
    "\n",
    "\n"
   ]
  },
  {
   "cell_type": "code",
   "execution_count": 9,
   "metadata": {
    "id": "IllLoXxGAIIo"
   },
   "outputs": [],
   "source": [
    "# For grader use only\n",
    "\n",
    "\n",
    "maxScore = maxScore + 30\n"
   ]
  },
  {
   "cell_type": "markdown",
   "metadata": {
    "id": "oko-ZnXEpBMc"
   },
   "source": [
    "------------------------------\n",
    "------------------------------\n",
    "------------------------------"
   ]
  },
  {
   "cell_type": "markdown",
   "metadata": {
    "id": "XuJnvM2n3xwe"
   },
   "source": [
    "## <font color='blue'> **Question 2.** Learning random labels. </font>\n",
    "\n",
    "Reuse the above code, but instead of using the given input labels on the training set, use random labels. Then run for 40 epochs. \n",
    "<br>\n",
    "\n",
    "**a.** Report the plots for the training accuracy. **[10 pt]** <br>\n",
    "**b.** What is the final training accuracy and final testing accuracy? **[10 pt]** <br>\n",
    "**c.** What would be the expected accuracy for a random baseline model? **[10 pt]**\n",
    "\n",
    "\n",
    "\n"
   ]
  },
  {
   "cell_type": "code",
   "execution_count": 21,
   "metadata": {
    "id": "vpgPvakW5_mj"
   },
   "outputs": [
    {
     "name": "stdout",
     "output_type": "stream",
     "text": [
      "Successfully got training labels.\n"
     ]
    },
    {
     "data": {
      "image/png": "[encoded data removed]",
      "text/plain": [
       "<Figure size 640x480 with 1 Axes>"
      ]
     },
     "metadata": {},
     "output_type": "display_data"
    }
   ],
   "source": [
    "## your code goes here\n",
    "\n",
    "# initialize the model\n",
    "net = Net()\n",
    "criterion = nn.CrossEntropyLoss()\n",
    "optimizer = optim.SGD(net.parameters(), lr=0.001, momentum=0.9)\n",
    "\n",
    "# a. \n",
    "train_accuracies = []\n",
    "epochs = 2\n",
    "\n",
    "training_labels = torch.tensor([])\n",
    "for data in trainloader:\n",
    "    inputs,labels=data\n",
    "    training_labels = torch.cat([training_labels,labels],dim=0)\n",
    "print(\"Successfully got training labels.\")\n",
    "\n",
    "\n",
    "for epoch in range(epochs):\n",
    "    epoch_training_loss = 0\n",
    "    epoch_outputs = torch.tensor([])\n",
    "    epoch_correct_count=0\n",
    "    for data in trainloader:\n",
    "        # dont need labels cause we using random ones\n",
    "        inputs,_ = data\n",
    "        random_labels = torch.randint(0,10,(4,))\n",
    "        optimizer.zero_grad()\n",
    "\n",
    "        #net inputs is 4 tensors\n",
    "\n",
    "        # outputs represents probability for each class\n",
    "        outputs = net(inputs)\n",
    "        \n",
    "        epoch_outputs = torch.cat([epoch_outputs,net(inputs)],dim=0)\n",
    "        \n",
    "        loss=criterion(outputs, random_labels)\n",
    "        loss.backward()\n",
    "        optimizer.step()\n",
    "        epoch_training_loss += loss.item()\n",
    "\n",
    "    # accuracy of epoch\n",
    "    # indexes represent the classes that the model things is the correct one\n",
    "    values, indexes = torch.max(epoch_outputs, 1)\n",
    "\n",
    "    # predicted \n",
    "    #print(labels)\n",
    "    epoch_correct_count += (indexes == training_labels).sum().item()\n",
    "    train_accuracy = (epoch_correct_count / len(training_labels)) * 100\n",
    "    train_accuracies.append(train_accuracy)\n",
    "        \n",
    "\n",
    "    #train_accuracy = calculate_accuracy(net,trainloader)\n",
    "    #print(f'Training accuracy for epoch {epoch+1}: {train_accuracy}')\n",
    "    \n",
    "\n",
    "\n",
    "# plot\n",
    "plt.plot(range(1, epochs+1), train_accuracies, label='Training Accuracy')\n",
    "plt.xlabel('Epochs')\n",
    "plt.ylabel('Accuracy (percentage)')\n",
    "plt.ylim(0,100)\n",
    "plt.legend()\n",
    "plt.show()\n",
    "\n",
    "\n",
    "# b. \n",
    "\n",
    "print(f'Final training accuracy: {calculate_accuracy(net,trainloader)}%')\n",
    "print(f'Final testing accuracy: {calculate_accuracy(net,testloader)}%')\n",
    "\n",
    "\n",
    "# c.\n",
    "\n",
    "# The expected accuracy for a random baseline model would be 10% since there are 10 classes in total.\n",
    "\n",
    "\n",
    "\n",
    "\n"
   ]
  },
  {
   "cell_type": "code",
   "execution_count": null,
   "metadata": {},
   "outputs": [],
   "source": []
  },
  {
   "cell_type": "code",
   "execution_count": null,
   "metadata": {
    "id": "F4Hy_Qqw6S39"
   },
   "outputs": [],
   "source": [
    "# For grader use only\n",
    "\n",
    "\n",
    "maxScore = maxScore + 30\n"
   ]
  },
  {
   "cell_type": "markdown",
   "metadata": {
    "id": "H-1GJYqC5-pg"
   },
   "source": [
    "------------------------------\n",
    "------------------------------\n",
    "------------------------------"
   ]
  },
  {
   "cell_type": "markdown",
   "metadata": {
    "id": "yYOedRCd8JHV"
   },
   "source": [
    "## <font color='blue'> **Question 3.** Modifying the model for MNIST. </font>\n",
    "\n",
    "Let's now work with the MNIST dataset. \n",
    "<br>\n",
    "\n",
    "**a.** Download and prepare the dataloaders for the standard MNIST dataset. **[10 pt]** <br>\n",
    "**b.** Modify the model so that it works with the MNIST dataset. The inner array sizes should be roughly similar, but you can adjust them in the way you choose **[20 pt]** <br>\n",
    "**c.** Report the training and test accuracy after 10 epochs **[10 pt]**\n",
    "\n",
    "\n",
    "\n"
   ]
  },
  {
   "cell_type": "code",
   "execution_count": null,
   "metadata": {
    "id": "6TfuUCRt8RSA"
   },
   "outputs": [],
   "source": [
    "## your code goes here\n",
    "\n",
    "#a. \n",
    "# applied before loading images in nnet\n",
    "transform = torchvision.transforms.Compose([transforms.ToTensor(), transforms.Normalize((0.5,),(0.5,))])\n",
    "\n",
    "trainset = torchvision.datasets.MNIST(\"./data\",download = True, train=True,transform=transform)\n",
    "trainloader = torch.utils.data.DataLoader(trainset, batch_size=64,shuffle=True)\n",
    "\n",
    "testset = torchvision.datasets.MNIST(\"./data\",download=True,train=False, transform=transform)\n",
    "testloader = torch.utils.data.DataLoader(testset,batch_size=64,shuffle=False)\n",
    "\n",
    "#b. \n",
    "# change the input channels to 1 (mnist is grayscale)\n",
    "\n",
    "net.conv1 = nn.Conv2d(1, 6, 5)\n",
    "\n",
    "net.fc1 = nn.Linear(16*4*4, 120)\n",
    "# reset model parameters (training on new dataset)\n",
    "for layer in net.children():\n",
    "   if hasattr(layer, 'reset_parameters'):\n",
    "       layer.reset_parameters()\n",
    "\n",
    "for epoch in range(10):\n",
    "    epoch_training_loss = 0\n",
    "    for data in trainloader:\n",
    "        # dont need labels cause we using random ones\n",
    "        inputs,labels = data\n",
    "        optimizer.zero_grad()\n",
    "        outputs = net(inputs)\n",
    "        loss=criterion(outputs, labels)\n",
    "        loss.backward()\n",
    "        optimizer.step()\n",
    "        epoch_training_loss += loss.item()\n",
    "    \n",
    "    print(f'Training accuracy for epoch {epoch+1}: {calculate_accuracy(net,trainloader)}%')\n",
    "\n",
    "print(f'Training accuracy after 10 epochs')"
   ]
  },
  {
   "cell_type": "code",
   "execution_count": null,
   "metadata": {
    "id": "pSWFyJ_k7-cT"
   },
   "outputs": [],
   "source": [
    "# For grader use only\n",
    "\n",
    "\n",
    "\n",
    "maxScore = maxScore + 40\n"
   ]
  },
  {
   "cell_type": "markdown",
   "metadata": {
    "id": "0QM-Sapd-xOI"
   },
   "source": [
    "------------------------------\n",
    "------------------------------\n",
    "------------------------------"
   ]
  },
  {
   "cell_type": "markdown",
   "metadata": {
    "id": "vllcX_eV-nTw"
   },
   "source": [
    "## <font color='blue'> **Question 4.** MNIST on randomly permuted images. [**optional**]</font>\n",
    "\n",
    "In this question we will see whether a CNN remains as effective for randomly permuted images. \n",
    "<br>\n",
    "\n",
    "**a.** Find a way to randomly permute the entries of a 2d array in numpy or a 2d tensor in PyTorch. This should be 2-3 lines of code - feel free to discuss it on Canvas. **[10 pt]** <br>\n",
    "**b.** Train the model from question 3 on a training set where the images in the training set have re-arranged in a **random** way, which however is the **same** across all images. **[20 pt]** <br>\n",
    "**c.** Report the training and test accuracy after 10 epochs, and after 20 epochs. **[10 pt]**\n",
    "\n",
    "\n",
    "\n"
   ]
  },
  {
   "cell_type": "code",
   "execution_count": null,
   "metadata": {
    "id": "ahIO9qUvAmvE"
   },
   "outputs": [],
   "source": [
    "## your code goes here\n",
    "\n",
    "\n",
    "\n",
    "\n",
    "\n",
    "\n",
    "\n",
    "\n",
    "\n",
    "\n",
    "\n",
    "\n",
    "\n"
   ]
  },
  {
   "cell_type": "code",
   "execution_count": null,
   "metadata": {
    "id": "DLCVKEDkAmvW"
   },
   "outputs": [],
   "source": [
    "# For grader use only\n",
    "\n",
    "\n",
    "maxScore = maxScore + 40"
   ]
  },
  {
   "cell_type": "markdown",
   "metadata": {
    "id": "mK6g1y403w7a"
   },
   "source": []
  },
  {
   "cell_type": "code",
   "execution_count": null,
   "metadata": {
    "id": "fydXo8GRGkbp"
   },
   "outputs": [],
   "source": [
    "# for grader use\n",
    "\n",
    "# Total Grade Calculation\n",
    "\n",
    "score = actualScore*100/maxScore"
   ]
  }
 ],
 "metadata": {
  "colab": {
   "provenance": []
  },
  "kernelspec": {
   "display_name": "Python 3 (ipykernel)",
   "language": "python",
   "name": "python3"
  },
  "language_info": {
   "codemirror_mode": {
    "name": "ipython",
    "version": 3
   },
   "file_extension": ".py",
   "mimetype": "text/x-python",
   "name": "python",
   "nbconvert_exporter": "python",
   "pygments_lexer": "ipython3",
   "version": "3.10.7"
  },
  "widgets": {
   "application/vnd.jupyter.widget-state+json": {
    "06e9f209f81f40e0a42acf4d95ee3b32": {
     "model_module": "@jupyter-widgets/controls",
     "model_module_version": "1.5.0",
     "model_name": "HBoxModel",
     "state": {
      "_dom_classes": [],
      "_model_module": "@jupyter-widgets/controls",
      "_model_module_version": "1.5.0",
      "_model_name": "HBoxModel",
      "_view_count": null,
      "_view_module": "@jupyter-widgets/controls",
      "_view_module_version": "1.5.0",
      "_view_name": "HBoxView",
      "box_style": "",
      "children": [
       "IPY_MODEL_1c7301ed3fd048808219cbd372e0a1f2",
       "IPY_MODEL_90862cb91a9846a0bad159787eece80e",
       "IPY_MODEL_866df4a4181d43e6a83274a4072269ee"
      ],
      "layout": "IPY_MODEL_ea44b592fe2d440b8f431ff4d52f1283"
     }
    },
    "1c7301ed3fd048808219cbd372e0a1f2": {
     "model_module": "@jupyter-widgets/controls",
     "model_module_version": "1.5.0",
     "model_name": "HTMLModel",
     "state": {
      "_dom_classes": [],
      "_model_module": "@jupyter-widgets/controls",
      "_model_module_version": "1.5.0",
      "_model_name": "HTMLModel",
      "_view_count": null,
      "_view_module": "@jupyter-widgets/controls",
      "_view_module_version": "1.5.0",
      "_view_name": "HTMLView",
      "description": "",
      "description_tooltip": null,
      "layout": "IPY_MODEL_77ff2000c64e4572aafaf3c0b33aabe3",
      "placeholder": "​",
      "style": "IPY_MODEL_88b8aabe37e2488180d663e02c260c39",
      "value": "100%"
     }
    },
    "37b060b5c6b54aa0af2da6bca88160da": {
     "model_module": "@jupyter-widgets/controls",
     "model_module_version": "1.5.0",
     "model_name": "DescriptionStyleModel",
     "state": {
      "_model_module": "@jupyter-widgets/controls",
      "_model_module_version": "1.5.0",
      "_model_name": "DescriptionStyleModel",
      "_view_count": null,
      "_view_module": "@jupyter-widgets/base",
      "_view_module_version": "1.2.0",
      "_view_name": "StyleView",
      "description_width": ""
     }
    },
    "77ff2000c64e4572aafaf3c0b33aabe3": {
     "model_module": "@jupyter-widgets/base",
     "model_module_version": "1.2.0",
     "model_name": "LayoutModel",
     "state": {
      "_model_module": "@jupyter-widgets/base",
      "_model_module_version": "1.2.0",
      "_model_name": "LayoutModel",
      "_view_count": null,
      "_view_module": "@jupyter-widgets/base",
      "_view_module_version": "1.2.0",
      "_view_name": "LayoutView",
      "align_content": null,
      "align_items": null,
      "align_self": null,
      "border": null,
      "bottom": null,
      "display": null,
      "flex": null,
      "flex_flow": null,
      "grid_area": null,
      "grid_auto_columns": null,
      "grid_auto_flow": null,
      "grid_auto_rows": null,
      "grid_column": null,
      "grid_gap": null,
      "grid_row": null,
      "grid_template_areas": null,
      "grid_template_columns": null,
      "grid_template_rows": null,
      "height": null,
      "justify_content": null,
      "justify_items": null,
      "left": null,
      "margin": null,
      "max_height": null,
      "max_width": null,
      "min_height": null,
      "min_width": null,
      "object_fit": null,
      "object_position": null,
      "order": null,
      "overflow": null,
      "overflow_x": null,
      "overflow_y": null,
      "padding": null,
      "right": null,
      "top": null,
      "visibility": null,
      "width": null
     }
    },
    "866df4a4181d43e6a83274a4072269ee": {
     "model_module": "@jupyter-widgets/controls",
     "model_module_version": "1.5.0",
     "model_name": "HTMLModel",
     "state": {
      "_dom_classes": [],
      "_model_module": "@jupyter-widgets/controls",
      "_model_module_version": "1.5.0",
      "_model_name": "HTMLModel",
      "_view_count": null,
      "_view_module": "@jupyter-widgets/controls",
      "_view_module_version": "1.5.0",
      "_view_name": "HTMLView",
      "description": "",
      "description_tooltip": null,
      "layout": "IPY_MODEL_d40f6a3fd11341dc90ea2b578aac8bfd",
      "placeholder": "​",
      "style": "IPY_MODEL_37b060b5c6b54aa0af2da6bca88160da",
      "value": " 170498071/170498071 [00:10&lt;00:00, 17803177.03it/s]"
     }
    },
    "88b8aabe37e2488180d663e02c260c39": {
     "model_module": "@jupyter-widgets/controls",
     "model_module_version": "1.5.0",
     "model_name": "DescriptionStyleModel",
     "state": {
      "_model_module": "@jupyter-widgets/controls",
      "_model_module_version": "1.5.0",
      "_model_name": "DescriptionStyleModel",
      "_view_count": null,
      "_view_module": "@jupyter-widgets/base",
      "_view_module_version": "1.2.0",
      "_view_name": "StyleView",
      "description_width": ""
     }
    },
    "90862cb91a9846a0bad159787eece80e": {
     "model_module": "@jupyter-widgets/controls",
     "model_module_version": "1.5.0",
     "model_name": "FloatProgressModel",
     "state": {
      "_dom_classes": [],
      "_model_module": "@jupyter-widgets/controls",
      "_model_module_version": "1.5.0",
      "_model_name": "FloatProgressModel",
      "_view_count": null,
      "_view_module": "@jupyter-widgets/controls",
      "_view_module_version": "1.5.0",
      "_view_name": "ProgressView",
      "bar_style": "success",
      "description": "",
      "description_tooltip": null,
      "layout": "IPY_MODEL_9ede07f570264f5b8a241df9a9e560d5",
      "max": 170498071,
      "min": 0,
      "orientation": "horizontal",
      "style": "IPY_MODEL_caa9ffb9069b4aeda6a324f2329b7c89",
      "value": 170498071
     }
    },
    "9ede07f570264f5b8a241df9a9e560d5": {
     "model_module": "@jupyter-widgets/base",
     "model_module_version": "1.2.0",
     "model_name": "LayoutModel",
     "state": {
      "_model_module": "@jupyter-widgets/base",
      "_model_module_version": "1.2.0",
      "_model_name": "LayoutModel",
      "_view_count": null,
      "_view_module": "@jupyter-widgets/base",
      "_view_module_version": "1.2.0",
      "_view_name": "LayoutView",
      "align_content": null,
      "align_items": null,
      "align_self": null,
      "border": null,
      "bottom": null,
      "display": null,
      "flex": null,
      "flex_flow": null,
      "grid_area": null,
      "grid_auto_columns": null,
      "grid_auto_flow": null,
      "grid_auto_rows": null,
      "grid_column": null,
      "grid_gap": null,
      "grid_row": null,
      "grid_template_areas": null,
      "grid_template_columns": null,
      "grid_template_rows": null,
      "height": null,
      "justify_content": null,
      "justify_items": null,
      "left": null,
      "margin": null,
      "max_height": null,
      "max_width": null,
      "min_height": null,
      "min_width": null,
      "object_fit": null,
      "object_position": null,
      "order": null,
      "overflow": null,
      "overflow_x": null,
      "overflow_y": null,
      "padding": null,
      "right": null,
      "top": null,
      "visibility": null,
      "width": null
     }
    },
    "caa9ffb9069b4aeda6a324f2329b7c89": {
     "model_module": "@jupyter-widgets/controls",
     "model_module_version": "1.5.0",
     "model_name": "ProgressStyleModel",
     "state": {
      "_model_module": "@jupyter-widgets/controls",
      "_model_module_version": "1.5.0",
      "_model_name": "ProgressStyleModel",
      "_view_count": null,
      "_view_module": "@jupyter-widgets/base",
      "_view_module_version": "1.2.0",
      "_view_name": "StyleView",
      "bar_color": null,
      "description_width": ""
     }
    },
    "d40f6a3fd11341dc90ea2b578aac8bfd": {
     "model_module": "@jupyter-widgets/base",
     "model_module_version": "1.2.0",
     "model_name": "LayoutModel",
     "state": {
      "_model_module": "@jupyter-widgets/base",
      "_model_module_version": "1.2.0",
      "_model_name": "LayoutModel",
      "_view_count": null,
      "_view_module": "@jupyter-widgets/base",
      "_view_module_version": "1.2.0",
      "_view_name": "LayoutView",
      "align_content": null,
      "align_items": null,
      "align_self": null,
      "border": null,
      "bottom": null,
      "display": null,
      "flex": null,
      "flex_flow": null,
      "grid_area": null,
      "grid_auto_columns": null,
      "grid_auto_flow": null,
      "grid_auto_rows": null,
      "grid_column": null,
      "grid_gap": null,
      "grid_row": null,
      "grid_template_areas": null,
      "grid_template_columns": null,
      "grid_template_rows": null,
      "height": null,
      "justify_content": null,
      "justify_items": null,
      "left": null,
      "margin": null,
      "max_height": null,
      "max_width": null,
      "min_height": null,
      "min_width": null,
      "object_fit": null,
      "object_position": null,
      "order": null,
      "overflow": null,
      "overflow_x": null,
      "overflow_y": null,
      "padding": null,
      "right": null,
      "top": null,
      "visibility": null,
      "width": null
     }
    },
    "ea44b592fe2d440b8f431ff4d52f1283": {
     "model_module": "@jupyter-widgets/base",
     "model_module_version": "1.2.0",
     "model_name": "LayoutModel",
     "state": {
      "_model_module": "@jupyter-widgets/base",
      "_model_module_version": "1.2.0",
      "_model_name": "LayoutModel",
      "_view_count": null,
      "_view_module": "@jupyter-widgets/base",
      "_view_module_version": "1.2.0",
      "_view_name": "LayoutView",
      "align_content": null,
      "align_items": null,
      "align_self": null,
      "border": null,
      "bottom": null,
      "display": null,
      "flex": null,
      "flex_flow": null,
      "grid_area": null,
      "grid_auto_columns": null,
      "grid_auto_flow": null,
      "grid_auto_rows": null,
      "grid_column": null,
      "grid_gap": null,
      "grid_row": null,
      "grid_template_areas": null,
      "grid_template_columns": null,
      "grid_template_rows": null,
      "height": null,
      "justify_content": null,
      "justify_items": null,
      "left": null,
      "margin": null,
      "max_height": null,
      "max_width": null,
      "min_height": null,
      "min_width": null,
      "object_fit": null,
      "object_position": null,
      "order": null,
      "overflow": null,
      "overflow_x": null,
      "overflow_y": null,
      "padding": null,
      "right": null,
      "top": null,
      "visibility": null,
      "width": null
     }
    }
   }
  }
 },
 "nbformat": 4,
 "nbformat_minor": 4
}
